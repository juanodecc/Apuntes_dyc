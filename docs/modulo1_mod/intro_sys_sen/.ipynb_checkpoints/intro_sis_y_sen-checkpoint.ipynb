{
 "cells": [
  {
   "cell_type": "markdown",
   "metadata": {
    "slideshow": {
     "slide_type": "slide"
    }
   },
   "source": [
    "# Definiciones de Sistemas y Señales\n",
    "\n",
    "Los modelos matemáticos proveen de una predicción de como el sistema se va a comportar o evolucionar. Para el diseño de sistemas de control retroalimentado, los **modelos NO son exactos** porque la retroalimentación provee de robustes.\n",
    "* **Sistema**: conjunto de componentes interactuantes.\n",
    "* **Señal**: es una función, típicamente del tiempo, y posiblemente de alguna otra variable (como ser coordenadas espaciales) que representa alguna magnitud de interés asociada con el sistema."
   ]
  },
  {
   "cell_type": "markdown",
   "metadata": {
    "slideshow": {
     "slide_type": "subslide"
    }
   },
   "source": [
    "## Sistemas"
   ]
  },
  {
   "cell_type": "markdown",
   "metadata": {
    "slideshow": {
     "slide_type": "subslide"
    }
   },
   "source": [
    "### Esquema básico de un sistema\n",
    "<img style=\"display:block; margin-left: auto; margin-right: auto;\" src=\"sis_general2.png\" width=\"600\" alt=\"Esquema de sistema\">\n",
    "\n",
    "* Sistemas con **una** única entrada y **una** única salida se denominan **SISO** (Single-Input/Single-Output), o escalares, o monovariables.\n",
    "\n",
    "* Sistemas con **múltiples** entradas y **múltiples** salidas se denominan **MIMO** (Multiple-Input/Multiple-Output), o multivariables.\n",
    "* Los sistemas no necesariamente están restringidos a sistemas físicos. Pueden ser biológicos, económicos, computacionales, informáticos, sociales, etc."
   ]
  },
  {
   "cell_type": "markdown",
   "metadata": {
    "slideshow": {
     "slide_type": "subslide"
    }
   },
   "source": [
    "## Señales"
   ]
  },
  {
   "cell_type": "markdown",
   "metadata": {},
   "source": [
    "### Ejemplos"
   ]
  },
  {
   "cell_type": "markdown",
   "metadata": {
    "slideshow": {
     "slide_type": "subslide"
    }
   },
   "source": [
    "**Señales de Voz (variable independiente: tiempo).**\n",
    "<img style=\"display:block; margin-left: auto; margin-right: auto;\" src=\"signal_voice.png\" width=\"800\" alt=\"Señal de voz\">\n",
    "Señales en un electrocardiógrafo, o electroencefalóguto;"
   ]
  },
  {
   "cell_type": "markdown",
   "metadata": {
    "slideshow": {
     "slide_type": "subslide"
    }
   },
   "source": [
    "**Señales en un electrocardiógrafo, o electroencefalógrafo (variable independiente tiempo)**\n",
    "<img style=\"display:block; margin-left: auto; margin-right: auto;\" src=\"signal_electro.png\" width=\"600\" alt=\"Señal de Electrocardiograma\">"
   ]
  },
  {
   "cell_type": "markdown",
   "metadata": {
    "slideshow": {
     "slide_type": "subslide"
    }
   },
   "source": [
    "**Imagen digital (dos variables independientes: coordenadas espaciales del pixel)**\n",
    "<img style=\"display:block; margin-left: auto; margin-right: auto;\" src=\"signal_image.png\" width=\"256\" alt=\"Imagen Digital (256x256) pixels\">"
   ]
  },
  {
   "cell_type": "markdown",
   "metadata": {
    "slideshow": {
     "slide_type": "slide"
    }
   },
   "source": [
    "### Definiciones relativas a las señales"
   ]
  },
  {
   "cell_type": "markdown",
   "metadata": {
    "slideshow": {
     "slide_type": "slide"
    },
    "toc-hr-collapsed": true,
    "toc-nb-collapsed": true
   },
   "source": [
    "* La interacción de los componentes en el sistema genera señales **observables** y **no observables**. Las **observables** son las que efectivamente se miden.\n",
    "* Las señales observables que son de nuestro interés son usualmente denominadas **salidas** del sistema y las denotaremos con $y$.\n",
    "* El sistema está también afectado por estímulos externos. Las señales externas que pueden ser manipuladas son usualmente llamadas **entradas**, que denotamos con $u$\n",
    "* Las señales externas que no pueden ser manipuladas son llamadas **perturbaciones** que denotaremos en general con $d$.\n",
    "* Las perturbaciones suelen dividirse en aquellas que pueden medirse directamente y aquellas que se ponen en evidencia sólo a traves de su influencia en las salidas."
   ]
  },
  {
   "cell_type": "markdown",
   "metadata": {
    "slideshow": {
     "slide_type": "slide"
    }
   },
   "source": [
    "### Señales importantes"
   ]
  },
  {
   "cell_type": "markdown",
   "metadata": {
    "slideshow": {
     "slide_type": "slide"
    }
   },
   "source": [
    "#### Impuso unitario:\n",
    "\n",
    "Esta señal impulso $\\rho(t)$ es de la siguiente forma:\n",
    "1. Amplitud $\\dfrac{1}{T}$ en $t=0$.\n",
    "1. Duración $T$.\n",
    "1. $T\\rightarrow 0.$\n",
    "\n",
    "Es decir es una señal que tiene un area bajo su curva (integral) igual 1, tiene un duración que tiende a 0, y una amplitud que tiende a infinito.\n",
    "\n",
    "Fisicamente esta señal es irrealizable. Sin embargo modela bien la física en algunos eventos cotidianos, como puede ser la fuerza aplicada un cuerpo cuando se le da un martillazo, el chispazo ocurrido cuando se desechufa un artefacto electrico (modela la tensión), etc."
   ]
  },
  {
   "cell_type": "markdown",
   "metadata": {},
   "source": [
    "#### Señal escalón\n",
    "\n",
    "La señal escalón se define de la siguiente manera:\n",
    "\n",
    "$$\\mu(t) = \\left\\{\n",
    "\\begin{eqnarray}\n",
    "0\\quad &\\quad \\text{si}& t<0\\\\\n",
    "1\\quad &\\quad \\text{si} &t\\geq 0\\\\\n",
    "\\end{eqnarray} \\right.$$"
   ]
  },
  {
   "cell_type": "markdown",
   "metadata": {},
   "source": [
    "#### Relación entre el escalón y el impulso unitario\n",
    "\n",
    "La relación entre el impulso y el escalón es la siguiente:\n",
    "\n",
    "$$\\frac{d\\mu(t)}{dt} = \\rho(t) $$\n",
    "\n",
    "Es decir, la derivada de la función escalón es el impulsola función impulso unitario."
   ]
  },
  {
   "cell_type": "markdown",
   "metadata": {
    "slideshow": {
     "slide_type": "slide"
    }
   },
   "source": [
    "## **Ejemplo #1:** Sistema electromecánico (motor eléctrico)\n",
    "\n",
    "### Modelado\n",
    "\n",
    "En este caso queremos obtener un modelo a partir de ecuaciones matemáticas que describa el comportamiento dinámico de un motor eléctrico. Consideraremos para este ejemplo un motor de corriente contínua e imán permantente.\n",
    "\n",
    "<img style=\"display:block; margin-left: auto; margin-right: auto;\" src=\"motor.png\" width=\"450\" alt=\"Motor\">\n",
    "\n",
    "[![motor: descripción](motor_parte0.png)](https://youtu.be/ztMgB1UofxU \"Motor eléctrico: descripción\")\n",
    "\n",
    "\n",
    "Algunas  simplificaciones que consideraremos para este modelo son:\n",
    "1. La resistencia, inductancia, masa (o momento de inercia) y \"viscosidad\" son constantes. Es decir, no contemplaremos cambios de ningun tipo, como por ejemplo el efecto de la temperatura.\n",
    "1. El rozamiento vizcoso es lineal. Es decir, la vizcocidad es es proporcional a la velocidad ($\\tau_d=D_m*\\omega$). \n",
    "\n",
    "<img style=\"display:block; margin-left: auto; margin-right: auto;\" src=\"fig_circuito_motor.png\" width=\"450\" alt=\"Sistema electromecánico\">"
   ]
  },
  {
   "cell_type": "markdown",
   "metadata": {},
   "source": [
    "### Desarrollo de las ecuaciónes\n",
    "\n",
    "El circuito eléctrico se relaciona con el mecánico, y viceversa, por medio de la siguientes ecuaciones:\n",
    "$$\n",
    "\\begin{aligned}\n",
    "V_b(t) &= K_b \\frac{d\\theta_m(t)}{dt} \\qquad \\text{(fuerza contraelectromotriz)}\\\\\n",
    " T_m(t) &= K_t i_a(t) \n",
    "\\end{aligned}\n",
    "$$\n",
    "para las mismas unidades $K_t = K_b$"
   ]
  },
  {
   "cell_type": "markdown",
   "metadata": {},
   "source": [
    "$$\n",
    "\\begin{aligned}\n",
    "R_a i_a(t) + L_a \\frac{di_a(t)}{dt} + V_b(t) = e_a(t) ~~ (Ecs. del circuito eléctrico)\\\\\n",
    "T_m(t) - T_r(t) - D_m\\frac{d\\theta_m(t)}{dt} = J_m \\frac{d^2\\theta_m(t)}{dt^2} ~~ (Ecs. mecánica)\n",
    "\\end{aligned}\n",
    "$$"
   ]
  },
  {
   "cell_type": "markdown",
   "metadata": {},
   "source": [
    "Reemplazando obtenemos el sistema de ecuaciones de parámetros concentrados lineal e invariante en el tiempo o LTI (Linear Time Invariant) lo que resulta en ecuaciones ordinarias lineales a coeficientes constantes:\n",
    "\n",
    "$$ R_a i_a(t) + L_a \\frac{di_a(t)}{dt} + K_b \\frac{d\\theta_m(t)}{dt} = e_a(t) $$ \n",
    "$$ K_t i_a(t) - T_r(t) - D_m\\frac{d\\theta_m(t)}{dt} = J_m \\frac{d^2\\theta_m(t)}{dt^2} $$\n"
   ]
  },
  {
   "cell_type": "markdown",
   "metadata": {
    "slideshow": {
     "slide_type": "fragment"
    }
   },
   "source": [
    "**Esquema**\n",
    "<img style=\"display:block; margin-left: auto; margin-right: auto;\" src=\"esquema_motor.png\" width=\"450\" alt=\"Esquema Rotacional\">"
   ]
  },
  {
   "cell_type": "markdown",
   "metadata": {
    "slideshow": {
     "slide_type": "slide"
    }
   },
   "source": [
    "## Linealidad\n",
    "\n",
    "Un sistema es lineal si verifica el **Principio de Superposición**, tanto para entradas como para condiciones iniciales.\n",
    "\n",
    "Si para una entrada $u_1$ aplicada en el instante $t_0$, con el sistema en un estado inicial $\\sum_0$, la salida es $y_1$ , y para una entrada $u_2$ aplicada en el instante $t_0$, con el sistema en un estado inicial $\\sum_0$, la salida es $y_2$\n",
    "entonces si se aplica una $c_1u_1 +c_2u_2$  entrada en el instante $t_0$, con el sistema en un estado inicial $\\sum_0$, la salida será $c_1y_1 +c_2y_2$"
   ]
  },
  {
   "cell_type": "markdown",
   "metadata": {
    "slideshow": {
     "slide_type": "subslide"
    }
   },
   "source": [
    "<img style=\"display:block; margin-left: auto; margin-right: auto;\" src=\"superposicion1.png\" width=\"450\" alt=\"Hipotesis de superposicion\">\n"
   ]
  },
  {
   "cell_type": "markdown",
   "metadata": {
    "slideshow": {
     "slide_type": "fragment"
    }
   },
   "source": [
    "<img style=\"display:block; margin-left: auto; margin-right: auto;\" src=\"superposicion2.png\" width=\"400\" alt=\"Conclusion superposicion\">"
   ]
  },
  {
   "cell_type": "markdown",
   "metadata": {
    "slideshow": {
     "slide_type": "notes"
    }
   },
   "source": [
    "*  Es claro que esta propiedad, como fue definida, es imposible de verificar en la práctica, ya que no se pueden realizar los ensayos propuestos en el mismo período de tiempo.\n",
    "* Debemos asumir entonces que el sistema no cambia con el tiempo (propiedad de **estacionariedad** o **invariacia en el tiempo**, que definiremos más adelante), de manera que podemos realizar los ensayos a distintos tiempos a partir del sistema en el mismo estado inicial.\n",
    "* Un sistema que no verifica el principio de Superposición se denomina **no lineal**.\n"
   ]
  },
  {
   "cell_type": "markdown",
   "metadata": {
    "slideshow": {
     "slide_type": "slide"
    }
   },
   "source": [
    "## Invariacia en el tiempo: \n",
    "\n",
    "Un sistema es invariante en el tiemop si su salida es siempre la misma cada vez que se aplique la misma entrada (para las mismas condiciones iniciales), sin importar el instante en que se aplique la entrada. Para dar una definición más precisa, es necesario definir el operador desplazamiento temporal que notaremos: $z_{\\Delta}$  que aplicado a una función del tiempo, la desplaza temporalmente un intervalo $\\Delta$, es decir:"
   ]
  },
  {
   "cell_type": "markdown",
   "metadata": {
    "slideshow": {
     "slide_type": "fragment"
    }
   },
   "source": [
    "**Desplazamiento temporal**\n",
    "<img style=\"display:block; margin-left: auto; margin-right: auto;\" src=\"estacionariedad.png\" width=\"400\" alt=\"Desplazamiento temporal\">\n",
    "\n",
    "Por lo tanto, el sistema es estacionario estacionario si para una entrada $u(t)$ aplicada en el instante $t_0$ la salida es $y(t)$, entonces para una entrada = $z^\\Delta u(t)$ aplicada en $t_0+\\Delta$ la salida es $\\tilde y(t) =z^\\Delta y(t)$"
   ]
  },
  {
   "cell_type": "markdown",
   "metadata": {
    "slideshow": {
     "slide_type": "slide"
    }
   },
   "source": [
    "**Principio de estacionariedad**\n",
    "<img style=\"display:block; margin-left: auto; margin-right: auto;\" src=\"estacionariedad2.png\" width=\"400\" alt=\"Principio de estacionariedad\">"
   ]
  },
  {
   "cell_type": "markdown",
   "metadata": {
    "slideshow": {
     "slide_type": "slide"
    }
   },
   "source": [
    "**Sistemas Estáticos y Dinámicos**\n",
    "\n",
    "Un sistema en el cual la salida en el instante $t$ depende exclusivamente de la entrada en ese instante $t$ es llamado **Sistema Estático** o sin memoria. En contraposición, un **Sistema Dinámico** es uno en el cual la salida en el instante $t$ depende también de valores pasados y/o futuros de la entrada, además del valor en $t$."
   ]
  },
  {
   "cell_type": "markdown",
   "metadata": {},
   "source": [
    "## Sistemas LTI\n",
    "\n",
    "### Definición:\n",
    "\n",
    "por definición un sistema lineal e invariante en el tiempo se define por la cuaterna $\\sum =(A,B,C,D)$ donde $A \\in \\Re^{nxn}$, $B \\in \\Re^{nxm}$,$C \\in \\Re^{rxn}$ y $D \\in \\Re^{rxm}$. El sistema es SISO si $m~=~r~=~1$ o MIMO en otro caso.\n",
    "\n",
    "$$\n",
    "\\begin{aligned}\n",
    "\\dot{\\vec x}(t) &= A~ \\vec x(t) + B~\\vec u(t) \\\\\n",
    "\\vec y(t) &= C~ \\vec x(t) + D~\\vec u(t)\n",
    "\\end{aligned}\n",
    "$$\n",
    "\n",
    "donde $\\vec x \\in \\Re^n$ son los estados del sistema, $\\vec u \\in \\Re^m$ son las entradas del sistema, y $\\vec y \\in \\Re^r$ son las salidas\n",
    "\n",
    "### Propiedades:\n",
    "\n",
    "Supongamos que: \n",
    "1. $y_1(t)$ es una solución para la excitacion $u_1(t)$, y\n",
    "1. $y_2(t)$ es una solución para la excitacion $u_2(t)$\n",
    "\n",
    "entonces vale:\n",
    "\n",
    "1. **Principio de homogeneidad:**\n",
    "$\\alpha ~ y_2(t)$ es solución para $\\alpha ~ u_2(t)$ donde $\\alpha$ es una constante\n",
    "1. **Principio de superposición:**\n",
    "$\\alpha ~ y_1(t) + \\beta ~ y_2(t)$ es solución para $\\alpha ~ u_1(t) + \\beta ~ u_2(t)$"
   ]
  },
  {
   "cell_type": "markdown",
   "metadata": {
    "slideshow": {
     "slide_type": "slide"
    }
   },
   "source": [
    "## **Ejemplo #2:** Sistema de Calefacción Sistema de Calefacción Solar Solar\n",
    "<img style=\"display:block; margin-left: auto; margin-right: auto;\" src=\"calefa_solar.png\" width=\"450\" alt=\"Sistema de calefacción solar\">"
   ]
  },
  {
   "cell_type": "markdown",
   "metadata": {
    "slideshow": {
     "slide_type": "fragment"
    }
   },
   "source": [
    "**Esquema**\n",
    "<img style=\"display:block; margin-left: auto; margin-right: auto;\" src=\"esquema_calefa_solar.png\" width=\"450\" alt=\"Esquema de calefacción solar\">"
   ]
  },
  {
   "cell_type": "markdown",
   "metadata": {
    "slideshow": {
     "slide_type": "slide"
    }
   },
   "source": [
    "## **Ejemplo #3:** Ecosistema\n",
    "Ambiente aislado compuesto por dos clases de individuos: presas (P: población de presas) y depredadores (D: población de depredadores).\n",
    "\n",
    "Hipótesis del modelo:\n",
    "1. En ausencia de depredadores (D=0), la población de presas crece exponencialmente.\n",
    "1. Los depredadores sólo se alimentan de presas, por lo que en ausencia de presas (P=0), la población de depredadores se extingue exponencialmente."
   ]
  },
  {
   "cell_type": "markdown",
   "metadata": {
    "slideshow": {
     "slide_type": "fragment"
    }
   },
   "source": [
    "Un posible modelo que verifica estas hipótesis es el de **Lotka-Volterra**\n",
    "\n",
    "\\begin{eqnarray}\n",
    "\\frac{dP(t)}{dt}&=\\alpha_1P(t)-\\alpha_2D(t)P(t)\\\\\n",
    "\\frac{dD(t)}{dt}&=\\alpha_3P(t)D(t)-\\alpha_4D(t)\\\\\n",
    "\\end{eqnarray}"
   ]
  },
  {
   "cell_type": "markdown",
   "metadata": {
    "slideshow": {
     "slide_type": "fragment"
    }
   },
   "source": [
    "## Sistemas Causales y No causales \n",
    "\n",
    "Un sistema es **causal** si su respuesta a una entrada no depende de valores futuros de esa entrada y/o valores futuros de salidas. Un sistema que no verifica esta propiedad es llamado **no causal**. En particular un sistema se dice **anticausal** si su respuesta a una entrada depende exclusivamente de valores futuros de esa entrada y/o valores futuros de salidas.\n",
    "\n",
    "Todos los sistemas físicos son **causales**."
   ]
  },
  {
   "cell_type": "markdown",
   "metadata": {},
   "source": [
    "## Caracterización de tipos de sistemas\n",
    "\n",
    "Desde el punto de vista de las ecuaciones matemáticas los sitemas se puedes clasificar como:"
   ]
  },
  {
   "cell_type": "markdown",
   "metadata": {},
   "source": [
    "| Tipo de Sistema             |    Ecuaciones del Modelo                     |\n",
    "|-----------------------------|----------------------------------------------|\n",
    "|   Lineal                    |    Ecs. Lineales                             |\n",
    "|   No Lineal                 |    Ecs. no Lineales                          |\n",
    "|   Invariante en el tiempo   |    Ecs. a coeficientes constantes            |\n",
    "|   Variante en el tiempo     |    Ecs. a coeficientes en función del tiempo |\n",
    "|   Parámetros concentrados   |    Ecs. dif. Ordinarias                      |\n",
    "|   Parámetros distribuidos   |    Ecs. dif. Parciales                       |\n",
    "|   de tiempo continuo        |    Ecs. diferenciales                        |\n",
    "|   de tiempo discreto        |    Ecs. en diferencias                       |\n",
    "|   SISO                      |    Número de Ecs. del modelo                 |\n",
    "|   MIMO                      |                                              |\n",
    "|   Determinístico            | x (variable determinística)                  |\n",
    "|   Estocastico               | $<x>$, $\\sigma$  (valor medio y desvio estandar)         |\n"
   ]
  }
 ],
 "metadata": {
  "kernelspec": {
   "display_name": "Python 3",
   "language": "python",
   "name": "python3"
  },
  "language_info": {
   "codemirror_mode": {
    "name": "ipython",
    "version": 3
   },
   "file_extension": ".py",
   "mimetype": "text/x-python",
   "name": "python",
   "nbconvert_exporter": "python",
   "pygments_lexer": "ipython3",
   "version": "3.8.5"
  },
  "latex_envs": {
   "LaTeX_envs_menu_present": true,
   "autoclose": false,
   "autocomplete": true,
   "bibliofile": "biblio.bib",
   "cite_by": "apalike",
   "current_citInitial": 1,
   "eqLabelWithNumbers": true,
   "eqNumInitial": 1,
   "hotkeys": {
    "equation": "Ctrl-E",
    "itemize": "Ctrl-I"
   },
   "labels_anchors": false,
   "latex_user_defs": false,
   "report_style_numbering": false,
   "user_envs_cfg": false
  },
  "nbTranslate": {
   "displayLangs": [
    "*"
   ],
   "hotkey": "alt-t",
   "langInMainMenu": true,
   "sourceLang": "en",
   "targetLang": "fr",
   "useGoogleTranslate": true
  }
 },
 "nbformat": 4,
 "nbformat_minor": 4
}

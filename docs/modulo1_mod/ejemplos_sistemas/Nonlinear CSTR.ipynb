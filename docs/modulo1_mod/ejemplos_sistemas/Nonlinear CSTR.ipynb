{
 "cells": [
  {
   "cell_type": "markdown",
   "metadata": {
    "lang": "es"
   },
   "source": [
    "# Sistema CSTR\n",
    "\n",
    "Este cuaderno se estudia el sistema discutido en Seborg, Edgar, Melichamp & Doyle \"Process Dynamics and Control\" (3rd Ed).\n",
    "\n",
    "![CSTR](cstr.png)"
   ]
  },
  {
   "cell_type": "markdown",
   "metadata": {},
   "source": [
    "## Modelo\n",
    "$$\n",
    "\\begin{align}\n",
    "k &= k_0\\exp\\left(\\frac{-E}{RT}\\right)\\\\\n",
    "w &=q\\rho \\\\\n",
    "V\\frac{\\mathrm{d}c_A}{\\mathrm{d}t} &= q(c_{Ai} - c_A) - V k c_A \\\\\n",
    "V\\rho C\\frac{\\mathrm{d}T}{\\mathrm{d}t} &= wC(T_i - T) + (-\\Delta H_R) V k c_A + UA(T_c - T) \n",
    "\\end{align}\n",
    "$$\n"
   ]
  },
  {
   "cell_type": "markdown",
   "metadata": {},
   "source": [
    "Blanace de Energía: \n",
    "\n",
    "$$\\frac{dE}{dt} = E_{in} - E_{out}$$\n",
    "\n",
    "Balance de Masa: \n",
    "\n",
    "$$\\frac{dm}{dt} = \\dot m_{in} - \\dot m_{out}$$\n",
    "\n",
    "Balance de compocisión: \n",
    "\n",
    "$$\\frac{dN_A}{dt} = N_{A,in} - N_{A, out} + N_{A, \\text{gen}} - N_{A, \\text{consumed}}$$\n"
   ]
  },
  {
   "cell_type": "markdown",
   "metadata": {},
   "source": [
    "## Simulación númerica del sistema "
   ]
  },
  {
   "cell_type": "code",
   "execution_count": 1,
   "metadata": {},
   "outputs": [],
   "source": [
    "import numpy as np\n",
    "import scipy as sc\n",
    "import scipy.optimize as opt\n",
    "import scipy.integrate as inte"
   ]
  },
  {
   "cell_type": "markdown",
   "metadata": {
    "lang": "es"
   },
   "source": [
    "Valores de los parámetros del modelo"
   ]
  },
  {
   "cell_type": "code",
   "execution_count": 2,
   "metadata": {},
   "outputs": [],
   "source": [
    "q = 100  # L/min\n",
    "cA_i = 1  # mol/L\n",
    "T_i = 350  # K \n",
    "V = 100  # L\n",
    "rho = 1000 # g/L\n",
    "C = 0.239 # J/(g K)\n",
    "Hr = -5e4  # J/(g K)\n",
    "E_over_R = 8750  # K\n",
    "k0 = 7.2e10  # 1/min\n",
    "UA = 5e4  # J/(min K)"
   ]
  },
  {
   "cell_type": "markdown",
   "metadata": {
    "lang": "es"
   },
   "source": [
    "Este es el valor inicial de la entrada $T_c$"
   ]
  },
  {
   "cell_type": "code",
   "execution_count": 3,
   "metadata": {},
   "outputs": [],
   "source": [
    "Tc = Tc0 = 300  # K"
   ]
  },
  {
   "cell_type": "markdown",
   "metadata": {
    "lang": "es"
   },
   "source": [
    "Estos son los valores inicialesde los estados. Tenga en cuenta que estos no son 100% exactos. Cuando usando estos estos valores, no obtenemos una línea recta perfecta (derivadas iguales a cero) como deberíamos al usar los valores de estado estacionario (completamente estacionado)."
   ]
  },
  {
   "cell_type": "code",
   "execution_count": 4,
   "metadata": {},
   "outputs": [],
   "source": [
    "cA0 = 0.5  # mol/L\n",
    "T0 = 350  # K "
   ]
  },
  {
   "cell_type": "markdown",
   "metadata": {
    "lang": "es"
   },
   "source": [
    "Aquí definimos la función para calcular las derivadas."
   ]
  },
  {
   "cell_type": "code",
   "execution_count": 5,
   "metadata": {},
   "outputs": [],
   "source": [
    "def intsys(t, x):\n",
    "    cA, T = x\n",
    "    k = k0*np.exp(-E_over_R/T)\n",
    "    w = q*rho\n",
    "    dcAdt = q*(cA_i - cA)/V - k*cA\n",
    "    dTdt = 1/(V*rho*C)*(w*C*(T_i - T) - Hr*V*k*cA + UA*(Tc - T))\n",
    "    return dcAdt, dTdt"
   ]
  },
  {
   "cell_type": "code",
   "execution_count": 6,
   "metadata": {},
   "outputs": [],
   "source": [
    "x0 = [cA0, T0]"
   ]
  },
  {
   "cell_type": "markdown",
   "metadata": {
    "lang": "es"
   },
   "source": [
    "Veamos cómo se ven las derivadas en este \"estado estacionario\""
   ]
  },
  {
   "cell_type": "code",
   "execution_count": 7,
   "metadata": {},
   "outputs": [
    {
     "data": {
      "text/plain": [
       "(3.40208612952253e-05, -0.007117334999003795)"
      ]
     },
     "execution_count": 7,
     "metadata": {},
     "output_type": "execute_result"
    }
   ],
   "source": [
    "intsys(0, x0)"
   ]
  },
  {
   "cell_type": "markdown",
   "metadata": {
    "lang": "es"
   },
   "source": [
    "Eso no parece muy cerca de cero ..."
   ]
  },
  {
   "cell_type": "markdown",
   "metadata": {
    "lang": "es"
   },
   "source": [
    "Ahora, simulemos"
   ]
  },
  {
   "cell_type": "code",
   "execution_count": 8,
   "metadata": {},
   "outputs": [],
   "source": [
    "import matplotlib.pyplot as plt\n",
    "%matplotlib inline"
   ]
  },
  {
   "cell_type": "code",
   "execution_count": 9,
   "metadata": {},
   "outputs": [],
   "source": [
    "tspan = (0, 10)\n",
    "t = np.linspace(*tspan, 1000)"
   ]
  },
  {
   "cell_type": "code",
   "execution_count": 10,
   "metadata": {},
   "outputs": [],
   "source": [
    "def simulate():\n",
    "    r = inte.solve_ivp(intsys, tspan, x0, t_eval=t)\n",
    "    return r.y"
   ]
  },
  {
   "cell_type": "code",
   "execution_count": 11,
   "metadata": {},
   "outputs": [],
   "source": [
    "cA, T = simulate()"
   ]
  },
  {
   "cell_type": "code",
   "execution_count": 12,
   "metadata": {},
   "outputs": [
    {
     "data": {
      "image/png": "[encoded data removed]",
      "text/plain": [
       "<Figure size 432x288 with 1 Axes>"
      ]
     },
     "metadata": {
      "needs_background": "light"
     },
     "output_type": "display_data"
    }
   ],
   "source": [
    "plt.plot(t, T)\n",
    "plt.show()"
   ]
  },
  {
   "cell_type": "markdown",
   "metadata": {
    "lang": "es"
   },
   "source": [
    "¡Vemos una desviación significativa de la línea recta que esperábamos!"
   ]
  },
  {
   "cell_type": "markdown",
   "metadata": {
    "lang": "es"
   },
   "source": [
    "## Resolver el estado etacionario estable\n",
    "Ahora, resolvamos un mejor valor inicial estableciendo los derivados igual a cero"
   ]
  },
  {
   "cell_type": "code",
   "execution_count": 13,
   "metadata": {},
   "outputs": [],
   "source": [
    "def ss(x):\n",
    "    \"\"\" This wrapper function simply calls intsys with a zero time\"\"\"\n",
    "    return intsys(0, x)"
   ]
  },
  {
   "cell_type": "markdown",
   "metadata": {
    "lang": "es"
   },
   "source": [
    "Usamos fsolve para resolver un nuevo estado estacionario."
   ]
  },
  {
   "cell_type": "code",
   "execution_count": 14,
   "metadata": {},
   "outputs": [
    {
     "data": {
      "text/plain": [
       "array([  0.49991829, 350.00552869])"
      ]
     },
     "execution_count": 14,
     "metadata": {},
     "output_type": "execute_result"
    }
   ],
   "source": [
    "x0 = opt.fsolve(ss, x0)\n",
    "x0"
   ]
  },
  {
   "cell_type": "markdown",
   "metadata": {
    "lang": "es"
   },
   "source": [
    "Vamos a comprobar que:"
   ]
  },
  {
   "cell_type": "code",
   "execution_count": 15,
   "metadata": {},
   "outputs": [
    {
     "data": {
      "text/plain": [
       "(3.7614356074300304e-13, -7.879222786077396e-11)"
      ]
     },
     "execution_count": 15,
     "metadata": {},
     "output_type": "execute_result"
    }
   ],
   "source": [
    "ss(x0)"
   ]
  },
  {
   "cell_type": "markdown",
   "metadata": {
    "lang": "es"
   },
   "source": [
    "Mucho mejor, simulemos:"
   ]
  },
  {
   "cell_type": "code",
   "execution_count": 16,
   "metadata": {},
   "outputs": [
    {
     "data": {
      "image/png": "[encoded data removed]",
      "text/plain": [
       "<Figure size 432x288 with 1 Axes>"
      ]
     },
     "metadata": {
      "needs_background": "light"
     },
     "output_type": "display_data"
    }
   ],
   "source": [
    "cA, T = simulate()\n",
    "plt.plot(t, T)\n",
    "plt.show()"
   ]
  },
  {
   "cell_type": "markdown",
   "metadata": {
    "lang": "es"
   },
   "source": [
    "¿Que paso ahi? Parece que estas ecuaciones son bastante difíciles de equilibrar perfectamente en el estado estacionario, ya que al iniciarse bastante cerca de cero, las derivadas aún dieron alguna desviación hacia el final. Las ecuaciones diferenciales no lineales a menudo exhiben esta alta sensibilidad al valor inicial.\n",
    "\n",
    "Pero mira detenidamente y podrás ver que el eje está extrañamente indicado. Cuando nos alejamos un poco, la solución es más clara:"
   ]
  },
  {
   "cell_type": "code",
   "execution_count": 17,
   "metadata": {},
   "outputs": [
    {
     "data": {
      "image/png": "[encoded data removed]",
      "text/plain": [
       "<Figure size 432x288 with 1 Axes>"
      ]
     },
     "metadata": {
      "needs_background": "light"
     },
     "output_type": "display_data"
    }
   ],
   "source": [
    "cA, T = simulate()\n",
    "plt.plot(t, T)\n",
    "plt.ylim(349, 351)\n",
    "plt.show()"
   ]
  },
  {
   "cell_type": "markdown",
   "metadata": {
    "lang": "es"
   },
   "source": [
    "Yo diría que eso es lo suficientemente bueno."
   ]
  },
  {
   "cell_type": "markdown",
   "metadata": {
    "lang": "es"
   },
   "source": [
    "Ahora estamos listos para crear la figura."
   ]
  },
  {
   "cell_type": "code",
   "execution_count": 18,
   "metadata": {},
   "outputs": [
    {
     "data": {
      "image/png": "[encoded data removed]",
      "text/plain": [
       "<Figure size 504x576 with 2 Axes>"
      ]
     },
     "metadata": {
      "needs_background": "light"
     },
     "output_type": "display_data"
    }
   ],
   "source": [
    "fig, (axT, axcA) = plt.subplots(2, 1, figsize=(7, 8))\n",
    "for Tc in [290, 300, 305]:\n",
    "    cA, T = simulate()\n",
    "    axT.plot(t, T, label='{} K'.format(Tc))\n",
    "    axT.set_ylabel('Reactor temperature (K)')\n",
    "    axcA.plot(t, cA, label='{} K'.format(Tc))    \n",
    "    axcA.set_ylabel('Reactant A concentration (mol/L)')\n",
    "axcA.legend()\n",
    "plt.show()"
   ]
  },
  {
   "cell_type": "markdown",
   "metadata": {
    "lang": "es"
   },
   "source": [
    "## Comportamiento no lineal\n",
    "\n",
    "Las ecuaciones diferenciales no lineales como esta pueden exhibir un comportamiento muy extraño. Podemos esperar que el aumento de la temperatura del agua de enfriamiento siempre incremente la temperatura del reactor, medida después de un cierto tiempo, pero el comportamiento oscilatorio que vemos en los gráficos anteriores nos da una pista de que no todo es tan simple."
   ]
  },
  {
   "cell_type": "code",
   "execution_count": 19,
   "metadata": {},
   "outputs": [],
   "source": [
    "sol = inte.solve_ivp(intsys, tspan, x0)"
   ]
  },
  {
   "cell_type": "code",
   "execution_count": 20,
   "metadata": {},
   "outputs": [],
   "source": [
    "Tends = []\n",
    "Tcs = np.linspace(300, 310, 100)\n",
    "for Tc in Tcs:\n",
    "    sol = inte.solve_ivp(intsys, tspan, x0)\n",
    "    T = sol.y[-1]\n",
    "    Tends.append(T[-1])"
   ]
  },
  {
   "cell_type": "code",
   "execution_count": 21,
   "metadata": {},
   "outputs": [
    {
     "data": {
      "image/png": "[encoded data removed]",
      "text/plain": [
       "<Figure size 432x288 with 1 Axes>"
      ]
     },
     "metadata": {
      "needs_background": "light"
     },
     "output_type": "display_data"
    }
   ],
   "source": [
    "plt.plot(Tcs, Tends)\n",
    "plt.ylabel('Temperature after 10 minutes (K)')\n",
    "plt.xlabel('Cooling water step (K)')\n",
    "plt.show()"
   ]
  },
  {
   "cell_type": "markdown",
   "metadata": {
    "lang": "es"
   },
   "source": [
    "Se puede ver que a menudo no hay una explicación fácil para el comportamiento del sistema, como puede ser \"Hacer que x sea más grande hará que y sea más grande\". Para sistemas no lineales, la respuesta a las preguntas sobre la consecuencia de una acción es a menudo \"depende\"."
   ]
  },
  {
   "cell_type": "code",
   "execution_count": null,
   "metadata": {},
   "outputs": [],
   "source": []
  }
 ],
 "metadata": {
  "kernelspec": {
   "display_name": "Python 3",
   "language": "python",
   "name": "python3"
  },
  "language_info": {
   "codemirror_mode": {
    "name": "ipython",
    "version": 3
   },
   "file_extension": ".py",
   "mimetype": "text/x-python",
   "name": "python",
   "nbconvert_exporter": "python",
   "pygments_lexer": "ipython3",
   "version": "3.7.7"
  },
  "nbTranslate": {
   "displayLangs": [
    "es"
   ],
   "hotkey": "alt-t",
   "langInMainMenu": true,
   "sourceLang": "en",
   "targetLang": "es",
   "useGoogleTranslate": true
  }
 },
 "nbformat": 4,
 "nbformat_minor": 4
}

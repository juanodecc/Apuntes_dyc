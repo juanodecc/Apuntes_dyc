{
 "cells": [
  {
   "cell_type": "markdown",
   "metadata": {
    "lang": "es"
   },
   "source": [
    "# Transformada de Laplace"
   ]
  },
  {
   "cell_type": "markdown",
   "metadata": {
    "lang": "es"
   },
   "source": [
    "## Definición:\n",
    "\n",
    "Es una función matemática que utilizaremos para trnasformar señales en el dominio temporal a un dominio de frecuencia generalizada, que llamaremos dominio transformado de *Laplace*. \n",
    "\n",
    "La transformada de Laplace se define como\n",
    "\n",
    "$$F(s) = \\mathcal{L}\\{f(t)\\} = \\int_0^\\infty f(t) e^{-st} \\mathrm{dt} $$\n",
    "\n",
    "donde $s$ es una variable compleja $s = \\sigma + j\\omega$."
   ]
  },
  {
   "cell_type": "markdown",
   "metadata": {
    "slideshow": {
     "slide_type": "slide"
    }
   },
   "source": [
    "## Antitransformada de Laplace\n",
    "Se puede demostrar que tienendo la función transformada $F(s)$, se puede recuperar la función en el dominio temporal $f(t)$ aplicando la antitransforma de Laplace:\n",
    "\n",
    "$$f(t)=\\mathcal{L}^{-1}\\{F(s)\\} =\\frac{1}{2\\pi j} \\int_{\\sigma-j\\omega}^{\\sigma+j\\omega} F(s) e^{st} ds .$$\n"
   ]
  },
  {
   "cell_type": "markdown",
   "metadata": {},
   "source": [
    "<img style=\"display:block; margin-left: auto; margin-right: auto;\" src=\"bg2.png\" width=\"70%\" alt=\"Tabla de tranformadas de Laplace\">"
   ]
  },
  {
   "cell_type": "markdown",
   "metadata": {
    "slideshow": {
     "slide_type": "slide"
    }
   },
   "source": [
    "## Propiedades de la Transformada de Laplace.\n",
    "- **Linealindad**: $\\mathcal{L}\\{kf(t)\\} = k F(s)$; $\\mathcal{L}\\{f_1(t)+f_2(t)\\} = F_1(s)+F_2(s)$\n",
    "- **Corrimiento en frecuencia**: $\\mathcal{L}\\{e^{-at}f(t)\\}=F(s+a)$\n",
    "- **Corrimiento en el tiempo**: $\\mathcal{L}\\{f(t-T)\\}=e^{-sT}F(s)$\n",
    "- **Escaleo Temporal**: $\\mathcal{L}\\{f(at)\\}=\\dfrac{1}{a}e^{-sT}F\\left(\\dfrac{s}{a}\\right)$"
   ]
  },
  {
   "cell_type": "markdown",
   "metadata": {
    "slideshow": {
     "slide_type": "subslide"
    }
   },
   "source": [
    "- **Derivada**: $\\mathcal{L}\\left\\{\\dfrac{df(t)}{dt}\\right\\}=sF(s)-f(0)$\n",
    "- **Derivada segunda**: $\\mathcal{L} \\left\\{ \\dfrac{d^2f(t)}{dt^2} \\right\\}=s^2F(s)-sf(0)-f'(0);$\n",
    "- **Derivada de orden n**: $\\mathcal{L} \\left\\{ \\dfrac{d^nf(t)}{dt^n} \\right\\}= s^n F(s)- s^{n-1}f(0) - s^{n-2}f'(0) - \\ldots - sf^{n-2}(0)-f^{n-1}(0)$\n",
    "- **Integral**: $\\mathcal{L} \\left\\{ \\int_0^tf(\\tau)d\\tau \\right\\} =\\dfrac{F(s)}{s}$\n",
    "- **Teorema de valor final**: $f(\\infty)=\\lim_{s\\rightarrow 0}sF(s)$\n",
    "- **Teorema de valor inicial**: $f(0)=\\lim_{s\\rightarrow \\infty}sF(s)$\n",
    "\n"
   ]
  },
  {
   "cell_type": "markdown",
   "metadata": {},
   "source": [
    "## Cálculo de la transformada de Laplace mediante Sympy."
   ]
  },
  {
   "cell_type": "code",
   "execution_count": 1,
   "metadata": {},
   "outputs": [],
   "source": [
    "import sympy as sp\n",
    "sp.init_printing()"
   ]
  },
  {
   "cell_type": "code",
   "execution_count": 2,
   "metadata": {},
   "outputs": [],
   "source": [
    "import matplotlib.pyplot as plt\n",
    "%matplotlib inline"
   ]
  },
  {
   "cell_type": "markdown",
   "metadata": {
    "lang": "es"
   },
   "source": [
    "Vamos a definir algunos símbolos para trabajar. Aquí usamos `Symbol` para poder especificar los dominios y las restricciones en los símbolos."
   ]
  },
  {
   "cell_type": "code",
   "execution_count": 3,
   "metadata": {},
   "outputs": [],
   "source": [
    "t = sp.Symbol('t')\n",
    "s = sp.Symbol('s')\n",
    "a = sp.Symbol('a', real=True, positive=True)"
   ]
  },
  {
   "cell_type": "markdown",
   "metadata": {
    "lang": "es"
   },
   "source": [
    "Comenzamos con una función simple."
   ]
  },
  {
   "cell_type": "code",
   "execution_count": 4,
   "metadata": {},
   "outputs": [
    {
     "data": {
      "image/png": "[encoded data removed]",
      "text/latex": [
       "$\\displaystyle e^{- a t}$"
      ],
      "text/plain": [
       " -a⋅t\n",
       "ℯ    "
      ]
     },
     "execution_count": 4,
     "metadata": {},
     "output_type": "execute_result"
    }
   ],
   "source": [
    "f = sp.exp(-a*t)\n",
    "f"
   ]
  },
  {
   "cell_type": "markdown",
   "metadata": {
    "lang": "es"
   },
   "source": [
    "Podemos evaluar la integral directamente usando `integra`:"
   ]
  },
  {
   "cell_type": "code",
   "execution_count": 5,
   "metadata": {},
   "outputs": [
    {
     "data": {
      "image/png": "[encoded data removed]",
      "text/latex": [
       "$\\displaystyle \\begin{cases} \\frac{1}{s \\left(\\frac{a}{s} + 1\\right)} & \\text{for}\\: \\left|{\\arg{\\left(s \\right)}}\\right| \\leq \\frac{\\pi}{2} \\\\\\int\\limits_{0}^{\\infty} e^{- a t} e^{- s t}\\, dt & \\text{otherwise} \\end{cases}$"
      ],
      "text/plain": [
       "⎧       1                         π\n",
       "⎪   ─────────      for │arg(s)│ ≤ ─\n",
       "⎪     ⎛a    ⎞                     2\n",
       "⎪   s⋅⎜─ + 1⎟                      \n",
       "⎪     ⎝s    ⎠                      \n",
       "⎪                                  \n",
       "⎨∞                                 \n",
       "⎪⌠                                 \n",
       "⎪⎮  -a⋅t  -s⋅t                     \n",
       "⎪⎮ ℯ    ⋅ℯ     dt     otherwise    \n",
       "⎪⌡                                 \n",
       "⎪0                                 \n",
       "⎩                                  "
      ]
     },
     "execution_count": 5,
     "metadata": {},
     "output_type": "execute_result"
    }
   ],
   "source": [
    "sp.integrate(f*sp.exp(-s*t), (t, 0, sp.oo))"
   ]
  },
  {
   "cell_type": "markdown",
   "metadata": {
    "lang": "es"
   },
   "source": [
    "Esto funciona, pero es un poco incómodo tener todas las condiciones de la transformada allí.\n",
    "\n",
    "Sympy proporciona una función llamada `laplace_transform` que hace esto de manera más eficiente. Por defecto, también devolverá las condiciones de convergencia (recordar que esto es una integral impropia, con un límite infinito, por lo que no siempre convergerá)."
   ]
  },
  {
   "cell_type": "code",
   "execution_count": 6,
   "metadata": {},
   "outputs": [
    {
     "data": {
      "image/png": "[encoded data removed]",
      "text/latex": [
       "$\\displaystyle \\left( \\frac{1}{a + s}, \\  0, \\  \\text{True}\\right)$"
      ],
      "text/plain": [
       "⎛  1           ⎞\n",
       "⎜─────, 0, True⎟\n",
       "⎝a + s         ⎠"
      ]
     },
     "execution_count": 6,
     "metadata": {},
     "output_type": "execute_result"
    }
   ],
   "source": [
    "sp.laplace_transform(f, t, s)"
   ]
  },
  {
   "cell_type": "markdown",
   "metadata": {
    "lang": "es"
   },
   "source": [
    "Si queremos solo la función, podemos especificar `noconds = True`."
   ]
  },
  {
   "cell_type": "code",
   "execution_count": 7,
   "metadata": {},
   "outputs": [
    {
     "data": {
      "image/png": "[encoded data removed]",
      "text/latex": [
       "$\\displaystyle \\frac{1}{a + s}$"
      ],
      "text/plain": [
       "  1  \n",
       "─────\n",
       "a + s"
      ]
     },
     "execution_count": 7,
     "metadata": {},
     "output_type": "execute_result"
    }
   ],
   "source": [
    "F = sp.laplace_transform(f, t, s, noconds=True)\n",
    "F"
   ]
  },
  {
   "cell_type": "markdown",
   "metadata": {
    "lang": "es"
   },
   "source": [
    "Nos resultará útil definir una versión más rápida de esto:"
   ]
  },
  {
   "cell_type": "code",
   "execution_count": 8,
   "metadata": {},
   "outputs": [],
   "source": [
    "def L(f):\n",
    "    return sp.laplace_transform(f, t, s, noconds=True)"
   ]
  },
  {
   "cell_type": "markdown",
   "metadata": {
    "lang": "es"
   },
   "source": [
    "Los inversos son simples también,"
   ]
  },
  {
   "cell_type": "code",
   "execution_count": 9,
   "metadata": {},
   "outputs": [],
   "source": [
    "def invL(F):\n",
    "    return sp.inverse_laplace_transform(F, s, t)"
   ]
  },
  {
   "cell_type": "code",
   "execution_count": 10,
   "metadata": {},
   "outputs": [
    {
     "data": {
      "image/png": "[encoded data removed]",
      "text/latex": [
       "$\\displaystyle e^{- a t} \\theta\\left(t\\right)$"
      ],
      "text/plain": [
       " -a⋅t     \n",
       "ℯ    ⋅θ(t)"
      ]
     },
     "execution_count": 10,
     "metadata": {},
     "output_type": "execute_result"
    }
   ],
   "source": [
    "invL(F)"
   ]
  },
  {
   "cell_type": "markdown",
   "metadata": {
    "lang": "es"
   },
   "source": [
    "La función de paso de unidad también se conoce como la función escalón o Heaviside. Veremos esta función a menudo en transformaciones inversas de laplace. Está tipografiado como $\\theta(t)$ por sympy."
   ]
  },
  {
   "cell_type": "code",
   "execution_count": 11,
   "metadata": {},
   "outputs": [
    {
     "data": {
      "image/png": "[encoded data removed]",
      "text/latex": [
       "$\\displaystyle \\theta\\left(t\\right)$"
      ],
      "text/plain": [
       "θ(t)"
      ]
     },
     "execution_count": 11,
     "metadata": {},
     "output_type": "execute_result"
    }
   ],
   "source": [
    "sp.Heaviside(t)"
   ]
  },
  {
   "cell_type": "code",
   "execution_count": 12,
   "metadata": {},
   "outputs": [
    {
     "data": {
      "image/png": "[encoded data removed]",
      "text/plain": [
       "<Figure size 432x288 with 1 Axes>"
      ]
     },
     "metadata": {
      "needs_background": "light"
     },
     "output_type": "display_data"
    }
   ],
   "source": [
    "sp.plot(sp.Heaviside(t));"
   ]
  },
  {
   "cell_type": "markdown",
   "metadata": {
    "lang": "es"
   },
   "source": [
    "Mire la diferencia entre $f$ y la transformada inversa de lugar que obtuvimos, que contiene el paso unitario para forzarlo a cero antes de $t=0$."
   ]
  },
  {
   "cell_type": "code",
   "execution_count": 13,
   "metadata": {},
   "outputs": [
    {
     "data": {
      "image/png": "[encoded data removed]",
      "text/latex": [
       "$\\displaystyle e^{- 2 t} \\theta\\left(t\\right)$"
      ],
      "text/plain": [
       " -2⋅t     \n",
       "ℯ    ⋅θ(t)"
      ]
     },
     "execution_count": 13,
     "metadata": {},
     "output_type": "execute_result"
    }
   ],
   "source": [
    "invL(F).subs({a: 2})"
   ]
  },
  {
   "cell_type": "code",
   "execution_count": 14,
   "metadata": {},
   "outputs": [
    {
     "data": {
      "image/png": "[encoded data removed]",
      "text/plain": [
       "<Figure size 432x288 with 1 Axes>"
      ]
     },
     "metadata": {
      "needs_background": "light"
     },
     "output_type": "display_data"
    }
   ],
   "source": [
    "p = sp.plot(f.subs({a: 2}), invL(F).subs({a: 2}), \n",
    "               xlim=(-1, 4), ylim=(0, 3), show=False)\n",
    "p[1].line_color = 'red'\n",
    "p[1].line_color\n",
    "p.show()"
   ]
  },
  {
   "cell_type": "markdown",
   "metadata": {
    "lang": "es"
   },
   "source": [
    "A ver si podemos igualar las funciones en la tabla."
   ]
  },
  {
   "cell_type": "code",
   "execution_count": 15,
   "metadata": {},
   "outputs": [
    {
     "data": {
      "image/png": "[encoded data removed]",
      "text/latex": [
       "$\\displaystyle \\left[ 1, \\  t, \\  e^{- a t}, \\  t e^{- a t}, \\  t^{2} e^{- a t}, \\  \\sin{\\left(\\omega t \\right)}, \\  \\cos{\\left(\\omega t \\right)}, \\  1 - e^{- a t}, \\  e^{- a t} \\sin{\\left(\\omega t \\right)}, \\  e^{- a t} \\cos{\\left(\\omega t \\right)}\\right]$"
      ],
      "text/plain": [
       "⎡       -a⋅t     -a⋅t   2  -a⋅t                           -a⋅t   -a⋅t         \n",
       "⎣1, t, ℯ    , t⋅ℯ    , t ⋅ℯ    , sin(ω⋅t), cos(ω⋅t), 1 - ℯ    , ℯ    ⋅sin(ω⋅t)\n",
       "\n",
       "   -a⋅t         ⎤\n",
       ", ℯ    ⋅cos(ω⋅t)⎦"
      ]
     },
     "execution_count": 15,
     "metadata": {},
     "output_type": "execute_result"
    }
   ],
   "source": [
    "omega = sp.Symbol('omega', real=True)\n",
    "exp = sp.exp\n",
    "sin = sp.sin\n",
    "cos = sp.cos\n",
    "functions = [1,\n",
    "         t,\n",
    "         exp(-a*t),\n",
    "         t*exp(-a*t),\n",
    "         t**2*exp(-a*t),\n",
    "         sin(omega*t),\n",
    "         cos(omega*t),\n",
    "         1 - exp(-a*t),\n",
    "         exp(-a*t)*sin(omega*t),\n",
    "         exp(-a*t)*cos(omega*t),\n",
    "         ]\n",
    "functions"
   ]
  },
  {
   "cell_type": "code",
   "execution_count": 16,
   "metadata": {},
   "outputs": [
    {
     "data": {
      "image/png": "[encoded data removed]",
      "text/latex": [
       "$\\displaystyle \\left[ \\frac{1}{s}, \\  \\frac{1}{s^{2}}, \\  \\frac{1}{a + s}, \\  \\frac{1}{\\left(a + s\\right)^{2}}, \\  \\frac{2}{\\left(a + s\\right)^{3}}, \\  \\frac{\\omega}{\\omega^{2} + s^{2}}, \\  \\frac{s}{\\omega^{2} + s^{2}}, \\  \\frac{a}{s \\left(a + s\\right)}, \\  \\frac{\\omega}{\\omega^{2} + \\left(a + s\\right)^{2}}, \\  \\frac{a + s}{\\omega^{2} + \\left(a + s\\right)^{2}}\\right]$"
      ],
      "text/plain": [
       "⎡1  1     1       1         2         ω        s         a            ω       \n",
       "⎢─, ──, ─────, ────────, ────────, ───────, ───────, ─────────, ─────────────,\n",
       "⎢s   2  a + s         2         3   2    2   2    2  s⋅(a + s)   2          2 \n",
       "⎣   s          (a + s)   (a + s)   ω  + s   ω  + s              ω  + (a + s)  \n",
       "\n",
       "     a + s    ⎤\n",
       " ─────────────⎥\n",
       "  2          2⎥\n",
       " ω  + (a + s) ⎦"
      ]
     },
     "execution_count": 16,
     "metadata": {},
     "output_type": "execute_result"
    }
   ],
   "source": [
    "Fs = [L(f) for f in functions]\n",
    "Fs"
   ]
  },
  {
   "cell_type": "markdown",
   "metadata": {
    "lang": "es"
   },
   "source": [
    "Podemos hacer una buena aproximación de la tabla con un poco de ayuda de pandas."
   ]
  },
  {
   "cell_type": "code",
   "execution_count": 17,
   "metadata": {},
   "outputs": [],
   "source": [
    "from pandas import DataFrame"
   ]
  },
  {
   "cell_type": "code",
   "execution_count": 18,
   "metadata": {},
   "outputs": [],
   "source": [
    "def makelatex(args):\n",
    "    return [\"${}$\".format(sp.latex(a)) for a in args]"
   ]
  },
  {
   "cell_type": "code",
   "execution_count": 19,
   "metadata": {},
   "outputs": [
    {
     "data": {
      "text/html": [
       "<div>\n",
       "<style scoped>\n",
       "    .dataframe tbody tr th:only-of-type {\n",
       "        vertical-align: middle;\n",
       "    }\n",
       "\n",
       "    .dataframe tbody tr th {\n",
       "        vertical-align: top;\n",
       "    }\n",
       "\n",
       "    .dataframe thead th {\n",
       "        text-align: right;\n",
       "    }\n",
       "</style>\n",
       "<table border=\"1\" class=\"dataframe\">\n",
       "  <thead>\n",
       "    <tr style=\"text-align: right;\">\n",
       "      <th></th>\n",
       "      <th>f(t)</th>\n",
       "      <th>F(s)</th>\n",
       "    </tr>\n",
       "  </thead>\n",
       "  <tbody>\n",
       "    <tr>\n",
       "      <th>0</th>\n",
       "      <td>$1$</td>\n",
       "      <td>$\\frac{1}{s}$</td>\n",
       "    </tr>\n",
       "    <tr>\n",
       "      <th>1</th>\n",
       "      <td>$t$</td>\n",
       "      <td>$\\frac{1}{s^{2}}$</td>\n",
       "    </tr>\n",
       "    <tr>\n",
       "      <th>2</th>\n",
       "      <td>$e^{- a t}$</td>\n",
       "      <td>$\\frac{1}{a + s}$</td>\n",
       "    </tr>\n",
       "    <tr>\n",
       "      <th>3</th>\n",
       "      <td>$t e^{- a t}$</td>\n",
       "      <td>$\\frac{1}{\\left(a + s\\right)^{2}}$</td>\n",
       "    </tr>\n",
       "    <tr>\n",
       "      <th>4</th>\n",
       "      <td>$t^{2} e^{- a t}$</td>\n",
       "      <td>$\\frac{2}{\\left(a + s\\right)^{3}}$</td>\n",
       "    </tr>\n",
       "    <tr>\n",
       "      <th>5</th>\n",
       "      <td>$\\sin{\\left(\\omega t \\right)}$</td>\n",
       "      <td>$\\frac{\\omega}{\\omega^{2} + s^{2}}$</td>\n",
       "    </tr>\n",
       "    <tr>\n",
       "      <th>6</th>\n",
       "      <td>$\\cos{\\left(\\omega t \\right)}$</td>\n",
       "      <td>$\\frac{s}{\\omega^{2} + s^{2}}$</td>\n",
       "    </tr>\n",
       "    <tr>\n",
       "      <th>7</th>\n",
       "      <td>$1 - e^{- a t}$</td>\n",
       "      <td>$\\frac{a}{s \\left(a + s\\right)}$</td>\n",
       "    </tr>\n",
       "    <tr>\n",
       "      <th>8</th>\n",
       "      <td>$e^{- a t} \\sin{\\left(\\omega t \\right)}$</td>\n",
       "      <td>$\\frac{\\omega}{\\omega^{2} + \\left(a + s\\right)...</td>\n",
       "    </tr>\n",
       "    <tr>\n",
       "      <th>9</th>\n",
       "      <td>$e^{- a t} \\cos{\\left(\\omega t \\right)}$</td>\n",
       "      <td>$\\frac{a + s}{\\omega^{2} + \\left(a + s\\right)^...</td>\n",
       "    </tr>\n",
       "  </tbody>\n",
       "</table>\n",
       "</div>"
      ],
      "text/plain": [
       "                                       f(t)  \\\n",
       "0                                       $1$   \n",
       "1                                       $t$   \n",
       "2                               $e^{- a t}$   \n",
       "3                             $t e^{- a t}$   \n",
       "4                         $t^{2} e^{- a t}$   \n",
       "5            $\\sin{\\left(\\omega t \\right)}$   \n",
       "6            $\\cos{\\left(\\omega t \\right)}$   \n",
       "7                           $1 - e^{- a t}$   \n",
       "8  $e^{- a t} \\sin{\\left(\\omega t \\right)}$   \n",
       "9  $e^{- a t} \\cos{\\left(\\omega t \\right)}$   \n",
       "\n",
       "                                                F(s)  \n",
       "0                                      $\\frac{1}{s}$  \n",
       "1                                  $\\frac{1}{s^{2}}$  \n",
       "2                                  $\\frac{1}{a + s}$  \n",
       "3                 $\\frac{1}{\\left(a + s\\right)^{2}}$  \n",
       "4                 $\\frac{2}{\\left(a + s\\right)^{3}}$  \n",
       "5                $\\frac{\\omega}{\\omega^{2} + s^{2}}$  \n",
       "6                     $\\frac{s}{\\omega^{2} + s^{2}}$  \n",
       "7                   $\\frac{a}{s \\left(a + s\\right)}$  \n",
       "8  $\\frac{\\omega}{\\omega^{2} + \\left(a + s\\right)...  \n",
       "9  $\\frac{a + s}{\\omega^{2} + \\left(a + s\\right)^...  "
      ]
     },
     "execution_count": 19,
     "metadata": {},
     "output_type": "execute_result"
    }
   ],
   "source": [
    "LaplaceTable=DataFrame(list(zip(makelatex(functions), makelatex(Fs))),columns=['f(t)', 'F(s)'])\n",
    "LaplaceTable"
   ]
  },
  {
   "cell_type": "markdown",
   "metadata": {
    "lang": "es"
   },
   "source": [
    "Inversas más complicadas.\n",
    "---------\n",
    "\n",
    "¿Por qué la tabla no presenta funciones más complicadas? Debido a que las funciones racionales de orden superior se pueden escribir como sumas de funciones más simples mediante la aplicación de la expansión de fracciones parciales."
   ]
  },
  {
   "cell_type": "code",
   "execution_count": 20,
   "metadata": {},
   "outputs": [],
   "source": [
    "F = ((s + 1)*(s + 2)* (s + 3))/((s + 4)*(s + 5)*(s + 6))"
   ]
  },
  {
   "cell_type": "code",
   "execution_count": 21,
   "metadata": {},
   "outputs": [
    {
     "data": {
      "image/png": "[encoded data removed]",
      "text/latex": [
       "$\\displaystyle \\frac{\\left(s + 1\\right) \\left(s + 2\\right) \\left(s + 3\\right)}{\\left(s + 4\\right) \\left(s + 5\\right) \\left(s + 6\\right)}$"
      ],
      "text/plain": [
       "(s + 1)⋅(s + 2)⋅(s + 3)\n",
       "───────────────────────\n",
       "(s + 4)⋅(s + 5)⋅(s + 6)"
      ]
     },
     "execution_count": 21,
     "metadata": {},
     "output_type": "execute_result"
    }
   ],
   "source": [
    "F"
   ]
  },
  {
   "cell_type": "code",
   "execution_count": 22,
   "metadata": {},
   "outputs": [
    {
     "data": {
      "image/png": "[encoded data removed]",
      "text/latex": [
       "$\\displaystyle 1 - \\frac{30}{s + 6} + \\frac{24}{s + 5} - \\frac{3}{s + 4}$"
      ],
      "text/plain": [
       "      30      24      3  \n",
       "1 - ───── + ───── - ─────\n",
       "    s + 6   s + 5   s + 4"
      ]
     },
     "execution_count": 22,
     "metadata": {},
     "output_type": "execute_result"
    }
   ],
   "source": [
    "F.apart(s)"
   ]
  },
  {
   "cell_type": "markdown",
   "metadata": {
    "lang": "es"
   },
   "source": [
    "Incluso sympy puede beneficiarse de un poco de ayuda a veces. Cuando intentamos calcular el inverso de $F$ obtenemos una respuesta un tanto desagradable:"
   ]
  },
  {
   "cell_type": "code",
   "execution_count": 23,
   "metadata": {},
   "outputs": [
    {
     "data": {
      "image/png": "[encoded data removed]",
      "text/latex": [
       "$\\displaystyle 3 \\left(e^{2 t} - 2 e^{t} + 1\\right) e^{- 6 t} \\theta\\left(t\\right) - 11 \\left(2 e^{2 t} - 5 e^{t} + 3\\right) e^{- 6 t} \\theta\\left(t\\right) + 6 \\left(8 e^{2 t} - 25 e^{t} + 18\\right) e^{- 6 t} \\theta\\left(t\\right) + \\mathcal{L}^{-1}_{s}\\left[\\frac{s^{3}}{s^{3} + 15 s^{2} + 74 s + 120}\\right]\\left(t\\right)$"
      ],
      "text/plain": [
       "                                                                              \n",
       "  ⎛ 2⋅t      t    ⎞  -6⋅t           ⎛   2⋅t      t    ⎞  -6⋅t          ⎛   2⋅t\n",
       "3⋅⎝ℯ    - 2⋅ℯ  + 1⎠⋅ℯ    ⋅θ(t) - 11⋅⎝2⋅ℯ    - 5⋅ℯ  + 3⎠⋅ℯ    ⋅θ(t) + 6⋅⎝8⋅ℯ   \n",
       "                                                                              \n",
       "                                                                              \n",
       "\n",
       "                                                   ⎛            3             \n",
       "       t     ⎞  -6⋅t                               ⎜           s              \n",
       " - 25⋅ℯ  + 18⎠⋅ℯ    ⋅θ(t) + InverseLaplaceTransform⎜───────────────────────, s\n",
       "                                                   ⎜ 3       2                \n",
       "                                                   ⎝s  + 15⋅s  + 74⋅s + 120   \n",
       "\n",
       "         ⎞\n",
       "         ⎟\n",
       ", t, None⎟\n",
       "         ⎟\n",
       "         ⎠"
      ]
     },
     "execution_count": 23,
     "metadata": {},
     "output_type": "execute_result"
    }
   ],
   "source": [
    "invL(F)"
   ]
  },
  {
   "cell_type": "markdown",
   "metadata": {
    "lang": "es"
   },
   "source": [
    "Tal vez se vea mejor si simplificamos?"
   ]
  },
  {
   "cell_type": "code",
   "execution_count": 24,
   "metadata": {},
   "outputs": [
    {
     "data": {
      "image/png": "[encoded data removed]",
      "text/latex": [
       "$\\displaystyle \\mathcal{L}^{-1}_{s}\\left[\\frac{s^{3}}{s^{3} + 15 s^{2} + 74 s + 120}\\right]\\left(t\\right) + 29 e^{- 4 t} \\theta\\left(t\\right) - 101 e^{- 5 t} \\theta\\left(t\\right) + 78 e^{- 6 t} \\theta\\left(t\\right)$"
      ],
      "text/plain": [
       "                       ⎛            3                      ⎞                  \n",
       "                       ⎜           s                       ⎟       -4⋅t       \n",
       "InverseLaplaceTransform⎜───────────────────────, s, t, None⎟ + 29⋅ℯ    ⋅θ(t) -\n",
       "                       ⎜ 3       2                         ⎟                  \n",
       "                       ⎝s  + 15⋅s  + 74⋅s + 120            ⎠                  \n",
       "\n",
       "                               \n",
       "      -5⋅t            -6⋅t     \n",
       " 101⋅ℯ    ⋅θ(t) + 78⋅ℯ    ⋅θ(t)\n",
       "                               \n",
       "                               "
      ]
     },
     "execution_count": 24,
     "metadata": {},
     "output_type": "execute_result"
    }
   ],
   "source": [
    "invL(F).simplify()"
   ]
  },
  {
   "cell_type": "markdown",
   "metadata": {
    "lang": "es"
   },
   "source": [
    "No, todavía presenta una transformada laplace \"desconocida\". Si hacemos primero la expansión de fracciones parciales, obtenemos una respuesta limpia:"
   ]
  },
  {
   "cell_type": "code",
   "execution_count": 25,
   "metadata": {
    "lang": "en"
   },
   "outputs": [
    {
     "data": {
      "image/png": "[encoded data removed]",
      "text/latex": [
       "$\\displaystyle \\delta\\left(t\\right) - 3 e^{- 4 t} \\theta\\left(t\\right) + 24 e^{- 5 t} \\theta\\left(t\\right) - 30 e^{- 6 t} \\theta\\left(t\\right)$"
      ],
      "text/plain": [
       "          -4⋅t            -5⋅t            -6⋅t     \n",
       "δ(t) - 3⋅ℯ    ⋅θ(t) + 24⋅ℯ    ⋅θ(t) - 30⋅ℯ    ⋅θ(t)"
      ]
     },
     "execution_count": 25,
     "metadata": {},
     "output_type": "execute_result"
    }
   ],
   "source": [
    "invL(F.apart(s))"
   ]
  }
 ],
 "metadata": {
  "anaconda-cloud": {},
  "kernelspec": {
   "display_name": "Python 3",
   "language": "python",
   "name": "python3"
  },
  "language_info": {
   "codemirror_mode": {
    "name": "ipython",
    "version": 3
   },
   "file_extension": ".py",
   "mimetype": "text/x-python",
   "name": "python",
   "nbconvert_exporter": "python",
   "pygments_lexer": "ipython3",
   "version": "3.9.5"
  },
  "latex_envs": {
   "LaTeX_envs_menu_present": true,
   "autoclose": false,
   "autocomplete": true,
   "bibliofile": "biblio.bib",
   "cite_by": "apalike",
   "current_citInitial": 1,
   "eqLabelWithNumbers": true,
   "eqNumInitial": 1,
   "hotkeys": {
    "equation": "Ctrl-E",
    "itemize": "Ctrl-I"
   },
   "labels_anchors": false,
   "latex_user_defs": false,
   "report_style_numbering": false,
   "user_envs_cfg": false
  },
  "nbTranslate": {
   "displayLangs": [
    "es"
   ],
   "hotkey": "alt-t",
   "langInMainMenu": true,
   "sourceLang": "en",
   "targetLang": "es",
   "useGoogleTranslate": true
  }
 },
 "nbformat": 4,
 "nbformat_minor": 4
}

{
 "cells": [
  {
   "cell_type": "code",
   "execution_count": 5,
   "id": "04319fe6-a9ad-45be-a482-cc0eaad006d6",
   "metadata": {},
   "outputs": [],
   "source": [
    "import control as ctrl\n",
    "import numpy as np\n",
    "import scipy as sp"
   ]
  },
  {
   "cell_type": "code",
   "execution_count": 3,
   "id": "8bd8fd7b-251b-4d47-ab24-9901a552ca14",
   "metadata": {},
   "outputs": [
    {
     "data": {
      "text/plain": [
       "array([-2., -1.])"
      ]
     },
     "execution_count": 3,
     "metadata": {},
     "output_type": "execute_result"
    }
   ],
   "source": [
    "H1=ctrl.tf([2],[1,3,2])\n",
    "H1.pole()\n"
   ]
  },
  {
   "cell_type": "code",
   "execution_count": 19,
   "id": "1d6ea1e0-083c-4a32-a486-4cb85733473e",
   "metadata": {},
   "outputs": [
    {
     "name": "stdout",
     "output_type": "stream",
     "text": [
      "[ 2. -2.] [-1. -2.] []\n"
     ]
    }
   ],
   "source": [
    "r,p,k=sp.signal.residue(H1.num[0][0],H1.den[0][0])\n",
    "print(r,p,k)"
   ]
  },
  {
   "cell_type": "code",
   "execution_count": 17,
   "id": "3bf9ef05-7f03-44e0-a637-86fd95d0d97e",
   "metadata": {},
   "outputs": [
    {
     "data": {
      "text/plain": [
       "numpy.ndarray"
      ]
     },
     "execution_count": 17,
     "metadata": {},
     "output_type": "execute_result"
    }
   ],
   "source": [
    "type(H1.num[0][0])\n"
   ]
  },
  {
   "cell_type": "code",
   "execution_count": 20,
   "id": "b2da86a9-9e33-4c4e-9dac-b0d63c9347d3",
   "metadata": {},
   "outputs": [
    {
     "data": {
      "text/plain": [
       "array([-2., -1.])"
      ]
     },
     "execution_count": 20,
     "metadata": {},
     "output_type": "execute_result"
    }
   ],
   "source": [
    "H2=ctrl.tf([2,2.2],[1.1,1.1*3,1.1*2])\n",
    "H2.pole()"
   ]
  },
  {
   "cell_type": "code",
   "execution_count": 21,
   "id": "0481a972-3bf3-4e39-8a56-324c4af778b2",
   "metadata": {},
   "outputs": [
    {
     "name": "stdout",
     "output_type": "stream",
     "text": [
      "[0.18181818 1.63636364] [-1. -2.] []\n"
     ]
    }
   ],
   "source": [
    "r,p,k=sp.signal.residue(H2.num[0][0],H2.den[0][0])\n",
    "print(r,p,k)"
   ]
  },
  {
   "cell_type": "code",
   "execution_count": null,
   "id": "7af019a1-db0d-45fd-99da-1cd974580a2c",
   "metadata": {},
   "outputs": [],
   "source": []
  }
 ],
 "metadata": {
  "kernelspec": {
   "display_name": "Python 3 (ipykernel)",
   "language": "python",
   "name": "python3"
  },
  "language_info": {
   "codemirror_mode": {
    "name": "ipython",
    "version": 3
   },
   "file_extension": ".py",
   "mimetype": "text/x-python",
   "name": "python",
   "nbconvert_exporter": "python",
   "pygments_lexer": "ipython3",
   "version": "3.9.5"
  }
 },
 "nbformat": 4,
 "nbformat_minor": 5
}

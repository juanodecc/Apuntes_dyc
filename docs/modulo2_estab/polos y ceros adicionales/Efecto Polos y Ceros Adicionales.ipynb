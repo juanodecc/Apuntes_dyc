{
 "cells": [
  {
   "cell_type": "markdown",
   "metadata": {},
   "source": [
    "# Efecto de los polos adicionales y de los ceros\n",
    "Hasta ahora hemos estudiado el comportamiento de los sistemas de segundo orden. Ahora estudiaremos como afectan a la respuesta temporal agregar un cero o un polo.\n",
    "\n",
    "Estudiemos el siguiente caso, tenemos una función de transferencia de la siguiente forma:\n",
    "$$G_1=\\frac{2}{(s+1)(s+2)}$$\n",
    "\n",
    "Separando en fracciones simples queda:\n",
    "$$G_1=\\frac{2}{s+1}-\\frac{2}{s+2}$$\n",
    "\n",
    "Vemos que ambas exponenciales tienen una amplitud similar.\n",
    "\n",
    "Agreguemos un cero en -1.1. La función de transferencia quedará de la forma:\n",
    "$$G_2=\\frac{2(s+1.1)}{1.1(s+1)(s+2)}$$\n",
    "\n",
    "Y separando en fracciones simples nos queda:\n",
    "$$G_2=\\frac{0.18}{s+1}+\\frac{1.64}{s+2}$$\n",
    "\n",
    "Como vemos, la exponencial más rápida disminuyó su amplitud en más de 10 veces."
   ]
  },
  {
   "cell_type": "markdown",
   "metadata": {},
   "source": [
    "El siguiente código permite calcular residuos usando el paquete `scipy` y la función `residue`"
   ]
  },
  {
   "cell_type": "code",
   "execution_count": 9,
   "metadata": {},
   "outputs": [
    {
     "name": "stdout",
     "output_type": "stream",
     "text": [
      "[ 2. -2.] [-1. -2.] []\n",
      "[0.18181818 1.63636364] [-1. -2.] []\n"
     ]
    }
   ],
   "source": [
    "import scipy as sp\n",
    "import control as ctrl\n",
    "import matplotlib.pyplot as plt\n",
    "import numpy as np\n",
    "%matplotlib qt5\n",
    "\n",
    "H1=ctrl.tf([2],[1,3,2])\n",
    "H2=ctrl.tf([2,2.2],[1.1,1.1*3,1.1*2])\n",
    "\n",
    "r1,p1,k1=sp.signal.residue(H1.num[0][0],H1.den[0][0])\n",
    "print(r1,p1,k1)\n",
    "\n",
    "r2,p2,k2=sp.signal.residue(H2.num[0][0],H2.den[0][0])\n",
    "print(r2,p2,k2)"
   ]
  },
  {
   "cell_type": "markdown",
   "metadata": {},
   "source": [
    "comparemos la respuesta impulsiva del los sistemas en simulación"
   ]
  },
  {
   "cell_type": "code",
   "execution_count": 10,
   "metadata": {},
   "outputs": [
    {
     "data": {
      "text/plain": [
       "Text(0.5, 1.0, 'Respuesta impulsiva $H_1(s)$ y $H_2(s)$')"
      ]
     },
     "execution_count": 10,
     "metadata": {},
     "output_type": "execute_result"
    }
   ],
   "source": [
    "t1,y1 = ctrl.impulse_response(H1)\n",
    "t2,y2 = ctrl.impulse_response(H2)\n",
    "\n",
    "t=np.linspace(0,7,51)\n",
    "h1_p1=2*np.exp(-t)\n",
    "h1_p2=2*np.exp(-2*t)\n",
    "\n",
    "plt.figure()\n",
    "plt.plot(t1,y1,'r',t2,y2,'b',t,h1_p1,'k:',t,h1_p2,'g:')\n",
    "plt.grid()\n",
    "plt.legend([r'$h_1(t)=\\frac{2}{s+1}-\\frac{2}{s+2}$',r'$h_2(t)=\\frac{0.18}{s+1}+\\frac{1.63}{s+2}$','$h1(t)_{p=-1}=2e^{-t}$','$h1(t)_{p=-2}=2e^{-2t}$'])\n",
    "plt.xlabel(\"Tiempo\")\n",
    "plt.ylabel(\"Amplitud\")\n",
    "plt.title(r'Respuesta impulsiva $H_1(s)$ y $H_2(s)$')"
   ]
  },
  {
   "cell_type": "code",
   "execution_count": 12,
   "metadata": {},
   "outputs": [
    {
     "data": {
      "text/plain": [
       "(array([-2., -1.]), array([-1.1]))"
      ]
     },
     "execution_count": 12,
     "metadata": {},
     "output_type": "execute_result"
    }
   ],
   "source": [
    "plt.figure()\n",
    "ctrl.pzmap(H2)"
   ]
  },
  {
   "cell_type": "markdown",
   "metadata": {},
   "source": [
    "De la imagen anterior, vemos que la respuesta impulsiva del sistema $H_2(s)$ se aproxima a la respuesta del polo en $s=-2$, esto está relacionado con el peso relativo de los residuos de cada polo y a su vez esto con la cercanía entre el polo en $s=-1$ y el cero en $s=-1,1$"
   ]
  },
  {
   "cell_type": "markdown",
   "metadata": {},
   "source": [
    "Hagamos un análisis más detallado:\n",
    "Tengamos en cuenta la función de transferencia normalizada de la siguiente manera:\n",
    "\n",
    "Observemos que el cero lo agregamos a un factor $\\alpha$ con respecto a la parte real de los polos complejos conjugados: $s = -\\alpha\\zeta\\omega_n = -\\alpha\\sigma$"
   ]
  },
  {
   "cell_type": "markdown",
   "metadata": {},
   "source": [
    "### Efecto Cero adicional"
   ]
  },
  {
   "cell_type": "markdown",
   "metadata": {},
   "source": [
    "<figure>\n",
    "<img style=\"display:block; margin-left: auto; margin-right: auto;\" src=\"fig6.png\" width=\"400\" alt=\"respuesta\">\n",
    "<figcaption style=\"text-align:center; \"><i>Respuestas al escalón de  $G(s)=\\dfrac{\\frac{s}{\\alpha\\zeta\\omega_n}+1}{(s/\\omega_n)^2 + 2\\zeta(s/\\omega_n)}$ para $\\zeta = 0.5$ y para distintos valores de $\\alpha$</i></figcaption>\n",
    "</figure>\n"
   ]
  },
  {
   "cell_type": "markdown",
   "metadata": {},
   "source": [
    "<figure>\n",
    "<img style=\"display:block; margin-left: auto; margin-right: auto;\" src=\"fig7.png\" width=\"400\" alt=\"Sobrepico\">\n",
    "<figcaption style=\"text-align:center; \"><i>Sobrepico en función de $\\alpha$ y $\\zeta$</i></figcaption>\n",
    "</figure>"
   ]
  },
  {
   "cell_type": "markdown",
   "metadata": {},
   "source": [
    "Si queremos analizar como se comporta con el cero sobre el eje real positivo (se lo llama cero de no minima fase):"
   ]
  },
  {
   "cell_type": "markdown",
   "metadata": {},
   "source": [
    "De la figura concluímos que a medida que el cero se acerca al valor de la parte real de los polos, el sobrepico aumenta. En la figura anterior. vemos como aumenta el sobrepico al disminuir el valor de $\\alpha$ para distintos valores de $\\zeta$ . De la misma podemos afirmar que el valor del sobrepico no es muy afectado por el cero si el mismo se encuantra más alla de un factor 4 de la parte real de los polos complejos conjugados."
   ]
  },
  {
   "cell_type": "markdown",
   "metadata": {},
   "source": [
    "Si escribimos la función de transferencia de la siguiente manera:\n",
    "$$G(s)=\\frac{1}{s^2+2\\zeta s+1}+\\frac{1}{\\alpha\\zeta}\\frac{s}{s^2+2\\zeta s+1}$$\n",
    "\n",
    "Notamos que el primer término es la función de transferencia original (sin el cero), y el segundo término es la derivada de la función de transferencia original afectada por una constante $\\frac{1}{\\alpha\\zeta}$. Por lo tanto, la respuesta a un escalón de la función de transferencia $G(s)$ será la respuesta a un escalón de la función de transferencia sin el cero, más la derivada de esa respuesta por la constante. De esta manera podemos explicar la presencia de un sobrepico mayor. En la figura siguiente muestra la respuesta a un escalón para el sistema original, su derivada y la suma de ambas (respuesta al sistema con el cero).\n",
    "\n",
    "<figure>\n",
    "<img style=\"display:block; margin-left: auto; margin-right: auto;\" src=\"fig8.png\" width=\"400\" alt=\"Sobrepico\">\n",
    "<figcaption style=\"text-align:center; \"><i>Respuesta del sistema original, su derivada y la suma de ambas</i></figcaption>\n",
    "</figure>"
   ]
  },
  {
   "cell_type": "markdown",
   "metadata": {},
   "source": [
    "Para el caso de un cero en el semiplano derecho, debemos considerar $\\alpha < 0$, y sigue valiendo el mismo análisis. La próxima figura, mostramos la evolución de la respuesta a un escalón del sistema original, su derivada cambiada de signo y la respuesta del sistema con un cero en el semiplano derecho (un cero de no mínima fase). De esta figura observamos que la respuesta al escalón puede comenzar en sentido contrario a la referencia y luego se corrige.\n",
    "<figure>\n",
    "<img style=\"display:block; margin-left: auto; margin-right: auto;\" src=\"fig9.png\" width=\"400\" alt=\"Sobrepico\">\n",
    "<figcaption style=\"text-align:center; \"><i>Respuesta a un escalón del sistema original, su derivada cambiada de signo y la suma de ambas.</i></figcaption>\n",
    "</figure>\n"
   ]
  },
  {
   "cell_type": "markdown",
   "metadata": {},
   "source": [
    "En la siguiente celda, al ejecutarla, se muestra una figura interactiva donde se puede cambiar el valor del $\\alpha$ y ver como afecta la respuesta temporal, el cero adicional. En rojo punteado se grafica la salida del sistema de orden 2 puro.\n",
    "\n",
    "**Nota importante:** es necesario instalar el paquete ipywidgets, y es posible que no funciones en Jupyter Lab, si no aparecen los \"slider bar\" para modificar el $\\alpha$ buscar la solución en la web, o abrir el notebook en Jupyter notebook donde debería funcionar correctamente."
   ]
  },
  {
   "cell_type": "code",
   "execution_count": null,
   "metadata": {},
   "outputs": [],
   "source": [
    "#Orden 2 + Cero adicional\n",
    "from ipywidgets import interact\n",
    "import control as ctrl\n",
    "import matplotlib.pyplot as plt\n",
    "import matplotlib.gridspec as gridspec\n",
    "import numpy as np\n",
    "%matplotlib inline\n",
    "\n",
    "def draw_figure(poleG,zeroG,t,y,yord2):\n",
    "    \n",
    "    fig = plt.figure(figsize=(12,4))\n",
    "    gs = gridspec.GridSpec(1, 2, height_ratios=[1], width_ratios=[1,2])\n",
    "    \n",
    "    ax1 = fig.add_subplot(gs[0])\n",
    "    ax2 = fig.add_subplot(gs[1])\n",
    "\n",
    "    ax1.set_title(\"Polos y Ceros\")\n",
    "    ax1.set_xlabel(\"Parte Real\")\n",
    "    ax1.set_ylabel(\"Parte imaginaria\")\n",
    "    ax1.spines['left'].set_color('none')\n",
    "    ax1.spines['right'].set_color('none')\n",
    "    ax1.spines['top'].set_color('none')\n",
    "    ax1.spines['bottom'].set_color('none')\n",
    "\n",
    "    ax2.set_title(\"Respuesta Temporal\")\n",
    "    ax2.set_xlabel(\"Tiempo\")\n",
    "    ax2.set_ylabel(\"Amplitud\")\n",
    "    fig.tight_layout()\n",
    "    \n",
    "    ax1.scatter(np.real(zeroG), np.imag(zeroG), marker='o')\n",
    "    ax1.scatter(np.real(poleG), np.imag(poleG), marker='x')\n",
    "    ax2.plot(t,y)\n",
    "    ax2.plot(t,yord2,'--r')\n",
    "    ax2.grid()\n",
    "    plt.show()\n",
    "\n",
    "\n",
    "def update(alpha=1, wn=1, zeta=0.5,tmax=10):\n",
    "    G=ctrl.tf([1/wn/alpha/zeta,1],[1/wn**2,2*zeta/wn,1])\n",
    "    Gord2=ctrl.tf([1],[1/wn**2,2*zeta/wn,1])\n",
    "    alpha=0.001 if alpha==0 else alpha\n",
    "    t=np.linspace(0,tmax,501)\n",
    "    _,y=ctrl.step_response(G,T=t)\n",
    "    _,yord2=ctrl.step_response(Gord2,T=t)\n",
    "    polesG=G.pole()\n",
    "    zeroG=G.zero()\n",
    "    draw_figure(polesG,zeroG,t,y,yord2)\n",
    "    \n",
    "interact(update, alpha=(-20.01,50,0.1),wn=(0.01,10,0.1),zeta=(0.001,1.01,0.02),tmax=(1, 20));"
   ]
  },
  {
   "cell_type": "code",
   "execution_count": null,
   "metadata": {},
   "outputs": [],
   "source": [
    "\n",
    "np.pi.getsource()\n",
    "\n"
   ]
  },
  {
   "cell_type": "markdown",
   "metadata": {},
   "source": [
    "### Efecto Polo Adicional"
   ]
  },
  {
   "cell_type": "markdown",
   "metadata": {},
   "source": [
    "Analicemos ahora el caso de agregar un polo. Escribamos la función de transferencia de la siguiente forma:\n",
    "$$G(s)=\\dfrac{1}{\\left(\\frac{s}{\\alpha\\zeta\\omega_n}+1\\right)\\left[\\left(\\frac{s}{\\omega_n}\\right)^2+2\\zeta\\left(\\frac{s}{\\omega_n}\\right)+1\\right]}, \\text{para } \\zeta = 0.5, \\alpha = 1, 2, 5 ,100, \\infty$$\n",
    "\n",
    "<figure>\n",
    "<img style=\"display:block; margin-left: auto; margin-right: auto;\" src=\"fig10.png\" width=\"400\" alt=\"Sobrepico\">\n",
    "<figcaption style=\"text-align:center; \"><i>Respuesta a un escalón para el sistema $$G(s) \\text{ para } \\zeta = 0.5, \\alpha = 1, 2, 5 ,100, \\infty$$</i></figcaption>\n",
    "</figure>\n",
    "\n",
    "Como podemos observar de la figura, la presencia de un polo adicional afecta sensiblemente al tiempo de crecimiento, y el mismo se hace más grande cuanto el polo adicional se acerca más al origen."
   ]
  },
  {
   "cell_type": "markdown",
   "metadata": {},
   "source": [
    "En la figura que sigue muestra el comportamiento del tiempo de crecimiento en función del valor de a parametrizada con $\\zeta$. Del mismo podemos inferir que si el polo adicional está más lejos que 4 veces la parte real de los polos complejos conjugados, el tiempo de crecimiento no es prácticamente afectado.\n",
    "<figure>\n",
    "<img style=\"display:block; margin-left: auto; margin-right: auto;\" src=\"fig11.png\" width=\"400\" alt=\"Sobrepico\">\n",
    "<figcaption style=\"text-align:center; \"><i> Tiempo de crecimiento en función de a, para $\\zeta$ = 0.5, 0.7 y 1.0</i></figcaption>\n",
    "</figure>"
   ]
  },
  {
   "cell_type": "markdown",
   "metadata": {},
   "source": [
    "En la siguiente celda, al ejecutarla, se muestra una figura interactiva donde se puede cambiar el valor del $\\alpha$ y ver como afecta la respuesta temporal la ubicación del polo adicional. En rojo punteado se grafica la salida del sistema de orden 2 puro.\n",
    "\n",
    "**Nota importante:** es necesario instalar el paquete ipywidgets, y es posible que no funciones en Jupyter Lab, si no aparecen los \"slider bar\" para modificar el $\\alpha$ buscar la solución en la web, o abrir el notebook en Jupyter notebook donde debería funcionar correctamente."
   ]
  },
  {
   "cell_type": "code",
   "execution_count": null,
   "metadata": {},
   "outputs": [],
   "source": [
    "#Orden 2 + Polo adicional \n",
    "from ipywidgets import interact\n",
    "import control as ctrl\n",
    "import matplotlib.pyplot as plt\n",
    "import matplotlib.gridspec as gridspec\n",
    "import numpy as np\n",
    "%matplotlib inline\n",
    "\n",
    "def draw_figure(poleG,zeroG,t,y,yord2):\n",
    "    \n",
    "    fig = plt.figure(figsize=(12,4))\n",
    "    gs = gridspec.GridSpec(1, 2, height_ratios=[1], width_ratios=[1,2])\n",
    "    \n",
    "    ax1 = fig.add_subplot(gs[0])\n",
    "    ax2 = fig.add_subplot(gs[1])\n",
    "\n",
    "    ax1.set_title(\"Polos y Ceros\")\n",
    "    ax1.set_xlabel(\"Parte Real\")\n",
    "    ax1.set_ylabel(\"Parte imaginaria\")\n",
    "    ax1.spines['left'].set_color('none')\n",
    "    ax1.spines['right'].set_color('none')\n",
    "    ax1.spines['top'].set_color('none')\n",
    "    ax1.spines['bottom'].set_color('none')\n",
    "    ax1.grid()\n",
    "   \n",
    "\n",
    "    ax2.set_title(\"Respuesta Temporal\")\n",
    "    ax2.set_xlabel(\"Tiempo\")\n",
    "    ax2.set_ylabel(\"Amplitud\")\n",
    "    fig.tight_layout()\n",
    "    \n",
    "    ax1.scatter(np.real(zeroG), np.imag(zeroG), marker='o')\n",
    "    ax1.scatter(np.real(poleG), np.imag(poleG), marker='x')\n",
    "    ax2.plot(t,y)\n",
    "    ax2.plot(t,yord2,'--r')\n",
    "    ax2.grid()\n",
    "    plt.show()\n",
    "\n",
    "\n",
    "def update(alpha=1, wn=1, zeta=0.5,tmax=10):\n",
    "    G=ctrl.tf(1,[1/wn/alpha/zeta,1])*ctrl.tf(1,[1/wn**2,2*zeta/wn,1])\n",
    "    Gord2=ctrl.tf([1],[1/wn**2,2*zeta/wn,1])\n",
    "    alpha=0.001 if alpha==0 else alpha\n",
    "    t=np.linspace(0,tmax,501)\n",
    "    _,y=ctrl.step_response(G,T=t)\n",
    "    _,yord2=ctrl.step_response(Gord2,T=t)\n",
    "    polesG=G.pole()\n",
    "    zeroG=G.zero()\n",
    "    draw_figure(polesG,zeroG,t,y,yord2)\n",
    "    \n",
    "interact(update, alpha=(-20.01,50,0.1),wn=(0.01,10,0.1),zeta=(0.001,1.01,0.02),tmax=(1, 20));"
   ]
  }
 ],
 "metadata": {
  "kernelspec": {
   "display_name": "Python 3 (ipykernel)",
   "language": "python",
   "name": "python3"
  },
  "language_info": {
   "codemirror_mode": {
    "name": "ipython",
    "version": 3
   },
   "file_extension": ".py",
   "mimetype": "text/x-python",
   "name": "python",
   "nbconvert_exporter": "python",
   "pygments_lexer": "ipython3",
   "version": "3.9.5"
  }
 },
 "nbformat": 4,
 "nbformat_minor": 4
}

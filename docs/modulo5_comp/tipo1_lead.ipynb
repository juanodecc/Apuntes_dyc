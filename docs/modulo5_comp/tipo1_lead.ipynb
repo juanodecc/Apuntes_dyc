{
 "cells": [
  {
   "cell_type": "code",
   "execution_count": 1,
   "metadata": {},
   "outputs": [],
   "source": [
    "import control as ctrl\n",
    "import numpy as np\n",
    "import matplotlib.pyplot as plt\n",
    "%matplotlib qt5"
   ]
  },
  {
   "cell_type": "markdown",
   "metadata": {
    "id": "DY-PCt6BUuum"
   },
   "source": [
    "## Problema con sistema de tipo 1\n",
    "\n",
    "Para el sistema :\n",
    "\n",
    "$$ G(s) = \\frac{10}{s\\left(\\frac{s}{2.5}+1\\right)\\left(\\frac{s}{6}+1\\right)} $$"
   ]
  },
  {
   "cell_type": "markdown",
   "metadata": {},
   "source": [
    "Se requeire un sistema que tenga un margen de fase de 45 grados y una constante de velocidad $K_v=10$ "
   ]
  },
  {
   "cell_type": "code",
   "execution_count": 2,
   "metadata": {
    "id": "FIWjpMlgh-jy"
   },
   "outputs": [],
   "source": [
    "s=ctrl.tf('s')\n",
    "G1=10/((s/2.5+1)*(s/6+1)*s)"
   ]
  },
  {
   "cell_type": "markdown",
   "metadata": {},
   "source": [
    "Analizamos los polos del sistema a lazo abierto"
   ]
  },
  {
   "cell_type": "code",
   "execution_count": 3,
   "metadata": {
    "colab": {
     "base_uri": "https://localhost:8080/",
     "height": 34
    },
    "id": "3wzuqv1tvisZ",
    "outputId": "e4a0e8c3-a2b4-4fff-e740-44ff7153ccfb"
   },
   "outputs": [
    {
     "data": {
      "text/plain": [
       "array([-6. , -2.5,  0. ])"
      ]
     },
     "execution_count": 3,
     "metadata": {},
     "output_type": "execute_result"
    }
   ],
   "source": [
    "G1.pole()"
   ]
  },
  {
   "cell_type": "code",
   "execution_count": 4,
   "metadata": {
    "colab": {
     "base_uri": "https://localhost:8080/",
     "height": 34
    },
    "id": "3vL2_QJUvuNC",
    "outputId": "500d5365-c17d-48a6-cadf-4b4f5c0d94d7"
   },
   "outputs": [
    {
     "name": "stdout",
     "output_type": "stream",
     "text": [
      "-4.170645874604446 4.195274375474061\n"
     ]
    }
   ],
   "source": [
    "ctrl.bode(G1, dB=True);\n",
    "_,pm,_,_,wp,_=ctrl.stability_margins(G1)\n",
    "print(pm,wp)"
   ]
  },
  {
   "cell_type": "code",
   "execution_count": 5,
   "metadata": {
    "colab": {
     "base_uri": "https://localhost:8080/",
     "height": 51
    },
    "id": "-tl9FHGMvwUQ",
    "outputId": "2640ef1c-0e2f-4b2e-c94b-ff6b3453f6cc"
   },
   "outputs": [
    {
     "name": "stdout",
     "output_type": "stream",
     "text": [
      "1 states have been removed from the model\n"
     ]
    },
    {
     "data": {
      "text/plain": [
       "array(10.)"
      ]
     },
     "execution_count": 5,
     "metadata": {},
     "output_type": "execute_result"
    }
   ],
   "source": [
    "ctrl.dcgain(ctrl.minreal(G1*s))"
   ]
  },
  {
   "cell_type": "code",
   "execution_count": 6,
   "metadata": {
    "colab": {
     "base_uri": "https://localhost:8080/",
     "height": 51
    },
    "id": "y6CungtPxaxT",
    "outputId": "50754d66-1f23-469d-b178-273ec8952eb4"
   },
   "outputs": [
    {
     "name": "stdout",
     "output_type": "stream",
     "text": [
      "El ángulo máximo a agregar es 59.170645874604446\n",
      "Esto produce un esto pruduce una relación z/p de 0.07602235029343364\n"
     ]
    }
   ],
   "source": [
    "phi_max=(45+10-pm)\n",
    "print(f\"El ángulo máximo a agregar es {phi_max}\")\n",
    "phi_max = phi_max*np.pi/180\n",
    "alpha = (1-np.sin(phi_max))/(1+np.sin(phi_max))\n",
    "print(f\"Esto produce un esto pruduce una relación z/p de {alpha}\")"
   ]
  },
  {
   "cell_type": "markdown",
   "metadata": {
    "id": "O1xRwcsGXtjd"
   },
   "source": [
    "Probamos poniendo el el $\\omega_{max}$ en la frecuencia de corte."
   ]
  },
  {
   "cell_type": "code",
   "execution_count": 10,
   "metadata": {
    "id": "tPbtVkgyyJzq"
   },
   "outputs": [
    {
     "data": {
      "text/plain": [
       "0.999989018962078"
      ]
     },
     "execution_count": 10,
     "metadata": {},
     "output_type": "execute_result"
    }
   ],
   "source": [
    "wmax=wp\n",
    "# phi_max=85\n",
    "\n",
    "phi_max = phi_max*np.pi/180\n",
    "alpha = (1-np.sin(phi_max))/(1+np.sin(phi_max))\n",
    "alpha"
   ]
  },
  {
   "cell_type": "code",
   "execution_count": 11,
   "metadata": {
    "id": "IoQl7vEMynro"
   },
   "outputs": [],
   "source": [
    "TD=1/(wmax*np.sqrt(alpha))\n"
   ]
  },
  {
   "cell_type": "code",
   "execution_count": 12,
   "metadata": {
    "colab": {
     "base_uri": "https://localhost:8080/",
     "height": 34
    },
    "id": "oh-9CVGKynrt",
    "outputId": "58151a28-a36b-4e10-b3cc-3d9573bed1a9"
   },
   "outputs": [
    {
     "name": "stdout",
     "output_type": "stream",
     "text": [
      "-4.195251341177321 -4.195297409897273\n"
     ]
    }
   ],
   "source": [
    "z=-1/TD\n",
    "p=-1/(alpha*TD)\n",
    "print(z, p)"
   ]
  },
  {
   "cell_type": "code",
   "execution_count": 13,
   "metadata": {
    "colab": {
     "base_uri": "https://localhost:8080/",
     "height": 119
    },
    "id": "0CEovpvsyp4V",
    "outputId": "0a0686e8-4855-493f-a2d8-0bc082ef1ca3"
   },
   "outputs": [
    {
     "data": {
      "text/plain": [
       "(0.8500059152117225,\n",
       " -4.170469736140717,\n",
       " 0.06745331364378074,\n",
       " 3.873006606772419,\n",
       " 4.195285523086949,\n",
       " 4.14456070243353)"
      ]
     },
     "execution_count": 13,
     "metadata": {},
     "output_type": "execute_result"
    }
   ],
   "source": [
    "Dc=ctrl.tf([-1/z,1],[-1/p,1])\n",
    "ctrl.stability_margins(G1*Dc)"
   ]
  },
  {
   "cell_type": "markdown",
   "metadata": {
    "id": "Imfb6pEtX49F"
   },
   "source": [
    "Vemos que esto no sirve por que la curva de fase se baja demasiado. Deberíamos rediseñar."
   ]
  },
  {
   "cell_type": "code",
   "execution_count": 14,
   "metadata": {
    "colab": {
     "base_uri": "https://localhost:8080/",
     "height": 34
    },
    "id": "SViR-hZE0Z_3",
    "outputId": "2d717167-6f36-4dc8-cfc6-48bb47276560"
   },
   "outputs": [
    {
     "name": "stdout",
     "output_type": "stream",
     "text": [
      "[-3.21539031] [-44.78460969] 1.0 0.07179676972449085\n"
     ]
    }
   ],
   "source": [
    "wmax=12\n",
    "phi_max=60*(np.pi)/180\n",
    "\n",
    "alpha = (1-np.sin(phi_max))/(1+np.sin(phi_max))\n",
    "TD=1/(wmax*np.sqrt(alpha))\n",
    "z=-1/TD\n",
    "p=z/alpha\n",
    "\n",
    "Dc=ctrl.tf([-1/z,1],[-1/p,1])\n",
    "print(Dc.zero(), Dc.pole(), Dc.dcgain(), alpha)"
   ]
  },
  {
   "cell_type": "code",
   "execution_count": 15,
   "metadata": {
    "colab": {
     "base_uri": "https://localhost:8080/",
     "height": 119
    },
    "id": "Hc5joTg1YM4N",
    "outputId": "82c249ed-5875-4355-e2a7-66f3637c21f6"
   },
   "outputs": [
    {
     "data": {
      "text/plain": [
       "(5.635923781559606,\n",
       " 32.83177099437739,\n",
       " 0.4747149875778399,\n",
       " 15.283504622266324,\n",
       " 5.813363382362743,\n",
       " 7.019586651361185)"
      ]
     },
     "execution_count": 15,
     "metadata": {},
     "output_type": "execute_result"
    }
   ],
   "source": [
    "ctrl.stability_margins(G1*Dc)"
   ]
  },
  {
   "cell_type": "markdown",
   "metadata": {
    "id": "VYg2W3IYZVAB"
   },
   "source": [
    "Vemos que no se puede llegar a los 45 grados de margen de fase con solo un compensador de adelanto. \n",
    "\n",
    "Voy a probar con dos dejando el siguiente compensador:"
   ]
  },
  {
   "cell_type": "code",
   "execution_count": 16,
   "metadata": {
    "colab": {
     "base_uri": "https://localhost:8080/",
     "height": 34
    },
    "id": "qGLWg2DbYt-R",
    "outputId": "ffdde9c2-e3e3-486d-85f6-e7c264a49732"
   },
   "outputs": [
    {
     "name": "stdout",
     "output_type": "stream",
     "text": [
      "[-4.68510345] [-17.28883914] 1.0 0.27099005412014443\n"
     ]
    }
   ],
   "source": [
    "\n",
    "wmax=9\n",
    "phi_max=35*(np.pi)/180\n",
    "\n",
    "alpha = (1-np.sin(phi_max))/(1+np.sin(phi_max))\n",
    "TD=1/(wmax*np.sqrt(alpha))\n",
    "z=1/TD\n",
    "p=z/alpha\n",
    "\n",
    "Dc1=ctrl.tf([1/z,1],[1/p,1])\n",
    "print(Dc1.zero(), Dc1.pole(), Dc1.dcgain(), alpha)"
   ]
  },
  {
   "cell_type": "markdown",
   "metadata": {
    "id": "ET_qSL9LZ8SZ"
   },
   "source": [
    "Probamos con la misma idea:"
   ]
  },
  {
   "cell_type": "code",
   "execution_count": 17,
   "metadata": {
    "colab": {
     "base_uri": "https://localhost:8080/",
     "height": 34
    },
    "id": "KFr4agFqZ20c",
    "outputId": "2f5f0222-f48c-469d-b845-18246438dd01"
   },
   "outputs": [
    {
     "name": "stdout",
     "output_type": "stream",
     "text": [
      "[-4.66307658] [-21.44506921] 1.0 0.21744283205399909\n"
     ]
    }
   ],
   "source": [
    "wmax=10\n",
    "phi_max=40*(np.pi)/180\n",
    "alpha = (1-np.sin(phi_max))/(1+np.sin(phi_max))\n",
    "TD=1/(wmax*np.sqrt(alpha))\n",
    "z=1/TD\n",
    "p=z/alpha\n",
    "\n",
    "\n",
    "Dc2=ctrl.tf([1/z,1],[1/p,1])\n",
    "print(Dc2.zero(), Dc2.pole(), Dc2.dcgain(), alpha)"
   ]
  },
  {
   "cell_type": "code",
   "execution_count": 18,
   "metadata": {
    "colab": {
     "base_uri": "https://localhost:8080/",
     "height": 119
    },
    "id": "e8ft-0SqaK-j",
    "outputId": "efc6a38e-3013-4d13-a191-48b2c5c6698d"
   },
   "outputs": [
    {
     "data": {
      "text/plain": [
       "(5.11940378281518,\n",
       " 45.178384292325745,\n",
       " 0.5896895366180702,\n",
       " 18.358679652988574,\n",
       " 6.422352438438121,\n",
       " 9.477339127527927)"
      ]
     },
     "execution_count": 18,
     "metadata": {},
     "output_type": "execute_result"
    }
   ],
   "source": [
    "ctrl.stability_margins(G1*Dc1*Dc2)"
   ]
  },
  {
   "cell_type": "code",
   "execution_count": 19,
   "metadata": {
    "colab": {
     "base_uri": "https://localhost:8080/",
     "height": 430
    },
    "id": "9ihS0xvbaRQh",
    "outputId": "532cc01b-bf93-45a3-a87e-4c0f720824e7"
   },
   "outputs": [
    {
     "data": {
      "image/png": "[encoded data removed]",
      "text/plain": [
       "<Figure size 640x480 with 1 Axes>"
      ]
     },
     "execution_count": 19,
     "metadata": {},
     "output_type": "execute_result"
    }
   ],
   "source": [
    "T=ctrl.feedback(G1*Dc1*Dc2)\n",
    "t,y = ctrl.step_response(T, T=np.linspace(0,2,2401))\n",
    "plt.figure()\n",
    "plt.plot(t,y)\n",
    "plt.grid()\n",
    "plt.gcf()"
   ]
  },
  {
   "cell_type": "code",
   "execution_count": 20,
   "metadata": {
    "colab": {
     "base_uri": "https://localhost:8080/",
     "height": 430
    },
    "id": "P9TBjHZca_ck",
    "outputId": "7bed89f7-7887-4073-f32e-56a4b635c4dd"
   },
   "outputs": [
    {
     "data": {
      "image/png": "[encoded data removed]",
      "text/plain": [
       "<Figure size 640x480 with 1 Axes>"
      ]
     },
     "execution_count": 20,
     "metadata": {},
     "output_type": "execute_result"
    }
   ],
   "source": [
    "T=ctrl.feedback(G1*Dc1*Dc2)\n",
    "plt.figure()\n",
    "t,y = ctrl.step_response(T*ctrl.tf(1,[1,0]), T=np.linspace(0,500,2401))\n",
    "plt.plot(t,y)\n",
    "plt.grid()\n",
    "plt.gcf()"
   ]
  },
  {
   "cell_type": "code",
   "execution_count": 21,
   "metadata": {
    "colab": {
     "base_uri": "https://localhost:8080/",
     "height": 34
    },
    "id": "sGul_zAKcYCK",
    "outputId": "d1647ac9-fc6b-428c-faf5-86ca313d66ec"
   },
   "outputs": [
    {
     "name": "stdout",
     "output_type": "stream",
     "text": [
      "-0.10000000411275778\n"
     ]
    }
   ],
   "source": [
    "error = y[-1]-t[-1]\n",
    "print(error)"
   ]
  },
  {
   "cell_type": "code",
   "execution_count": 22,
   "metadata": {},
   "outputs": [
    {
     "data": {
      "text/plain": [
       "array([-21.44506921, -17.28883914])"
      ]
     },
     "execution_count": 22,
     "metadata": {},
     "output_type": "execute_result"
    }
   ],
   "source": [
    "(Dc1*Dc2).pole()\n"
   ]
  },
  {
   "cell_type": "code",
   "execution_count": 23,
   "metadata": {},
   "outputs": [
    {
     "data": {
      "text/plain": [
       "array([-4.68510345, -4.66307658])"
      ]
     },
     "execution_count": 23,
     "metadata": {},
     "output_type": "execute_result"
    }
   ],
   "source": [
    "(Dc1*Dc2).zero()\n"
   ]
  },
  {
   "cell_type": "code",
   "execution_count": null,
   "metadata": {},
   "outputs": [],
   "source": []
  }
 ],
 "metadata": {
  "kernelspec": {
   "display_name": "Python 3.7.9 64-bit ('dyc': conda)",
   "language": "python",
   "name": "python37964bitdycconda644afdf3304f45ca9ef62be2c2612389"
  },
  "language_info": {
   "codemirror_mode": {
    "name": "ipython",
    "version": 3
   },
   "file_extension": ".py",
   "mimetype": "text/x-python",
   "name": "python",
   "nbconvert_exporter": "python",
   "pygments_lexer": "ipython3",
   "version": "3.7.9"
  }
 },
 "nbformat": 4,
 "nbformat_minor": 4
}

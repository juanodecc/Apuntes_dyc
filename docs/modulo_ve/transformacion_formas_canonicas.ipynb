{
 "cells": [
  {
   "cell_type": "markdown",
   "metadata": {
    "colab_type": "text",
    "id": "V-kf_C3Hhklj"
   },
   "source": [
    "# Transformación lineal del espacio de estado\n",
    "\n",
    "Cosideremos un sistema descripto por las ecuaciones de estado\n",
    "\n",
    "$$\n",
    "\\begin{eqnarray}\n",
    "\\dot{\\mathbf {x}} &=&  \\mathbf A \\mathbf x + \\mathbf B \\mathbf u\\\\\n",
    " y &=& \\mathbf C \\mathbf x + Du\n",
    " \\end{eqnarray}\n",
    "$$\n",
    "\n",
    "Una transformación lineal mediante la matriz $\\mathbf T$, que hace:\n",
    "$$\\mathbf x= \\mathbf T \\mathbf z$$\n",
    "\n",
    "Sustituyendo la ecuación de la transformación en la de la ecuación de estados\n",
    "$$\n",
    "\\begin{eqnarray}\n",
    "\\dot{\\mathbf {x}} = \\mathbf {T\\dot z} &=& \\mathbf {AT} \\mathbf z + \\mathbf B \\mathbf u\\\\\n",
    " \\dot{\\mathbf {z}} &=& \\mathbf {T}^{-1}\\mathbf{AT} \\mathbf z + \\mathbf {T}^{-1}\\mathbf B \\mathbf u\n",
    " \\end{eqnarray}\n",
    "$$\n",
    "\n",
    "Sustituyendo el la ecuación de salida se tiene:\n",
    "\n",
    " $$y = \\mathbf C \\mathbf{Tz} + Du$$\n",
    " \n",
    "Comparando las ecuaciones del sistema transformado, podemos ver que la matriz $\\mathbf T$ tranforma al sistema en:\n",
    "$$\n",
    "\\begin{eqnarray}\n",
    "\\mathbf{\\bar A} &=& \\mathbf {T^{-1}} \\mathbf A \\mathbf T\\\\\n",
    "\\mathbf{\\bar B} &=& \\mathbf{T^{-1} B}\\\\\n",
    "\\mathbf{\\bar C} &=& \\mathbf{CT}\\\\\n",
    "\\bar D &=& D\n",
    "\\end{eqnarray}\n",
    "$$\n",
    "\n"
   ]
  },
  {
   "cell_type": "markdown",
   "metadata": {
    "colab_type": "text",
    "id": "RN8i2Nymhkll"
   },
   "source": [
    "# Transformación a la forma canónica de controlabilidad\n",
    "\n",
    "La matrices de un sistema de orden 3 lineal e invariente en el tiempo representado mediante su forma canónica de controloabilidad tiene la forma:\n",
    "$$\n",
    "A_c = \\begin{bmatrix}\n",
    "-a_1&-a_2&-a_3\\\\\n",
    "1&0&0\\\\\n",
    "0&1&0\\\\\n",
    "\\end{bmatrix},  \\qquad B_c=\\begin{bmatrix}\n",
    "1\\\\\n",
    "0\\\\\n",
    "0\\\\\n",
    "\\end{bmatrix}$$\n",
    "\n",
    "$$\n",
    "C_c=\\begin{bmatrix}\n",
    "c_1&c_2&c_3\n",
    "\\end{bmatrix}, \\qquad D_c=\\begin{bmatrix}0\\end{bmatrix}$$\n"
   ]
  },
  {
   "cell_type": "markdown",
   "metadata": {
    "colab_type": "text",
    "id": "1AakGUPnhklm"
   },
   "source": [
    "Como vimos anteriormente, una transformación lineal mediante la matriz $\\mathbf T$, que hace:\n",
    "\n",
    "$$\\mathbf x=\\mathbf{Tz}$$\n",
    "\n",
    "Por lo tanto podemos, llamando $\\mathbf{\\bar A} = \\mathbf A_c$, tenemos que:\n",
    "\n",
    "$$\\mathbf{A_c} \\mathbf {T^{-1}}=\\mathbf{T^{-1}} \\mathbf {A}$$\n",
    "\n",
    "Escribimos $\\mathbf {T^{-1}}$ como vectores fila, es decir:\n",
    "\n",
    "$$\\mathbf{T^{-1}} = \\begin{bmatrix}\n",
    "\\mathbf{t_1}\\\\\n",
    "\\mathbf{t_2}\\\\\n",
    "\\mathbf{t_3}\\\\\n",
    "\\end{bmatrix}$$\n",
    "\n",
    "$$\n",
    "\\begin{bmatrix}\n",
    "-a_1&-a_2&-a_3\\\\\n",
    "1&0&0\\\\\n",
    "0&1&0\\\\\n",
    "\\end{bmatrix} \n",
    "\\begin{bmatrix}\n",
    "\\mathbf{t_1}\\\\\n",
    "\\mathbf{t_2}\\\\\n",
    "\\mathbf{t_3}\\\\\n",
    "\\end{bmatrix} = \\begin{bmatrix}\n",
    "\\mathbf{t_1}\\mathbf A\\\\\n",
    " \\mathbf{t_2}\\mathbf A\\\\\n",
    " \\mathbf{t_3}\\mathbf A\\\\\n",
    "\\end{bmatrix}\n",
    "$$"
   ]
  },
  {
   "cell_type": "markdown",
   "metadata": {
    "colab_type": "text",
    "id": "2w9ccvl4hkln"
   },
   "source": [
    "Trabajando con las columnas 2 y 3 se tiene que:\n",
    "\n",
    "$$\\left.\\begin{array}{lll}\n",
    "\\mathbf{t_1} &=&\\mathbf{t_2 A}\\\\\n",
    "\\mathbf{t_2} &=& \\mathbf{t_3 A}\\end{array}\\right\\}\\implies \\mathbf{t_1} =\\mathbf{t_3A}^2\n",
    "$$\n"
   ]
  },
  {
   "cell_type": "markdown",
   "metadata": {
    "colab_type": "text",
    "id": "LJFfkgNKhklo"
   },
   "source": [
    "Por otro lado, asumiendo que $\\mathbf B_c$ está en la forma canónica de control, tenemos la relación\n",
    "\n",
    "$$ \\mathbf{T^{-1}}\\mathbf B=\\mathbf{B_c}$$ \n",
    "\n",
    "o:\n",
    "\n",
    "$$  \\begin{bmatrix}\n",
    "\\mathbf{t_1}\\mathbf B\\\\\n",
    "\\mathbf{t_2}\\mathbf B\\\\\n",
    "\\mathbf{t_3}\\mathbf B\\\\\n",
    "\\end{bmatrix} = \\begin{bmatrix}\n",
    "1\\\\\n",
    "0\\\\\n",
    "0\\\\\n",
    "\\end{bmatrix}$$  \n",
    "\n",
    "Combinando las ecuaciones anteriores se tiene que:\n",
    "\n",
    "$$\\begin{eqnarray}\n",
    "\\mathbf{t_3}\\mathbf B &=& 0\\\\\n",
    "\\mathbf{t_2}\\mathbf B &=& \\mathbf{t_3}\\mathbf {AB} &=& 0\\\\\n",
    "\\mathbf{t_1}\\mathbf B &=& \\mathbf{t_3}\\mathbf {A^2B} &=& 1\\\\\n",
    "\\end{eqnarray}$$\n",
    "\n",
    "Estas ecuaciones pueden ser escritas de la siguiente manera:\n",
    "\n",
    "$$\\mathbf{t_3}\\left[\\mathbf B\\quad \\mathbf{AB}\\quad \\mathbf{A^2B}\\right] = \\left[0\\quad 0 \\quad 1 \\right]$$\n",
    "\n",
    "$$\\mathbf{t_3}=[0\\quad 0 \\quad 1]\\mathcal{C}^{-1}$$\n",
    "\n",
    "donde $\\mathcal C$ es la matriz de controlabilidad, con $\\mathcal C = \\left[\\mathbf B\\quad \\mathbf{AB}\\quad \n",
    "\\mathbf{A^2B}\\right]$. \n",
    "\n",
    "Obteniendo $\\mathbf{t_3}$ podemos obetner el resto de las filas de $\\mathbf{T^{-1}}$.\n",
    "\n",
    "Por lo tanto, en general para un sistema de orden $n$, la matriz de controlabilidad es:\n",
    "\n",
    "$$\\mathcal C =\\left[ \\mathbf{B}\\quad\\mathbf{AB}\\quad\\mathbf{A^2B}\\quad\\dots\\quad\\mathbf{A^{n-1}B}\\right]$$\n",
    "\n",
    "Por lo tanto, la última columna de la matriz $\\mathbf{T^{-1}}$ resulta:\n",
    "\n",
    "$$\\mathbf{t_n}=\\left[0\\quad 0\\quad\\dots\\quad 1\\right]\\mathcal C^{-1}$$\n",
    "\n",
    "La matriz $T^{-1}$  se construye como:\n",
    "\n",
    "$$\n",
    "\\mathbf{T^{-1}}=\\begin{bmatrix}\n",
    "\\mathbf{t_n}\\mathbf{A^{n-1}}\\\\\n",
    "\\mathbf{t_n}\\mathbf{A^{n-2}}\\\\\n",
    "\\vdots\\\\\n",
    "\\mathbf{t_n}\\\\\n",
    "\\end{bmatrix}\n",
    "$$"
   ]
  },
  {
   "cell_type": "markdown",
   "metadata": {
    "colab_type": "text",
    "id": "pn1SahVMhklp"
   },
   "source": [
    "## Definición:\n",
    "**Un sistema es controlable si existe su forma canónica de controlabilidad.**\n",
    "\n",
    "Podemos ver de las ecuaciones anteriores que solamente podremos obtener $\\mathbf{T^{-1}}$ y por ende $\\mathbf{T}$, si existe $\\mathcal{C}^{-1}$. Para esto tenemos que asegurar que el rango de $\\mathcal C$ sea igual al orden del sistema $n$.\n",
    "\n",
    "Es importante notar que al definir la controlabilidad no depende de la matriz $\\mathbf{C}$, sino que depende solo de la matriz $\\mathbf{A}$ y $\\mathbf{B}$.\n",
    "\n",
    "La matriz $\\mathbf{B}$ es la relacionada con las entradas del sistema. Nada tiene que ver con las salidas. En caso del que el sistema no sea contrlable será necesario rediseñar la forma en que actuamos sobre del sistema. Nada resolveremos respecto a la controlabilidad cambiando, mejorando o agregando mediciones."
   ]
  },
  {
   "cell_type": "markdown",
   "metadata": {
    "colab_type": "text",
    "id": "1BgZ-8CShklq"
   },
   "source": [
    "# Transformación a la forma canónica de observabilidad\n"
   ]
  },
  {
   "cell_type": "markdown",
   "metadata": {
    "colab_type": "text",
    "id": "uPxBoPc4hklr"
   },
   "source": [
    "La matrices de un sistema de orden 3 lineal e invariente en el tiempo representado mediante su forma canónica de observabildad tiene la forma:\n",
    "$$\n",
    "\\mathbf{A_o} = \\begin{bmatrix}\n",
    "-a_1&1&0\\\\\n",
    "-a_2&0&1\\\\\n",
    "-a_3&0&0\\\\\n",
    "\\end{bmatrix},  \\qquad \\mathbf{B_o}=\\begin{bmatrix}\n",
    "b_1\\\\\n",
    "b_2\\\\\n",
    "b_3\\\\\n",
    "\\end{bmatrix}$$\n",
    "\n",
    "$$\n",
    "\\mathbf{C_o}=\\begin{bmatrix}\n",
    "1&0&0\n",
    "\\end{bmatrix}, \\qquad D_o=\\begin{bmatrix}0\\end{bmatrix}$$"
   ]
  },
  {
   "cell_type": "markdown",
   "metadata": {
    "colab_type": "text",
    "id": "DFzXyEI9hkls"
   },
   "source": [
    "Como vimos anteriormente, una transformación lineal mediante la matriz $\\mathbf{T}$, que hace:\n",
    "$$\\mathbf{x}=\\mathbf{Tz}$$"
   ]
  },
  {
   "cell_type": "markdown",
   "metadata": {
    "colab_type": "text",
    "id": "T3pTcXxXhklt"
   },
   "source": [
    "Esto transforma a mi sistema en:\n",
    "$$\n",
    "\\begin{eqnarray}\n",
    "\\bar{\\mathbf{A}} &=& \\mathbf{T^{-1} A T}\\\\\n",
    "\\bar{\\mathbf{B}} &=& \\mathbf{T^{-1} B}\\\\\n",
    "\\bar{\\mathbf{C}} &=&\\mathbf{CT}\\\\\n",
    "\\bar D &=& D\n",
    "\\end{eqnarray}\n",
    "$$"
   ]
  },
  {
   "cell_type": "markdown",
   "metadata": {
    "colab_type": "text",
    "id": "Q8BmADcVhklu"
   },
   "source": [
    "Como queremos obtener el forma canónica de observabilidad llamamos $\\mathbf{\\bar A} = \\mathbf{A_o}$, $\\mathbf{\\bar B} =  \\mathbf{B_o}$, $\\mathbf{\\bar C} = \\mathbf{C_o}$ y a $\\bar D = D_o$. \n",
    "\n",
    "De las ecuaciones de la transformación tenemos:\n",
    "\n",
    "$$\\mathbf{TA_o}=\\mathbf{AT}$$\n",
    "\n",
    "Escribiendo $\\mathbf{T}$ como:\n",
    "$$\n",
    "\\mathbf{T}=\\begin{bmatrix}\n",
    "\\mathbf{t_1}&\\mathbf{t_2}&\\mathbf{t_3}\n",
    "\\end{bmatrix}$$\n",
    "donde $\\mathbf{t_1}, \\mathbf{t_2}, \\mathbf{t_3}$ son vectores columnas que se corresponden con las columnas de $\\mathbf{T}$."
   ]
  },
  {
   "cell_type": "markdown",
   "metadata": {
    "colab_type": "text",
    "id": "EQt9lV8uhklv"
   },
   "source": [
    "De esta manera tenemos que:\n",
    "$$\n",
    "\\begin{bmatrix}\n",
    "\\mathbf{t_1}&\\mathbf{t_2}&\\mathbf{t_3}\n",
    "\\end{bmatrix}\\begin{bmatrix}\n",
    "-a_1&1&0\\\\\n",
    "-a_2&0&1\\\\\n",
    "-a_3&0&0\\\\\n",
    "\\end{bmatrix}=\\begin{bmatrix}\n",
    "\\mathbf{At_1}&\\mathbf{At_2}&\\mathbf{At_3}\n",
    "\\end{bmatrix}$$\n"
   ]
  },
  {
   "cell_type": "markdown",
   "metadata": {
    "colab_type": "text",
    "id": "bJGgX5D7hklw"
   },
   "source": [
    "De esta manera podemos obtener las siguientes igualdades:\n",
    "$$\n",
    "\\left.\\begin{array}{lll}\n",
    "\\mathbf{t_1} &=& \\mathbf{At_2}\\\\\n",
    "\\mathbf{t_2} &=& \\mathbf{At_3}\\end{array}\\right\\}\\implies \\mathbf{t_1} =\\mathbf{A^2t_3}$$"
   ]
  },
  {
   "cell_type": "markdown",
   "metadata": {
    "colab_type": "text",
    "id": "BI3_sqnQhklx"
   },
   "source": [
    "Usando la ecuación de la transformación de la matriz $\\mathbf{C_o=CT}$, se tiene que:\n",
    "\n",
    "$$\\begin{bmatrix}\n",
    "1&0&0\n",
    "\\end{bmatrix}=\\begin{bmatrix}\n",
    "\\mathbf{Ct_1}&\\mathbf{Ct_2}&\\mathbf{Ct_3}\n",
    "\\end{bmatrix}=\\begin{bmatrix}\n",
    "\\mathbf{CA}^2\\mathbf{t_3}&\\mathbf{CAt_3}&\\mathbf{Ct_3}\n",
    "\\end{bmatrix}$$\n"
   ]
  },
  {
   "cell_type": "markdown",
   "metadata": {
    "colab_type": "text",
    "id": "1PELvtrDhkly"
   },
   "source": [
    "Esto lo podemos reordenar como un sistema de ecuaciones en forma matricial de la siguiente manera:\n",
    "$$\\begin{bmatrix}\n",
    "\\mathbf{C}\\\\\n",
    "\\mathbf{CA}\\\\\n",
    "\\mathbf{CA}^2\n",
    "\\end{bmatrix}\\mathbf{t_3} = \\begin{bmatrix}\n",
    "0\\\\\n",
    "0\\\\\n",
    "1\n",
    "\\end{bmatrix}$$"
   ]
  },
  {
   "cell_type": "markdown",
   "metadata": {
    "colab_type": "text",
    "id": "MoNibKachklz"
   },
   "source": [
    "\\mathbf{L}lamando a la matriz de observabilidad $$\\mathcal{O}=\\begin{bmatrix}\n",
    "\\mathbf{C}\\\\\n",
    "\\mathbf{CA}\\\\\n",
    "\\mathbf{CA}^2\n",
    "\\end{bmatrix}$$\n",
    "\n",
    "podemos obtener $\\mathbf{t_3}$ que esla última columna de la matriz de transformación $\\mathbf{T}$, y con esta la otras columnas de la matriz de transformación."
   ]
  },
  {
   "cell_type": "markdown",
   "metadata": {
    "colab_type": "text",
    "id": "uK19iQSVhkl0"
   },
   "source": [
    "En general para un sistema de orden $n$, la matriz $\\mathcal{O}$ resulta\n",
    "\n",
    "$$\\mathcal{O}=\\begin{bmatrix}\n",
    "\\mathbf{C}\\\\\n",
    "\\mathbf{CA}\\\\\n",
    "\\vdots\\\\\n",
    "\\mathbf{CA}^{n-1}\n",
    "\\end{bmatrix}$$\n",
    "y la última columna de la matriz de transformación resulta:\n",
    "$$\\mathbf{t_n} = \\mathcal{O}^{-1}\\begin{bmatrix}\n",
    "0\\\\\n",
    "0\\\\\n",
    "\\vdots\\\\\n",
    "1\n",
    "\\end{bmatrix}\n",
    "$$"
   ]
  },
  {
   "cell_type": "markdown",
   "metadata": {
    "colab_type": "text",
    "id": "Lj-Sy0Gzhkl1"
   },
   "source": [
    "## Definición:\n",
    "**Un sistema es observable si existe su forma canónica de observabilidad.**\n",
    "\n",
    "Podemos ver de las ecuaciones anteriores que solamente podremos obtener $\\mathbf{T}$ si existe $\\mathcal{O}^{-1}$. Para esto tenemos que asegurar que el rango de $\\mathcal O$ sea igual al orden del sistema $n$.\n",
    "\n",
    "Es importante notar que definir la obervabilidad no depende de la matriz $\\mathbf{B}$, sino que depende solo de la matriz $\\mathbf{A}$ y $\\mathbf{C}$.\n",
    "\n",
    "La matriz $\\mathbf{C}$ es la relacionada con las salidas del sistema. Nada tiene que ver con las entradas. En caso del que el sistema no sea observable será necesario rediseñar la forma en que tomamos las mediciones del sistema. Nada resolveremos respecto a la observabilidad modificando los actuadores."
   ]
  },
  {
   "cell_type": "markdown",
   "metadata": {
    "colab_type": "text",
    "id": "GDEfgM0vhkl2"
   },
   "source": [
    "## Ejemplo masa resorte: obtener la forma canónica de observabilidad y con matriz de transformación T\n"
   ]
  },
  {
   "cell_type": "code",
   "execution_count": 2,
   "metadata": {
    "colab": {},
    "colab_type": "code",
    "id": "zRh6NAAShkl3"
   },
   "outputs": [],
   "source": [
    "import control as ctrl\n",
    "import numpy as np"
   ]
  },
  {
   "cell_type": "markdown",
   "metadata": {
    "colab_type": "text",
    "id": "iLudHvyqhkl9"
   },
   "source": [
    "Definimos los parámetros del sistema"
   ]
  },
  {
   "cell_type": "code",
   "execution_count": 3,
   "metadata": {
    "colab": {},
    "colab_type": "code",
    "id": "mjstqLOJhkl-"
   },
   "outputs": [],
   "source": [
    "b=20\n",
    "k=10\n",
    "m=1"
   ]
  },
  {
   "cell_type": "markdown",
   "metadata": {
    "colab_type": "text",
    "id": "7C3ENjWihkmC"
   },
   "source": [
    "Definimos las matrices del sistema a paritr de las ecaciones diferenciales:"
   ]
  },
  {
   "cell_type": "code",
   "execution_count": 4,
   "metadata": {
    "colab": {},
    "colab_type": "code",
    "id": "3N3_H61_hkmD",
    "outputId": "dc69f636-e993-486e-f041-761a5cdb9869"
   },
   "outputs": [
    {
     "data": {
      "text/plain": [
       "A = [[  0.   1.]\n",
       " [-10. -20.]]\n",
       "\n",
       "B = [[0.]\n",
       " [1.]]\n",
       "\n",
       "C = [[1. 0.]]\n",
       "\n",
       "D = [[0.]]"
      ]
     },
     "execution_count": 4,
     "metadata": {},
     "output_type": "execute_result"
    }
   ],
   "source": [
    "A=np.array([[0,1],\n",
    "   [-k/m, -b/m]])\n",
    "\n",
    "B=np.array([[0,1/m ]]).T\n",
    "C=np.array([[1,0]])\n",
    "D=np.array([0])\n",
    "sys = ctrl.ss(A,B,C,D)\n",
    "sys"
   ]
  },
  {
   "cell_type": "markdown",
   "metadata": {
    "colab_type": "text",
    "id": "qyH_eXeVhkmL"
   },
   "source": [
    "Para obetener la forma canónica de observabildiad debemos obetner la matriz $\\mathcal{O}$. Como el sistema es de orden 2 es:\n",
    "$$\\mathcal{O}=\\begin{bmatrix}\n",
    "\\mathbf C\\\\\n",
    "\\mathbf{CA}\n",
    "\\end{bmatrix}$$\n"
   ]
  },
  {
   "cell_type": "markdown",
   "metadata": {
    "colab_type": "text",
    "id": "_1FGwSgFhkmM"
   },
   "source": [
    "Apilamos verticalmente $\\mathbf C$ y $\\mathbf{CA}$"
   ]
  },
  {
   "cell_type": "code",
   "execution_count": 8,
   "metadata": {
    "colab": {},
    "colab_type": "code",
    "id": "j931A9hvhkmO",
    "outputId": "60a04ce5-dfab-4437-a1c1-52523cfc7682"
   },
   "outputs": [
    {
     "data": {
      "text/plain": [
       "matrix([[1., 0.],\n",
       "        [0., 1.]])"
      ]
     },
     "execution_count": 8,
     "metadata": {},
     "output_type": "execute_result"
    }
   ],
   "source": [
    "O=np.vstack((sys.C, sys.C@sys.A))\n",
    "O"
   ]
  },
  {
   "cell_type": "markdown",
   "metadata": {
    "colab_type": "text",
    "id": "gjIXEvO_hkmS"
   },
   "source": [
    "Ahora calculamos la última columna de $\\mathbf T$."
   ]
  },
  {
   "cell_type": "code",
   "execution_count": 9,
   "metadata": {
    "colab": {},
    "colab_type": "code",
    "id": "pb67wP_ShkmT",
    "outputId": "43a06e98-6b2f-4c89-ef04-2a5cc2c76fb1"
   },
   "outputs": [
    {
     "data": {
      "text/plain": [
       "matrix([[0.],\n",
       "        [1.]])"
      ]
     },
     "execution_count": 9,
     "metadata": {},
     "output_type": "execute_result"
    }
   ],
   "source": [
    "t2=np.linalg.inv(O)*np.matrix(\"0;1\")\n",
    "t2"
   ]
  },
  {
   "cell_type": "markdown",
   "metadata": {
    "colab_type": "text",
    "id": "TFO-1IaChkmX"
   },
   "source": [
    "Calculamos la columna $\\mathbf {t_1}$"
   ]
  },
  {
   "cell_type": "code",
   "execution_count": 12,
   "metadata": {
    "colab": {},
    "colab_type": "code",
    "id": "2kMD7LpPhkmY"
   },
   "outputs": [],
   "source": [
    "t1=A@t2"
   ]
  },
  {
   "cell_type": "code",
   "execution_count": 13,
   "metadata": {
    "colab": {},
    "colab_type": "code",
    "id": "IrPFVO1Ohkmc",
    "outputId": "9a416f72-8a05-46db-d5df-490831ae43d2"
   },
   "outputs": [
    {
     "data": {
      "text/plain": [
       "matrix([[  1.],\n",
       "        [-20.]])"
      ]
     },
     "execution_count": 13,
     "metadata": {},
     "output_type": "execute_result"
    }
   ],
   "source": [
    "t1"
   ]
  },
  {
   "cell_type": "markdown",
   "metadata": {
    "colab_type": "text",
    "id": "VMOs9Hz1hkmj"
   },
   "source": [
    "Apilamos horizontalmente $\\mathbf{t_1}$ y $\\mathbf{t_2}$."
   ]
  },
  {
   "cell_type": "code",
   "execution_count": 14,
   "metadata": {
    "colab": {},
    "colab_type": "code",
    "id": "nqdojy6khkmj"
   },
   "outputs": [
    {
     "data": {
      "text/plain": [
       "matrix([[  1.,   0.],\n",
       "        [-20.,   1.]])"
      ]
     },
     "execution_count": 14,
     "metadata": {},
     "output_type": "execute_result"
    }
   ],
   "source": [
    "T=np.hstack((t1,t2))\n",
    "T"
   ]
  },
  {
   "cell_type": "code",
   "execution_count": 20,
   "metadata": {},
   "outputs": [
    {
     "data": {
      "text/plain": [
       "matrix([[ 1., -0.],\n",
       "        [20.,  1.]])"
      ]
     },
     "execution_count": 20,
     "metadata": {},
     "output_type": "execute_result"
    }
   ],
   "source": [
    "invT=np.linalg.inv(T)\n",
    "invT"
   ]
  },
  {
   "cell_type": "markdown",
   "metadata": {
    "colab_type": "text",
    "id": "QEcxE8wjhkmn"
   },
   "source": [
    "Finalmente calculamos las matrices del sistema transformado:"
   ]
  },
  {
   "cell_type": "code",
   "execution_count": 16,
   "metadata": {
    "colab": {},
    "colab_type": "code",
    "id": "HtIhLaL4hkmo"
   },
   "outputs": [],
   "source": [
    "Ao=invT@sys.A@T\n",
    "Bo=invT@B\n",
    "Co=sys.C@T\n",
    "Do=D"
   ]
  },
  {
   "cell_type": "markdown",
   "metadata": {
    "colab_type": "text",
    "id": "8nO6SeK9hkmr"
   },
   "source": [
    "Podemos verificar que las funciones transferencias del sistema antes de transformar y después de transformarlo son las mismas:"
   ]
  },
  {
   "cell_type": "code",
   "execution_count": 18,
   "metadata": {
    "colab": {},
    "colab_type": "code",
    "id": "7qM4yHLJhkms"
   },
   "outputs": [
    {
     "data": {
      "text/plain": [
       "A = [[-20.   1.]\n",
       " [-10.   0.]]\n",
       "\n",
       "B = [[0.]\n",
       " [1.]]\n",
       "\n",
       "C = [[1. 0.]]\n",
       "\n",
       "D = [[0.]]"
      ]
     },
     "execution_count": 18,
     "metadata": {},
     "output_type": "execute_result"
    }
   ],
   "source": [
    "sys_o=ctrl.ss(Ao,Bo,Co,Do)\n",
    "sys_o"
   ]
  },
  {
   "cell_type": "code",
   "execution_count": 19,
   "metadata": {
    "colab": {},
    "colab_type": "code",
    "id": "GScJZIX-hkmx",
    "outputId": "e529817e-53f3-47fb-8f8d-14c1de4ca0d5"
   },
   "outputs": [
    {
     "name": "stdout",
     "output_type": "stream",
     "text": [
      "sistema sin transformar: \n",
      "       1\n",
      "---------------\n",
      "s^2 + 20 s + 10\n",
      " sistema en su forma canónica de observabilidad: \n",
      "       1\n",
      "---------------\n",
      "s^2 + 20 s + 10\n",
      "\n"
     ]
    }
   ],
   "source": [
    "print(\"sistema sin transformar:\",ctrl.tf(sys),\"sistema en su forma canónica de observabilidad:\", ctrl.tf(sys_o))"
   ]
  },
  {
   "cell_type": "markdown",
   "metadata": {
    "colab_type": "text",
    "id": "nzL0yFFjhkm1"
   },
   "source": [
    "## Obtención de la forma canónica de controlabilidad"
   ]
  },
  {
   "cell_type": "markdown",
   "metadata": {
    "colab_type": "text",
    "id": "6zZRo3Vbhkm1"
   },
   "source": [
    "Para obetener la forma canónica de controlabilidad debemos obetner la matriz $\\mathcal{C}$. Como el sistema es de orden 2 es:\n",
    "$$\\mathcal{C}=\\begin{bmatrix}\n",
    "\\mathbf B & \\mathbf{AB}\n",
    "\\end{bmatrix}$$\n",
    "\n",
    "Apilamos horizontalmente $\\mathbf B$ y $\\mathbf{AB}$"
   ]
  },
  {
   "cell_type": "code",
   "execution_count": null,
   "metadata": {
    "colab": {},
    "colab_type": "code",
    "id": "zvdA4-6Shkm2",
    "outputId": "11cea158-f8e2-44ba-bba7-b97118f6271a"
   },
   "outputs": [
    {
     "data": {
      "text/plain": [
       "matrix([[  0.,   1.],\n",
       "        [  1., -20.]])"
      ]
     },
     "execution_count": 12,
     "metadata": {
      "tags": []
     },
     "output_type": "execute_result"
    }
   ],
   "source": [
    "Con=np.hstack((sys.B,sys.A@sys.B))\n",
    "Con"
   ]
  },
  {
   "cell_type": "markdown",
   "metadata": {
    "colab_type": "text",
    "id": "H-iXcKunhkm7"
   },
   "source": [
    "Ahora calculamos la última fila de $\\mathbf{T}^{-1}$, $\\mathbf{t2}$"
   ]
  },
  {
   "cell_type": "code",
   "execution_count": null,
   "metadata": {
    "colab": {},
    "colab_type": "code",
    "id": "WtE_kPFlhkm8",
    "outputId": "65e6103d-0e7d-4d2d-a950-5b4fc390146a"
   },
   "outputs": [
    {
     "data": {
      "text/plain": [
       "matrix([[1., 0.]])"
      ]
     },
     "execution_count": 13,
     "metadata": {
      "tags": []
     },
     "output_type": "execute_result"
    }
   ],
   "source": [
    "t2=np.matrix([[0,1]])*np.linalg.inv(Con)\n",
    "t2"
   ]
  },
  {
   "cell_type": "markdown",
   "metadata": {
    "colab_type": "text",
    "id": "owT0QfNchkm_"
   },
   "source": [
    "Calculamos la fila $\\mathbf {t_1}$"
   ]
  },
  {
   "cell_type": "code",
   "execution_count": null,
   "metadata": {
    "colab": {},
    "colab_type": "code",
    "id": "xI9s68RXhknA"
   },
   "outputs": [],
   "source": [
    "t1=t2@A"
   ]
  },
  {
   "cell_type": "code",
   "execution_count": null,
   "metadata": {
    "colab": {},
    "colab_type": "code",
    "id": "Rt_KqFquhknE",
    "outputId": "efea1c40-dd73-434a-b5ca-8359ffbcb60c"
   },
   "outputs": [
    {
     "data": {
      "text/plain": [
       "matrix([[0., 1.]])"
      ]
     },
     "execution_count": 15,
     "metadata": {
      "tags": []
     },
     "output_type": "execute_result"
    }
   ],
   "source": [
    "t1"
   ]
  },
  {
   "cell_type": "markdown",
   "metadata": {
    "colab_type": "text",
    "id": "IQf03x8ChknH"
   },
   "source": [
    "Apilamos verticalmente $\\mathbf{t_1}$ y $\\mathbf{t_2}$."
   ]
  },
  {
   "cell_type": "code",
   "execution_count": null,
   "metadata": {
    "colab": {},
    "colab_type": "code",
    "id": "V_UCAFa-hknI"
   },
   "outputs": [],
   "source": [
    "invT=np.vstack((t1,t2))\n",
    "T=np.linalg.inv(invT)"
   ]
  },
  {
   "cell_type": "markdown",
   "metadata": {
    "colab_type": "text",
    "id": "n_EgeFhMhknL"
   },
   "source": [
    "Finalmente calculamos las matrices del sistema transformado:"
   ]
  },
  {
   "cell_type": "code",
   "execution_count": null,
   "metadata": {
    "colab": {},
    "colab_type": "code",
    "id": "T4aSM2TchknM"
   },
   "outputs": [],
   "source": [
    "Ac=invT*sys.A*T\n",
    "Bc=invT@B\n",
    "Cc=sys.C@T\n",
    "Dc=D"
   ]
  },
  {
   "cell_type": "markdown",
   "metadata": {
    "colab_type": "text",
    "id": "3-YSMsdHhknQ"
   },
   "source": [
    "Podemos verificar que las funciones transferencias del sistema antes de transformar y después de transformarlo son las mismas:"
   ]
  },
  {
   "cell_type": "code",
   "execution_count": null,
   "metadata": {
    "colab": {},
    "colab_type": "code",
    "id": "708G63SvhknQ"
   },
   "outputs": [],
   "source": [
    "sys_c=ctrl.ss(Ac,Bc,Cc,Dc)"
   ]
  },
  {
   "cell_type": "code",
   "execution_count": null,
   "metadata": {
    "colab": {},
    "colab_type": "code",
    "id": "ZOq714IshknX",
    "outputId": "2f59fb73-d2db-4966-ce46-1c8731844947"
   },
   "outputs": [
    {
     "name": "stdout",
     "output_type": "stream",
     "text": [
      "sistema sin transformar: \n",
      "       1\n",
      "---------------\n",
      "s^2 + 20 s + 10\n",
      " sistema en su forma canónica de controlabilidad: \n",
      "       1\n",
      "---------------\n",
      "s^2 + 20 s + 10\n",
      "\n"
     ]
    }
   ],
   "source": [
    "print(\"sistema sin transformar:\",ctrl.tf(sys),\"sistema en su forma canónica de controlabilidad:\", ctrl.tf(sys_c))"
   ]
  },
  {
   "cell_type": "markdown",
   "metadata": {
    "colab_type": "text",
    "id": "GrlvgGo7hknc"
   },
   "source": [
    "## Transformación a la forma canónica modal:\n",
    "\n",
    "Veremos solo el caso de autovalores reales simples.\n",
    "\n",
    "### Definición.\n",
    "\n",
    "Sea la matriz $\\mathbf{A} \\in \\Bbb R^{n\\times n}$. Diremos que  $\\lambda \\in \\Bbb K (= \\Bbb R\\text{ o } \\Bbb C)$ es un autovalor de $\\mathbf{A}$ si existe un vector $\\mathbf{v} \\in \\Bbb K^n$, con $\\mathbf v \\neq 0$ tal que:\n",
    "\n",
    "$$\\mathbf{Av}=\\lambda \\mathbf{v}$$\n",
    "\n",
    "en cuyo caso se dice que $\\mathbf{v}$ es un autovector asociado al autovalor $\\lambda$.\n"
   ]
  },
  {
   "cell_type": "markdown",
   "metadata": {
    "colab_type": "text",
    "id": "FlBmm0L1hknd"
   },
   "source": [
    "Suponiendo que $\\mathbf A$ tienen $n$ autovalores diferentes, entonces podemos escribir en forma matricial $n$ ecuaciones para los $n$ pares autovalores-autovectores"
   ]
  },
  {
   "cell_type": "markdown",
   "metadata": {
    "colab_type": "text",
    "id": "vwHIusJlhkne"
   },
   "source": [
    "$$\n",
    "\\begin{bmatrix}\n",
    "\\mathbf{v_1}&\\mathbf{v_2}&\\mathbf{v_3}\n",
    "\\end{bmatrix}\\begin{bmatrix}\n",
    "\\lambda_1&0&0\\\\\n",
    "0&\\lambda_2&0\\\\\n",
    "0&0&\\lambda_3\\\\\n",
    "\\end{bmatrix}=\\mathbf A\\begin{bmatrix}\n",
    "\\mathbf{v_1}&\\mathbf{v_2}&\\mathbf{v_3}\n",
    "\\end{bmatrix}$$"
   ]
  },
  {
   "cell_type": "markdown",
   "metadata": {
    "colab_type": "text",
    "id": "Jg5eGPDehkne"
   },
   "source": [
    "Si hacemos que:\n",
    "$$\\mathbf{T}=\\begin{bmatrix}\n",
    "\\mathbf{v_1}&\\mathbf{v_2}&\\mathbf{v_3}\n",
    "\\end{bmatrix}$$\n",
    "tenemos que:\n",
    "$$\\begin{bmatrix}\n",
    "\\lambda_1&0&0\\\\\n",
    "0&\\lambda_2&0\\\\\n",
    "0&0&\\lambda_3\\\\\n",
    "\\end{bmatrix}=\\mathbf{T}^{-1}\\mathbf{A T}$$\n",
    "\n",
    "\n",
    "donde:\n",
    "$$\\mathbf{A_m}=\\begin{bmatrix}\n",
    "\\lambda_1&0&0\\\\\n",
    "0&\\lambda_2&0\\\\\n",
    "0&0&\\lambda_3\\\\\n",
    "\\end{bmatrix}$$\n",
    "\n",
    "Nuevamente $\\mathbf{B_m}$ se obtiene como $\\mathbf{B_m}=\\mathbf{T}^{-1}\\mathbf{B}$ y $\\mathbf{C_m}=\\mathbf{CT}$ \n",
    "\n",
    "La forma canónica modal tiene la particularidad de independizar los estados unos de otros. Es decir, cada estado se conecta solo con la entrada y con la salida y no se conectan entre si (cada estado no depende de otro estado).\n",
    "\n",
    "Esta formca canónica nos da la posibilidad de estudiar controlabilidad y observabilidad sin pasar por las matrices $\\mathcal C$ y $\\mathcal O$. \n",
    "\n",
    "Si todos los estados están conectados con la entrada entonces el sistema es controlable. Para que se de esto, la matriz $\\mathbf{B_m}$  tiene que tener todas sus componentes distintas de 0.\n",
    "\n",
    "Si todos los estados están conectados con la salida entonces el sistema es observable. Para que se de esto, la matriz $\\mathbf{C_m}$ tiene que tener todas sus componentes distintas de 0.\n"
   ]
  },
  {
   "cell_type": "markdown",
   "metadata": {
    "colab_type": "text",
    "id": "fg05YWSVhknf"
   },
   "source": [
    "## Ejemplo de tranformación a la forma canónica modal\n",
    "\n",
    "La matriz de transformación son los autovectores. \n",
    "\n",
    "El módulo linalg de numpy tiene una función que se llama eig, que los devuelve los autovectores y autovalores. Los autovalores lo devuelve en forma de ndarray y luego devuevlo los atuvalores como un array. Vamos a utilizar esta función para calcular la matriz de transformación $T$. Los autovalores los vamos a usar para verificar que luego de aplicar la transformación la matriz $A_m$ resulte ser diagonal con los autovalores en la diagonal."
   ]
  },
  {
   "cell_type": "code",
   "execution_count": null,
   "metadata": {
    "colab": {},
    "colab_type": "code",
    "id": "L9IEG9Qyhkng",
    "outputId": "81c46788-7c7b-44e7-b473-084a4ce216cf"
   },
   "outputs": [
    {
     "name": "stdout",
     "output_type": "stream",
     "text": [
      "autovectores:\n",
      "  [[ 0.88969225 -0.05124927]\n",
      " [-0.45656072  0.99868589]]\n",
      "autovalores:\n",
      "  [ -0.51316702 -19.48683298]\n"
     ]
    }
   ],
   "source": [
    "lamb,v=np.linalg.eig(A)\n",
    "print(\"autovectores:\\n \", v)\n",
    "print(\"autovalores:\\n \", lamb )"
   ]
  },
  {
   "cell_type": "markdown",
   "metadata": {
    "colab_type": "text",
    "id": "oNmoJfqfhknm"
   },
   "source": [
    "La matriz de transformación T es la de los autovectores. Entonces:"
   ]
  },
  {
   "cell_type": "code",
   "execution_count": null,
   "metadata": {
    "colab": {},
    "colab_type": "code",
    "id": "nLfKcEXjhknm"
   },
   "outputs": [],
   "source": [
    "T=v\n",
    "invT=np.linalg.inv(T)"
   ]
  },
  {
   "cell_type": "markdown",
   "metadata": {
    "colab_type": "text",
    "id": "hwOsTMXohknq"
   },
   "source": [
    "Calculamos la transformación:"
   ]
  },
  {
   "cell_type": "code",
   "execution_count": null,
   "metadata": {
    "colab": {},
    "colab_type": "code",
    "id": "fxCjq6Mxhknq"
   },
   "outputs": [],
   "source": [
    "Am=invT@A@T\n",
    "Bm=invT@B\n",
    "Cm=C@T\n",
    "Dm=D"
   ]
  },
  {
   "cell_type": "code",
   "execution_count": null,
   "metadata": {
    "colab": {},
    "colab_type": "code",
    "id": "ap4piO2uhknu"
   },
   "outputs": [],
   "source": [
    "sys_m = ctrl.ss(Am,Bm,Cm,Dm)"
   ]
  },
  {
   "cell_type": "code",
   "execution_count": null,
   "metadata": {
    "colab": {},
    "colab_type": "code",
    "id": "j93Y2uuxhkny",
    "outputId": "69ddba01-5462-4c8e-e283-5a916083525d"
   },
   "outputs": [
    {
     "data": {
      "text/plain": [
       "A = [[-5.13167019e-01  2.35922393e-16]\n",
       " [ 0.00000000e+00 -1.94868330e+01]]\n",
       "\n",
       "B = [[0.05923917]\n",
       " [1.0283977 ]]\n",
       "\n",
       "C = [[ 0.88969225 -0.05124927]]\n",
       "\n",
       "D = [[0.]]"
      ]
     },
     "execution_count": 24,
     "metadata": {
      "tags": []
     },
     "output_type": "execute_result"
    }
   ],
   "source": [
    "sys_m"
   ]
  },
  {
   "cell_type": "markdown",
   "metadata": {
    "colab_type": "text",
    "id": "eL_DZs0bhkn1"
   },
   "source": [
    "Obervando la matriz $\\mathbf{A}$ del sistema en su forma canónica modal tiene en su diagonal lo autovalores, y fuera de esto valores igual a 0 o muy cercanos a ceros. Las diferencias con ceros son error númericos y podemos considerar que la transformación resultó correcta."
   ]
  },
  {
   "cell_type": "markdown",
   "metadata": {
    "colab_type": "text",
    "id": "XRRQiBAyhkn2"
   },
   "source": [
    "Por otro lado podemos ver que todos las componentes de B en esta forma canónica son distintos de 0, por lo que el sistema es controlable."
   ]
  },
  {
   "cell_type": "markdown",
   "metadata": {
    "colab_type": "text",
    "id": "pr9a5Lvxhkn3"
   },
   "source": [
    "Finalmente, para el sistema en la forma canónica modal, todas las componentes de C son distintas de 0,por lo que el sistema es observable."
   ]
  },
  {
   "cell_type": "markdown",
   "metadata": {
    "colab_type": "text",
    "id": "BZhxHf4Ihkn4"
   },
   "source": [
    "**Nota**:\n",
    "\n",
    "Respecto al uso de numpy. La multiplicaión de matrices usando el * la entiende como elemento a elemento si el tipo de datos es un ndarray o un array. Si usamos ese tipo de datos, entonces para que numpy entienda multiplicación de matrices se debe usar el simbolo @.\n",
    "\n",
    "Si el tipo de datos que se está operando es una matriz de numpy entonces la multiplicación de matrices se puede hacer con *.\n",
    "\n",
    "**SER MUY CUIDADOSOS!!!!**"
   ]
  },
  {
   "cell_type": "code",
   "execution_count": null,
   "metadata": {},
   "outputs": [],
   "source": []
  }
 ],
 "metadata": {
  "colab": {
   "collapsed_sections": [
    "Lj-Sy0Gzhkl1",
    "GDEfgM0vhkl2",
    "nzL0yFFjhkm1",
    "GrlvgGo7hknc",
    "fg05YWSVhknf"
   ],
   "name": "Transformacion Formas Canonicas.ipynb",
   "provenance": []
  },
  "kernelspec": {
   "display_name": "Python 3",
   "language": "python",
   "name": "python3"
  },
  "language_info": {
   "codemirror_mode": {
    "name": "ipython",
    "version": 3
   },
   "file_extension": ".py",
   "mimetype": "text/x-python",
   "name": "python",
   "nbconvert_exporter": "python",
   "pygments_lexer": "ipython3",
   "version": "3.7.9"
  },
  "nbTranslate": {
   "displayLangs": [
    "*"
   ],
   "hotkey": "alt-t",
   "langInMainMenu": true,
   "sourceLang": "en",
   "targetLang": "fr",
   "useGoogleTranslate": true
  }
 },
 "nbformat": 4,
 "nbformat_minor": 4
}

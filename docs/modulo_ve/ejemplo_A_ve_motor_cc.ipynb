{
 "cells": [
  {
   "cell_type": "code",
   "execution_count": 1,
   "metadata": {
    "executionInfo": {
     "elapsed": 798,
     "status": "ok",
     "timestamp": 1601061613590,
     "user": {
      "displayName": "gonzalo molina",
      "photoUrl": "",
      "userId": "03146719216223860883"
     },
     "user_tz": 180
    },
    "id": "C2YxmTMnkUa3"
   },
   "outputs": [],
   "source": [
    "import numpy as np\n",
    "import control as ctrl\n",
    "import matplotlib.pyplot as plt\n",
    "%matplotlib qt5"
   ]
  },
  {
   "cell_type": "markdown",
   "metadata": {
    "id": "pNjfWDONkUa-"
   },
   "source": [
    "# Diseño para un motor de continua"
   ]
  },
  {
   "cell_type": "markdown",
   "metadata": {
    "id": "v5bYjjrokUa_"
   },
   "source": [
    "Supongamos que la transferencia de nuestro sistema es:\n",
    "$$G(s)=\\frac{10}{s(s+2)(s+8)}$$\n",
    "Diseño un controlador que ubique los polos en:\n",
    "$$pc=[-1.42;\\quad -1.04\\pm2.14j]$$\n",
    "y los del estimador tres veces más rápidos."
   ]
  },
  {
   "cell_type": "markdown",
   "metadata": {
    "id": "fwlecwjskUbA"
   },
   "source": [
    "Como tenemos el sistema en forma de función transferencia lo llevamos a alguna forma en espacio de estados (la que sea por defecto de Python)\n"
   ]
  },
  {
   "cell_type": "code",
   "execution_count": 2,
   "metadata": {
    "colab": {
     "base_uri": "https://localhost:8080/",
     "height": 40
    },
    "executionInfo": {
     "elapsed": 204,
     "status": "ok",
     "timestamp": 1601066354192,
     "user": {
      "displayName": "gonzalo molina",
      "photoUrl": "",
      "userId": "03146719216223860883"
     },
     "user_tz": 180
    },
    "id": "DEElFP03kUbB",
    "outputId": "ec527d4e-6096-49db-e3a2-2720cf5e4091"
   },
   "outputs": [
    {
     "data": {
      "text/latex": [
       "$$\\frac{10}{s^3 + 10 s^2 + 16 s}$$"
      ],
      "text/plain": [
       "\n",
       "        10\n",
       "-------------------\n",
       "s^3 + 10 s^2 + 16 s"
      ]
     },
     "execution_count": 2,
     "metadata": {},
     "output_type": "execute_result"
    }
   ],
   "source": [
    "G=ctrl.tf(10,[1,10,16,0])\n",
    "G"
   ]
  },
  {
   "cell_type": "markdown",
   "metadata": {
    "id": "ck2NWiZltFkb"
   },
   "source": [
    "## Expresión en variables de estado"
   ]
  },
  {
   "cell_type": "markdown",
   "metadata": {
    "id": "ZCX2Lsx_bjeG"
   },
   "source": [
    "De las formas canónicas disponibles, elegimos la forma canónica de observabilidad."
   ]
  },
  {
   "cell_type": "code",
   "execution_count": 3,
   "metadata": {
    "executionInfo": {
     "elapsed": 209,
     "status": "ok",
     "timestamp": 1601066355517,
     "user": {
      "displayName": "gonzalo molina",
      "photoUrl": "",
      "userId": "03146719216223860883"
     },
     "user_tz": 180
    },
    "id": "IaoFQGmjx7uU"
   },
   "outputs": [
    {
     "data": {
      "text/plain": [
       "\u001b[1;31mSignature:\u001b[0m \u001b[0mctrl\u001b[0m\u001b[1;33m.\u001b[0m\u001b[0mcanonical_form\u001b[0m\u001b[1;33m(\u001b[0m\u001b[0mxsys\u001b[0m\u001b[1;33m,\u001b[0m \u001b[0mform\u001b[0m\u001b[1;33m=\u001b[0m\u001b[1;34m'reachable'\u001b[0m\u001b[1;33m)\u001b[0m\u001b[1;33m\u001b[0m\u001b[1;33m\u001b[0m\u001b[0m\n",
       "\u001b[1;31mDocstring:\u001b[0m\n",
       "Convert a system into canonical form\n",
       "\n",
       "Parameters\n",
       "----------\n",
       "xsys : StateSpace object\n",
       "    System to be transformed, with state 'x'\n",
       "form : String\n",
       "    Canonical form for transformation.  Chosen from:\n",
       "      * 'reachable' - reachable canonical form\n",
       "      * 'observable' - observable canonical form\n",
       "      * 'modal' - modal canonical form\n",
       "\n",
       "Returns\n",
       "-------\n",
       "zsys : StateSpace object\n",
       "    System in desired canonical form, with state 'z'\n",
       "T : matrix\n",
       "    Coordinate transformation matrix, z = T * x\n",
       "\u001b[1;31mFile:\u001b[0m      c:\\miniconda3\\envs\\dyc\\lib\\site-packages\\control\\canonical.py\n",
       "\u001b[1;31mType:\u001b[0m      function\n"
      ]
     },
     "metadata": {},
     "output_type": "display_data"
    }
   ],
   "source": [
    "ctrl.canonical_form?"
   ]
  },
  {
   "cell_type": "code",
   "execution_count": 4,
   "metadata": {
    "colab": {
     "base_uri": "https://localhost:8080/",
     "height": 207
    },
    "executionInfo": {
     "elapsed": 235,
     "status": "ok",
     "timestamp": 1601066357175,
     "user": {
      "displayName": "gonzalo molina",
      "photoUrl": "",
      "userId": "03146719216223860883"
     },
     "user_tz": 180
    },
    "id": "eTyyF-0dkUbI",
    "outputId": "143731ef-b4c6-4633-ea4d-73500b16505a"
   },
   "outputs": [
    {
     "data": {
      "text/plain": [
       "A = [[-10.   1.   0.]\n",
       " [-16.   0.   1.]\n",
       " [ -0.   0.   0.]]\n",
       "\n",
       "B = [[-3.46944695e-17]\n",
       " [-2.91433544e-16]\n",
       " [ 1.00000000e+01]]\n",
       "\n",
       "C = [[1. 0. 0.]]\n",
       "\n",
       "D = [[0.]]"
      ]
     },
     "execution_count": 4,
     "metadata": {},
     "output_type": "execute_result"
    }
   ],
   "source": [
    "sys,_=ctrl.canonical_form(ctrl.ss(G),'observable')\n",
    "sys"
   ]
  },
  {
   "cell_type": "markdown",
   "metadata": {
    "id": "lL_pFIdWtUz2"
   },
   "source": [
    "## Ley de control y estimador completo\n",
    "\n"
   ]
  },
  {
   "cell_type": "code",
   "execution_count": 5,
   "metadata": {
    "executionInfo": {
     "elapsed": 182,
     "status": "ok",
     "timestamp": 1601066357992,
     "user": {
      "displayName": "gonzalo molina",
      "photoUrl": "",
      "userId": "03146719216223860883"
     },
     "user_tz": 180
    },
    "id": "35stRVbSkUbM"
   },
   "outputs": [],
   "source": [
    "pc=np.array([-1.42, -1.04+2.14j,-1.04-2.14j])\n",
    "pe = pc*3"
   ]
  },
  {
   "cell_type": "markdown",
   "metadata": {
    "id": "8OGVJ_lSkm7B"
   },
   "source": [
    "Notar que hubiera podido escribir pc como una lista de los valores en donde quiero ubicar los polos a lazo cerrado. Sin embargo, luego no hubiera podido haer la operación de `pc*3` sobre la lista, ya que hubiera resultado en algo que no es lo que buscabamos."
   ]
  },
  {
   "cell_type": "markdown",
   "metadata": {
    "id": "SP7jOTRlkUbR"
   },
   "source": [
    "**Obtenemos la ley de control:**"
   ]
  },
  {
   "cell_type": "code",
   "execution_count": 6,
   "metadata": {
    "executionInfo": {
     "elapsed": 185,
     "status": "ok",
     "timestamp": 1601066361919,
     "user": {
      "displayName": "gonzalo molina",
      "photoUrl": "",
      "userId": "03146719216223860883"
     },
     "user_tz": 180
    },
    "id": "pjrTFXo9kUbS"
   },
   "outputs": [],
   "source": [
    "K=ctrl.place(sys.A,sys.B,pc)\n"
   ]
  },
  {
   "cell_type": "markdown",
   "metadata": {
    "id": "_aZofBISlFoy"
   },
   "source": [
    "**Obtenemos L del estimador:**"
   ]
  },
  {
   "cell_type": "code",
   "execution_count": 7,
   "metadata": {
    "executionInfo": {
     "elapsed": 188,
     "status": "ok",
     "timestamp": 1601065412554,
     "user": {
      "displayName": "gonzalo molina",
      "photoUrl": "",
      "userId": "03146719216223860883"
     },
     "user_tz": 180
    },
    "id": "GPR3nSm0kUbX"
   },
   "outputs": [],
   "source": [
    "L=ctrl.place(sys.A.T,sys.C.T,pe).T"
   ]
  },
  {
   "cell_type": "markdown",
   "metadata": {
    "id": "NwtaA4allMzr"
   },
   "source": [
    "Hemos podido utilizar el comando `place` debido a que los 3 polos tanto del estimador como de los elegidos para la ley de control son distintos. De haber querido ubicar dos polos en el mismo lugar, hubieramos tenido que usar el comando `acker`.\n",
    "\n",
    "Sin mebargo es necesario tener en cuenta que `acker` no es recomendable para sistema de orden mayor a 4."
   ]
  },
  {
   "cell_type": "markdown",
   "metadata": {
    "id": "DJzcLBX2ts3Q"
   },
   "source": [
    "### Sistema controlador con estimador completo"
   ]
  },
  {
   "cell_type": "code",
   "execution_count": 10,
   "metadata": {
    "colab": {
     "base_uri": "https://localhost:8080/",
     "height": 42
    },
    "executionInfo": {
     "elapsed": 131,
     "status": "ok",
     "timestamp": 1601061624537,
     "user": {
      "displayName": "gonzalo molina",
      "photoUrl": "",
      "userId": "03146719216223860883"
     },
     "user_tz": 180
    },
    "id": "5lR6YIv-kUbc",
    "outputId": "85f7f6f9-fda0-466c-ef06-6597bb582219"
   },
   "outputs": [
    {
     "data": {
      "text/plain": [
       "True"
      ]
     },
     "execution_count": 10,
     "metadata": {},
     "output_type": "execute_result"
    }
   ],
   "source": [
    "Dc=ctrl.ss(sys.A-sys.B@K-L@sys.C,L,-K,0)\n",
    "ctrl.tf(Dc)\n",
    "ctrl.isctime(Dc)"
   ]
  },
  {
   "cell_type": "code",
   "execution_count": 9,
   "metadata": {
    "colab": {
     "base_uri": "https://localhost:8080/",
     "height": 52
    },
    "executionInfo": {
     "elapsed": 136,
     "status": "ok",
     "timestamp": 1601061625093,
     "user": {
      "displayName": "gonzalo molina",
      "photoUrl": "",
      "userId": "03146719216223860883"
     },
     "user_tz": 180
    },
    "id": "mMFVg9BWkUbg",
    "outputId": "0c4c2657-0fe8-4e83-c259-f81ce4c42894"
   },
   "outputs": [
    {
     "data": {
      "text/plain": [
       "array([-2.93739746+8.32368499j, -2.93739746-8.32368499j,\n",
       "        1.87479491+0.j        ])"
      ]
     },
     "execution_count": 9,
     "metadata": {},
     "output_type": "execute_result"
    }
   ],
   "source": [
    "Dc.pole()"
   ]
  },
  {
   "cell_type": "markdown",
   "metadata": {
    "id": "BT_0CPLakUbl"
   },
   "source": [
    "Podemos ver que el controlador diseñado es inestable!. Esto no es deseable.\n",
    "\n",
    "La razones por la que no es deseable un controlador inestable  son:\n",
    "\n",
    "1. Presenta dificultades para ser testeado, ya sea el compensador por si solo o en lazo abierto durante la puesta en funcionamiento. Sin embargo, en agunos casos, se puede lograr una mejor performance del sistema de controlado con un controlador inestable (hay casos de sistemas que ni siquiera pueden ser estabilizados con controladores estables.). En ese caso se aceptan estos incevenientes de testeo.\n",
    "\n",
    "2. Para ganancias bajas el sistema a lazo cerrado con un controlador inestable resulta inestable (visulizar el root locus). En general, los actuadores prensetan saturaciones, es decir valor máximos de actuación. Cuando un actuador satura se ve desde el punto de vista de lazo como una reducción de la ganancia, llevando a la zona instable o acercandose a la misma.\n",
    "\n",
    "Los sistemas que necesitan se vuelven inestables cuando su valor ganancia se reduce se los conoce como sistemas **condicionalmente estables** y **deben ser evitados** en la medida de lo posible.\n"
   ]
  },
  {
   "cell_type": "markdown",
   "metadata": {
    "id": "jXC7vMdZkUbm"
   },
   "source": [
    "## Rediseñamos usando un estimador reducido"
   ]
  },
  {
   "cell_type": "markdown",
   "metadata": {
    "id": "aJgzB1tWkUbn"
   },
   "source": [
    "Ahora pondremos los polos tal que $\\omega_n=6$ rad/seg y $\\zeta=0.707$\n",
    "\n"
   ]
  },
  {
   "cell_type": "code",
   "execution_count": 10,
   "metadata": {
    "colab": {
     "base_uri": "https://localhost:8080/",
     "height": 35
    },
    "executionInfo": {
     "elapsed": 130,
     "status": "ok",
     "timestamp": 1601061628113,
     "user": {
      "displayName": "gonzalo molina",
      "photoUrl": "",
      "userId": "03146719216223860883"
     },
     "user_tz": 180
    },
    "id": "S9ZlG-0OkUbn",
    "outputId": "b2469ee9-7d3d-406c-92b6-33a0e7d0789d"
   },
   "outputs": [
    {
     "data": {
      "text/plain": [
       "array([-4.242+4.24328128j, -4.242-4.24328128j])"
      ]
     },
     "execution_count": 10,
     "metadata": {},
     "output_type": "execute_result"
    }
   ],
   "source": [
    "pe_red= np.roots([1,2*0.707*6,6**2])\n",
    "pe_red"
   ]
  },
  {
   "cell_type": "markdown",
   "metadata": {
    "id": "z6M7qlpOkUbr"
   },
   "source": [
    "Necesitamos las sub-matrices de A para calcular el estimadore reducido"
   ]
  },
  {
   "cell_type": "code",
   "execution_count": 11,
   "metadata": {
    "executionInfo": {
     "elapsed": 117,
     "status": "ok",
     "timestamp": 1601061628598,
     "user": {
      "displayName": "gonzalo molina",
      "photoUrl": "",
      "userId": "03146719216223860883"
     },
     "user_tz": 180
    },
    "id": "6CVGVGS6kUbs"
   },
   "outputs": [],
   "source": [
    "Aaa=sys.A[0:1,0:1]\n",
    "Aab=sys.A[0:1,1:]\n",
    "Aba=sys.A[1:,0:1]\n",
    "Abb=sys.A[1:,1:]\n",
    "\n",
    "Ba = sys.B[0:1,0]\n",
    "Bb = sys.B[1:,0]"
   ]
  },
  {
   "cell_type": "code",
   "execution_count": 12,
   "metadata": {
    "colab": {
     "base_uri": "https://localhost:8080/",
     "height": 35
    },
    "executionInfo": {
     "elapsed": 133,
     "status": "ok",
     "timestamp": 1601061628836,
     "user": {
      "displayName": "gonzalo molina",
      "photoUrl": "",
      "userId": "03146719216223860883"
     },
     "user_tz": 180
    },
    "id": "mmSW8nkCkUbx",
    "outputId": "5a7dcf36-275e-4771-b074-522bbf626649"
   },
   "outputs": [
    {
     "data": {
      "text/plain": [
       "array([[-10.]])"
      ]
     },
     "execution_count": 12,
     "metadata": {},
     "output_type": "execute_result"
    }
   ],
   "source": [
    "Aaa"
   ]
  },
  {
   "cell_type": "code",
   "execution_count": 13,
   "metadata": {
    "colab": {
     "base_uri": "https://localhost:8080/",
     "height": 52
    },
    "executionInfo": {
     "elapsed": 156,
     "status": "ok",
     "timestamp": 1601061629103,
     "user": {
      "displayName": "gonzalo molina",
      "photoUrl": "",
      "userId": "03146719216223860883"
     },
     "user_tz": 180
    },
    "id": "Z36Jm24IkUb2",
    "outputId": "cda74b08-a168-49f5-a932-00ab15d775dc"
   },
   "outputs": [
    {
     "data": {
      "text/plain": [
       "matrix([[ 8.484],\n",
       "        [36.   ]])"
      ]
     },
     "execution_count": 13,
     "metadata": {},
     "output_type": "execute_result"
    }
   ],
   "source": [
    "Ltred = ctrl.place(Abb.T,Aab.T,pe_red).T\n",
    "Ltred"
   ]
  },
  {
   "cell_type": "markdown",
   "metadata": {
    "id": "IGZLjmdptkmN"
   },
   "source": [
    "### Sistema controlador con estimador reducido"
   ]
  },
  {
   "cell_type": "code",
   "execution_count": 14,
   "metadata": {
    "executionInfo": {
     "elapsed": 117,
     "status": "ok",
     "timestamp": 1601061631996,
     "user": {
      "displayName": "gonzalo molina",
      "photoUrl": "",
      "userId": "03146719216223860883"
     },
     "user_tz": 180
    },
    "id": "tNixGvOhkUb6"
   },
   "outputs": [],
   "source": [
    "Ka=K[0,0:1]\n",
    "Kb=K[0,1:]\n",
    "\n",
    "Ar = Abb-Ltred@Aab-(Bb-Ltred@Ba)@Kb\n",
    "Br = Ar@Ltred + Aba - Ltred@Aaa - (Bb-Ltred@Ba)@Ka\n",
    "Cr = -Kb\n",
    "Dr = -Ka-Kb@Ltred\n"
   ]
  },
  {
   "cell_type": "code",
   "execution_count": 15,
   "metadata": {
    "colab": {
     "base_uri": "https://localhost:8080/",
     "height": 173
    },
    "executionInfo": {
     "elapsed": 140,
     "status": "ok",
     "timestamp": 1601061632459,
     "user": {
      "displayName": "gonzalo molina",
      "photoUrl": "",
      "userId": "03146719216223860883"
     },
     "user_tz": 180
    },
    "id": "wtwYI1g9kUb9",
    "outputId": "f695be77-cf4f-408c-a46c-79e2642a9457"
   },
   "outputs": [
    {
     "data": {
      "text/plain": [
       "A = [[ -8.484    1.    ]\n",
       " [-93.6148   6.5   ]]\n",
       "\n",
       "B = [[ 32.861744 ]\n",
       " [263.8811328]]\n",
       "\n",
       "C = [[-5.76148  0.65   ]]\n",
       "\n",
       "D = [[20.93051328]]"
      ]
     },
     "execution_count": 15,
     "metadata": {},
     "output_type": "execute_result"
    }
   ],
   "source": [
    "Dcr = ctrl.ss(Ar,Br,Cr,Dr)\n",
    "Dcr"
   ]
  },
  {
   "cell_type": "code",
   "execution_count": 16,
   "metadata": {
    "colab": {
     "base_uri": "https://localhost:8080/",
     "height": 42
    },
    "executionInfo": {
     "elapsed": 136,
     "status": "ok",
     "timestamp": 1601061632844,
     "user": {
      "displayName": "gonzalo molina",
      "photoUrl": "",
      "userId": "03146719216223860883"
     },
     "user_tz": 180
    },
    "id": "S5Z2SrB8kUcC",
    "outputId": "f5bc166e-9092-4279-bd93-2d7ba06d0a01"
   },
   "outputs": [
    {
     "data": {
      "text/latex": [
       "$$\\frac{20.93 s^2 + 23.72 s - 28.94}{s^2 + 1.984 s + 38.47}$$"
      ],
      "text/plain": [
       "\n",
       "20.93 s^2 + 23.72 s - 28.94\n",
       "---------------------------\n",
       "   s^2 + 1.984 s + 38.47"
      ]
     },
     "execution_count": 16,
     "metadata": {},
     "output_type": "execute_result"
    }
   ],
   "source": [
    "ctrl.tf(Dcr)"
   ]
  },
  {
   "cell_type": "code",
   "execution_count": 17,
   "metadata": {
    "colab": {
     "base_uri": "https://localhost:8080/",
     "height": 35
    },
    "executionInfo": {
     "elapsed": 141,
     "status": "ok",
     "timestamp": 1601061633790,
     "user": {
      "displayName": "gonzalo molina",
      "photoUrl": "",
      "userId": "03146719216223860883"
     },
     "user_tz": 180
    },
    "id": "yxH8ZsnFkUcG",
    "outputId": "cc4ec476-9c82-40ca-92eb-88f7ec955f2d"
   },
   "outputs": [
    {
     "data": {
      "text/plain": [
       "array([-0.992+6.12247793j, -0.992-6.12247793j])"
      ]
     },
     "execution_count": 17,
     "metadata": {},
     "output_type": "execute_result"
    }
   ],
   "source": [
    "Dcr.pole()"
   ]
  },
  {
   "cell_type": "code",
   "execution_count": 18,
   "metadata": {
    "colab": {
     "base_uri": "https://localhost:8080/",
     "height": 35
    },
    "executionInfo": {
     "elapsed": 159,
     "status": "ok",
     "timestamp": 1601061634482,
     "user": {
      "displayName": "gonzalo molina",
      "photoUrl": "",
      "userId": "03146719216223860883"
     },
     "user_tz": 180
    },
    "id": "BWeAryLBkUcL",
    "outputId": "c0c31b1b-1b5d-4ed1-a459-9e52349f340d"
   },
   "outputs": [
    {
     "data": {
      "text/plain": [
       "array([-1.871798  +0.j,  0.73868705+0.j])"
      ]
     },
     "execution_count": 18,
     "metadata": {},
     "output_type": "execute_result"
    }
   ],
   "source": [
    "Dcr.zero()"
   ]
  },
  {
   "cell_type": "markdown",
   "metadata": {
    "id": "gIvbVSEfkUcP"
   },
   "source": [
    "Si bien este diseño mejoró al anterior ya que el controlador resultante es estable, este presenta un problema potencialmente menos danino. El problema es que es un controlador de no mínima fase, ya que tiene un 0 en el lado derecho del plano $s$, limitando la velocidad del sistema controlado."
   ]
  },
  {
   "cell_type": "code",
   "execution_count": 34,
   "metadata": {},
   "outputs": [],
   "source": [
    "L=-ctrl.tf(Dcr)*G/ctrl.db2mag(6)\n",
    "ctrl.bode(L,dB=True, margins=True, omega_num=2000);\n",
    "\n",
    "T=ctrl.feedback(L)\n",
    "plt.figure()\n",
    "ctrl.bode(T,dB=True);\n"
   ]
  },
  {
   "cell_type": "code",
   "execution_count": 36,
   "metadata": {},
   "outputs": [],
   "source": [
    "ctrl.gangof4_plot(G,-ctrl.tf(Dcr))\n",
    "ctrl.gangof4_plot(ctrl.tf(1,[1,0]),ctrl.tf(1,1))"
   ]
  },
  {
   "cell_type": "code",
   "execution_count": 40,
   "metadata": {},
   "outputs": [
    {
     "data": {
      "text/plain": [
       "(array([-3.52555461e-01, -3.52555970e-01, -3.52556711e-01, -3.52557790e-01,\n",
       "        -3.52559362e-01, -3.52561650e-01, -3.52564983e-01, -3.52569836e-01,\n",
       "        -3.52576901e-01, -3.52587188e-01, -3.52602161e-01, -3.52623952e-01,\n",
       "        -3.52655655e-01, -3.52701755e-01, -3.52768745e-01, -3.52865995e-01,\n",
       "        -3.53006970e-01, -3.53210905e-01, -3.53505032e-01, -3.53927422e-01,\n",
       "        -3.54530312e-01, -3.55383475e-01, -3.56576545e-01, -3.58218375e-01,\n",
       "        -3.60430968e-01, -3.63336636e-01, -3.67042303e-01, -3.71635443e-01,\n",
       "        -3.77217189e-01, -3.83991407e-01, -3.92350112e-01, -4.02447611e-01,\n",
       "        -4.09446509e-01, -3.57130984e-01,  2.19805619e-01,  4.88932815e-01,\n",
       "         2.08760198e-01,  9.10688169e-02,  4.19151056e-02,  1.97741720e-02,\n",
       "         9.41094151e-03,  4.48611934e-03,  2.13600869e-03,  1.01504887e-03,\n",
       "         4.81435972e-04,  2.27979467e-04,  1.07824243e-04,  5.09495009e-05,\n",
       "         2.40589660e-05,  1.13556160e-05]),\n",
       " array([-2.35647814e+01, -1.95266358e+01, -1.61804247e+01, -1.34075736e+01,\n",
       "        -1.11098255e+01, -9.20575855e+00, -7.62790146e+00, -6.32034216e+00,\n",
       "        -5.23674671e+00, -4.33871739e+00, -3.59443204e+00, -2.97751640e+00,\n",
       "        -2.46610945e+00, -2.04208864e+00, -1.69042750e+00, -1.39866285e+00,\n",
       "        -1.15645252e+00, -9.55207815e-01, -7.87787427e-01, -6.48241376e-01,\n",
       "        -5.31595304e-01, -4.33666495e-01, -3.50903987e-01, -2.80246177e-01,\n",
       "        -2.18990707e-01, -1.64672785e-01, -1.14946587e-01, -6.74512505e-02,\n",
       "        -1.95997062e-02,  3.18835209e-02,  9.21495766e-02,  1.71599882e-01,\n",
       "         2.96821460e-01,  5.46280823e-01,  8.35621813e-01,  1.02266117e-01,\n",
       "        -6.25914567e-02, -5.62373243e-02, -3.78855930e-02, -2.37740045e-02,\n",
       "        -1.44407792e-02, -8.59880316e-03, -5.05118873e-03, -2.93900855e-03,\n",
       "        -1.69853597e-03, -9.76973893e-04, -5.60073203e-04, -3.20331091e-04,\n",
       "        -1.82917137e-04, -1.04334089e-04]),\n",
       " array([1.00000000e-02, 1.20679264e-02, 1.45634848e-02, 1.75751062e-02,\n",
       "        2.12095089e-02, 2.55954792e-02, 3.08884360e-02, 3.72759372e-02,\n",
       "        4.49843267e-02, 5.42867544e-02, 6.55128557e-02, 7.90604321e-02,\n",
       "        9.54095476e-02, 1.15139540e-01, 1.38949549e-01, 1.67683294e-01,\n",
       "        2.02358965e-01, 2.44205309e-01, 2.94705170e-01, 3.55648031e-01,\n",
       "        4.29193426e-01, 5.17947468e-01, 6.25055193e-01, 7.54312006e-01,\n",
       "        9.10298178e-01, 1.09854114e+00, 1.32571137e+00, 1.59985872e+00,\n",
       "        1.93069773e+00, 2.32995181e+00, 2.81176870e+00, 3.39322177e+00,\n",
       "        4.09491506e+00, 4.94171336e+00, 5.96362332e+00, 7.19685673e+00,\n",
       "        8.68511374e+00, 1.04811313e+01, 1.26485522e+01, 1.52641797e+01,\n",
       "        1.84206997e+01, 2.22299648e+01, 2.68269580e+01, 3.23745754e+01,\n",
       "        3.90693994e+01, 4.71486636e+01, 5.68986603e+01, 6.86648845e+01,\n",
       "        8.28642773e+01, 1.00000000e+02]))"
      ]
     },
     "execution_count": 40,
     "metadata": {},
     "output_type": "execute_result"
    }
   ],
   "source": [
    "plt.figure()\n",
    "ctrl.nyquist(L);"
   ]
  },
  {
   "cell_type": "markdown",
   "metadata": {
    "id": "-VJrPFw1otAC"
   },
   "source": [
    "Agragamos referencia al controlador de orden reducido. \n"
   ]
  },
  {
   "cell_type": "code",
   "execution_count": 22,
   "metadata": {
    "executionInfo": {
     "elapsed": 126,
     "status": "ok",
     "timestamp": 1601061639833,
     "user": {
      "displayName": "gonzalo molina",
      "photoUrl": "",
      "userId": "03146719216223860883"
     },
     "user_tz": 180
    },
    "id": "nWB3yyE1tI-h"
   },
   "outputs": [],
   "source": [
    "def seguimiento_referencia(sys):\n",
    "    aux1=np.vstack((np.hstack((sys.A,sys.B)),\n",
    "                   np.hstack((sys.C,sys.D))))\n",
    "    n=np.shape(sys.A)[0]\n",
    "    aux2=np.vstack((np.zeros((n,1)),[1]))\n",
    "    N=np.linalg.inv(aux1)@aux2\n",
    "    Nx=N[0:n]\n",
    "    Nu=N[n]\n",
    "    return Nx, Nu\n",
    "    "
   ]
  },
  {
   "cell_type": "code",
   "execution_count": 23,
   "metadata": {
    "executionInfo": {
     "elapsed": 126,
     "status": "ok",
     "timestamp": 1601061640771,
     "user": {
      "displayName": "gonzalo molina",
      "photoUrl": "",
      "userId": "03146719216223860883"
     },
     "user_tz": 180
    },
    "id": "IwcZBGATtRmO"
   },
   "outputs": [],
   "source": [
    "def calculate_Nbar(Nx,Nu,K):\n",
    "    return Nu+K@Nx"
   ]
  },
  {
   "cell_type": "code",
   "execution_count": 25,
   "metadata": {
    "executionInfo": {
     "elapsed": 90,
     "status": "ok",
     "timestamp": 1601061756872,
     "user": {
      "displayName": "gonzalo molina",
      "photoUrl": "",
      "userId": "03146719216223860883"
     },
     "user_tz": 180
    },
    "id": "aCnx2Ms-txcs"
   },
   "outputs": [],
   "source": [
    "Nx, Nu = seguimiento_referencia(sys)"
   ]
  },
  {
   "cell_type": "code",
   "execution_count": 27,
   "metadata": {
    "colab": {
     "base_uri": "https://localhost:8080/",
     "height": 35
    },
    "executionInfo": {
     "elapsed": 116,
     "status": "ok",
     "timestamp": 1601061806796,
     "user": {
      "displayName": "gonzalo molina",
      "photoUrl": "",
      "userId": "03146719216223860883"
     },
     "user_tz": 180
    },
    "id": "BVpWFbbFt8lW",
    "outputId": "222c7757-5e37-42d9-e57d-776618a87d85"
   },
   "outputs": [
    {
     "data": {
      "text/plain": [
       "matrix([[0.8038904]])"
      ]
     },
     "execution_count": 27,
     "metadata": {
      "tags": []
     },
     "output_type": "execute_result"
    }
   ],
   "source": [
    "Nbar = calculate_Nbar(Nx,Nu, K)\n",
    "Nbar"
   ]
  },
  {
   "cell_type": "code",
   "execution_count": 28,
   "metadata": {
    "colab": {
     "base_uri": "https://localhost:8080/",
     "height": 52
    },
    "executionInfo": {
     "elapsed": 122,
     "status": "ok",
     "timestamp": 1601061815774,
     "user": {
      "displayName": "gonzalo molina",
      "photoUrl": "",
      "userId": "03146719216223860883"
     },
     "user_tz": 180
    },
    "id": "-8Cw7a7kpBCO",
    "outputId": "5c1578d4-0f36-4429-9d91-cf3357ed7466"
   },
   "outputs": [
    {
     "data": {
      "text/plain": [
       "matrix([[0.      ],\n",
       "        [8.038904]])"
      ]
     },
     "execution_count": 28,
     "metadata": {
      "tags": []
     },
     "output_type": "execute_result"
    }
   ],
   "source": [
    "N=Nbar # Lo vemos mañana como se saca\n",
    "M=(Bb-Ltred@Ba)*N\n",
    "M"
   ]
  },
  {
   "cell_type": "code",
   "execution_count": 30,
   "metadata": {
    "colab": {
     "base_uri": "https://localhost:8080/",
     "height": 173
    },
    "executionInfo": {
     "elapsed": 141,
     "status": "ok",
     "timestamp": 1601061915405,
     "user": {
      "displayName": "gonzalo molina",
      "photoUrl": "",
      "userId": "03146719216223860883"
     },
     "user_tz": 180
    },
    "id": "hsA8clZSphT_",
    "outputId": "c55eef74-0298-499e-875a-2959d7e831f6"
   },
   "outputs": [
    {
     "data": {
      "text/plain": [
       "A = [[ -8.484    1.    ]\n",
       " [-93.6148   6.5   ]]\n",
       "\n",
       "B = [[ 32.861744    0.       ]\n",
       " [263.8811328   8.038904 ]]\n",
       "\n",
       "C = [[-5.76148  0.65   ]]\n",
       "\n",
       "D = [[20.93051328  0.8038904 ]]"
      ]
     },
     "execution_count": 30,
     "metadata": {
      "tags": []
     },
     "output_type": "execute_result"
    }
   ],
   "source": [
    "\n",
    "Dcr_ref = ctrl.ss(Ar, np.hstack((Br,M)), Cr, np.hstack((Dr,N)))\n",
    "Dcr_ref"
   ]
  },
  {
   "cell_type": "code",
   "execution_count": null,
   "metadata": {
    "id": "ZSgBPK3SumRo"
   },
   "outputs": [],
   "source": []
  },
  {
   "cell_type": "markdown",
   "metadata": {
    "id": "xnlYaJRykUcQ"
   },
   "source": [
    "## Rediseño usando SRL"
   ]
  },
  {
   "cell_type": "markdown",
   "metadata": {
    "id": "kNU5MoqzkUcQ"
   },
   "source": [
    "Vamos a diseñar el sistema para ubicar los polos de forma tal que se tenga un ancho de banda de 2.5rad/seg y que los polos del estimador esten aproximadamiente 2.5 veces más raṕido."
   ]
  },
  {
   "cell_type": "markdown",
   "metadata": {
    "id": "bnQk1tCekUcR"
   },
   "source": [
    "Para usar SRL vamos a tomat que $\\mathbf{C} = \\mathbf{C_1}$ y que $\\mathbf{B} = \\mathbf{B_1}$"
   ]
  },
  {
   "cell_type": "code",
   "execution_count": null,
   "metadata": {
    "id": "6I-HAPcYkUcR"
   },
   "outputs": [],
   "source": [
    "def conjugate_tf(G):\n",
    "    num = ctrl.tf(G).num[0][0]\n",
    "    den = ctrl.tf(G).den[0][0]\n",
    "    nume = [num[i]*((-1)**(len(num)%2+1-i)) for i in range(0, len(num))]\n",
    "    dene = [den[i]*((-1)**(len(den)%2+1-i)) for i in range(0, len(den))]\n",
    "    return ctrl.tf(nume,dene)"
   ]
  },
  {
   "cell_type": "code",
   "execution_count": null,
   "metadata": {
    "colab": {
     "base_uri": "https://localhost:8080/",
     "height": 39
    },
    "executionInfo": {
     "elapsed": 91,
     "status": "ok",
     "timestamp": 1600975647827,
     "user": {
      "displayName": "gonzalo molina",
      "photoUrl": "",
      "userId": "03146719216223860883"
     },
     "user_tz": 180
    },
    "id": "sp9MJld-shkt",
    "outputId": "1b55d12a-8c3d-4159-cc62-fc7a064e94f7"
   },
   "outputs": [
    {
     "data": {
      "text/latex": [
       "$$\\frac{10}{-s^3 + 10 s^2 - 16 s}$$"
      ],
      "text/plain": [
       "\n",
       "         10\n",
       "--------------------\n",
       "-s^3 + 10 s^2 - 16 s"
      ]
     },
     "execution_count": 31,
     "metadata": {
      "tags": []
     },
     "output_type": "execute_result"
    }
   ],
   "source": [
    "Gm=conjugate_tf(G)\n",
    "Gm"
   ]
  },
  {
   "cell_type": "code",
   "execution_count": null,
   "metadata": {
    "id": "UYbi7FCnkUcV"
   },
   "outputs": [],
   "source": [
    "_=ctrl.rlocus(G*Gm)"
   ]
  },
  {
   "cell_type": "markdown",
   "metadata": {
    "id": "27hDxbKRkUcY"
   },
   "source": [
    "Con $K=26$ obtenemos los polos con una frecuenca de corte de 2.5 rad/seg.\n"
   ]
  },
  {
   "cell_type": "code",
   "execution_count": null,
   "metadata": {
    "colab": {
     "base_uri": "https://localhost:8080/",
     "height": 52
    },
    "executionInfo": {
     "elapsed": 97,
     "status": "ok",
     "timestamp": 1600975661115,
     "user": {
      "displayName": "gonzalo molina",
      "photoUrl": "",
      "userId": "03146719216223860883"
     },
     "user_tz": 180
    },
    "id": "ZrxfY0bwkUcZ",
    "outputId": "0594025a-2d54-4c23-b92e-fc26b48c8fa2"
   },
   "outputs": [
    {
     "data": {
      "text/plain": [
       "array([-8.04131959+0.j        , -2.00120126-1.52846879j,\n",
       "       -2.00120126+1.52846879j])"
      ]
     },
     "execution_count": 33,
     "metadata": {
      "tags": []
     },
     "output_type": "execute_result"
    }
   ],
   "source": [
    "pc,_=ctrl.rlocus(G*conjugate_tf(G),kvect=[26],Plot=False)\n",
    "pc = pc[pc.real<0]\n",
    "pc"
   ]
  },
  {
   "cell_type": "markdown",
   "metadata": {
    "id": "UIqZ2COCkUcc"
   },
   "source": [
    "Y con K=1350 tenemos los polos del estimador."
   ]
  },
  {
   "cell_type": "code",
   "execution_count": null,
   "metadata": {
    "colab": {
     "base_uri": "https://localhost:8080/",
     "height": 52
    },
    "executionInfo": {
     "elapsed": 129,
     "status": "ok",
     "timestamp": 1600975662387,
     "user": {
      "displayName": "gonzalo molina",
      "photoUrl": "",
      "userId": "03146719216223860883"
     },
     "user_tz": 180
    },
    "id": "GpVx_qsBkUcd",
    "outputId": "49af759f-1117-49f8-cf15-d9981db1203b"
   },
   "outputs": [
    {
     "data": {
      "text/plain": [
       "array([-9.16842047+0.j        , -4.00280684-4.90432763j,\n",
       "       -4.00280684+4.90432763j])"
      ]
     },
     "execution_count": 34,
     "metadata": {
      "tags": []
     },
     "output_type": "execute_result"
    }
   ],
   "source": [
    "pe,_=ctrl.rlocus(G*conjugate_tf(G),kvect=[1350],Plot=False)\n",
    "pe = pe[pe.real<0]\n",
    "pe"
   ]
  },
  {
   "cell_type": "code",
   "execution_count": null,
   "metadata": {
    "colab": {
     "base_uri": "https://localhost:8080/",
     "height": 72
    },
    "executionInfo": {
     "elapsed": 106,
     "status": "ok",
     "timestamp": 1600975663050,
     "user": {
      "displayName": "gonzalo molina",
      "photoUrl": "",
      "userId": "03146719216223860883"
     },
     "user_tz": 180
    },
    "id": "ZAU6vH6NkUcg",
    "outputId": "4525f9f1-f306-4ee6-d738-7119db8cce4a"
   },
   "outputs": [
    {
     "name": "stdout",
     "output_type": "stream",
     "text": [
      "Polos de la ley de control:  [-8.04131959+0.j         -2.00120126-1.52846879j -2.00120126+1.52846879j]\n",
      "Polos del estimador:  [-9.16842047+0.j         -4.00280684-4.90432763j -4.00280684+4.90432763j]\n"
     ]
    }
   ],
   "source": [
    "print(\"Polos de la ley de control: \",pc)\n",
    "print(\"Polos del estimador: \",pe)"
   ]
  },
  {
   "cell_type": "code",
   "execution_count": null,
   "metadata": {
    "id": "yJRkFBptkUck"
   },
   "outputs": [],
   "source": [
    "K=ctrl.place(sys.A,sys.B,pc)\n",
    "L=ctrl.place(sys.A.T,sys.C.T,pe).T"
   ]
  },
  {
   "cell_type": "code",
   "execution_count": null,
   "metadata": {
    "colab": {
     "base_uri": "https://localhost:8080/",
     "height": 41
    },
    "executionInfo": {
     "elapsed": 85,
     "status": "ok",
     "timestamp": 1600975664779,
     "user": {
      "displayName": "gonzalo molina",
      "photoUrl": "",
      "userId": "03146719216223860883"
     },
     "user_tz": 180
    },
    "id": "Qtb9laB3kUcp",
    "outputId": "069faced-0c1a-401b-d8f9-207e2e6de38f"
   },
   "outputs": [
    {
     "data": {
      "text/latex": [
       "$$\\frac{-93.59 s^2 - 982 s - 1873}{s^3 + 19.22 s^2 + 150.7 s + 632.6}$$"
      ],
      "text/plain": [
       "\n",
       "    -93.59 s^2 - 982 s - 1873\n",
       "---------------------------------\n",
       "s^3 + 19.22 s^2 + 150.7 s + 632.6"
      ]
     },
     "execution_count": 37,
     "metadata": {
      "tags": []
     },
     "output_type": "execute_result"
    }
   ],
   "source": [
    "Dcsrl=ctrl.ss(sys.A-sys.B@K-L@sys.C,L,-K,0)\n",
    "ctrl.tf(Dcsrl)"
   ]
  },
  {
   "cell_type": "code",
   "execution_count": null,
   "metadata": {
    "colab": {
     "base_uri": "https://localhost:8080/",
     "height": 52
    },
    "executionInfo": {
     "elapsed": 81,
     "status": "ok",
     "timestamp": 1600975669015,
     "user": {
      "displayName": "gonzalo molina",
      "photoUrl": "",
      "userId": "03146719216223860883"
     },
     "user_tz": 180
    },
    "id": "tMLrdU2ZkUct",
    "outputId": "f6dd59e2-bc77-4f78-a2ed-204b8310bdbf"
   },
   "outputs": [
    {
     "data": {
      "text/plain": [
       "array([-10.64805029+0.j        ,  -4.28485298+6.40706271j,\n",
       "        -4.28485298-6.40706271j])"
      ]
     },
     "execution_count": 38,
     "metadata": {
      "tags": []
     },
     "output_type": "execute_result"
    }
   ],
   "source": [
    "Dcsrl.pole()"
   ]
  },
  {
   "cell_type": "code",
   "execution_count": null,
   "metadata": {
    "colab": {
     "base_uri": "https://localhost:8080/",
     "height": 35
    },
    "executionInfo": {
     "elapsed": 76,
     "status": "ok",
     "timestamp": 1600975670237,
     "user": {
      "displayName": "gonzalo molina",
      "photoUrl": "",
      "userId": "03146719216223860883"
     },
     "user_tz": 180
    },
    "id": "7GvVnY4RkUcx",
    "outputId": "d8ceb104-e231-4181-f283-9b6f2515b2a2"
   },
   "outputs": [
    {
     "data": {
      "text/plain": [
       "array([-2.50686229+0.j, -7.98559378+0.j])"
      ]
     },
     "execution_count": 39,
     "metadata": {
      "tags": []
     },
     "output_type": "execute_result"
    }
   ],
   "source": [
    "Dcsrl.zero()"
   ]
  },
  {
   "cell_type": "code",
   "execution_count": null,
   "metadata": {
    "id": "IuQl5nJwkUc0"
   },
   "outputs": [],
   "source": [
    "_=ctrl.bode((-sys*Dc,-sys*Dcr,-sys*Dcsrl),omega_limits=(1e-2,1e2),dB=True)"
   ]
  },
  {
   "cell_type": "code",
   "execution_count": null,
   "metadata": {
    "colab": {
     "base_uri": "https://localhost:8080/",
     "height": 69
    },
    "executionInfo": {
     "elapsed": 97,
     "status": "ok",
     "timestamp": 1600975672255,
     "user": {
      "displayName": "gonzalo molina",
      "photoUrl": "",
      "userId": "03146719216223860883"
     },
     "user_tz": 180
    },
    "id": "IpTdYQNykUc4",
    "outputId": "ec4135e0-4f1a-401e-f641-7d26efee4c13"
   },
   "outputs": [
    {
     "name": "stdout",
     "output_type": "stream",
     "text": [
      "(0.6817283208672508, 13.183302483788026, 1.3027826533895248, 2.608292172554406)\n",
      "(1.3198762960800223, -35.208651061695065, 2.07889863588063, 4.058211662618371)\n",
      "(3.7818445925948114, 60.09561708471773, 5.497487495573457, 1.711784852716206)\n"
     ]
    }
   ],
   "source": [
    "print(ctrl.margin(-sys*Dc))\n",
    "print(ctrl.margin(-sys*Dcr))\n",
    "print(ctrl.margin(-sys*Dcsrl))"
   ]
  },
  {
   "cell_type": "code",
   "execution_count": null,
   "metadata": {
    "id": "UtrD_mUEkUc8"
   },
   "outputs": [],
   "source": [
    "T1=ctrl.feedback(-sys*Dc)\n",
    "T2=ctrl.feedback(-sys*Dcr)\n",
    "T3=ctrl.feedback(-sys*Dcsrl)"
   ]
  },
  {
   "cell_type": "code",
   "execution_count": null,
   "metadata": {
    "colab": {
     "base_uri": "https://localhost:8080/",
     "height": 104
    },
    "executionInfo": {
     "elapsed": 113,
     "status": "ok",
     "timestamp": 1600975921642,
     "user": {
      "displayName": "gonzalo molina",
      "photoUrl": "",
      "userId": "03146719216223860883"
     },
     "user_tz": 180
    },
    "id": "ZASkbVMSuHrt",
    "outputId": "c6883ac8-0846-4e93-fe55-d26bbac04bdb"
   },
   "outputs": [
    {
     "name": "stdout",
     "output_type": "stream",
     "text": [
      "Los polos de T1 son: [-3.12+6.42j -3.12-6.42j -1.04+2.14j -1.04-2.14j -1.42+0.j   -4.26+0.j  ]\n",
      "Los polos de T2 son: [-4.242+4.24328128j -4.242-4.24328128j -1.04 +2.14j\n",
      " -1.04 -2.14j       -1.42 +0.j        ]\n",
      "Los polos de T3 son: [-9.16842047+0.j         -8.04131959+0.j         -4.00280684+4.90432763j\n",
      " -4.00280684-4.90432763j -2.00120126+1.52846879j -2.00120126-1.52846879j]\n"
     ]
    }
   ],
   "source": [
    "print(f\"Los polos de T1 son: {T1.pole()}\")\n",
    "print(f\"Los polos de T2 son: {T2.pole()}\")\n",
    "print(f\"Los polos de T3 son: {T3.pole()}\")"
   ]
  },
  {
   "cell_type": "markdown",
   "metadata": {
    "id": "OOewQwPNvU2S"
   },
   "source": [
    "### Respuesta al escalón del sistema \"controlado\" (a partir de una salida distinta de 0)"
   ]
  },
  {
   "cell_type": "markdown",
   "metadata": {
    "id": "GMtwL3u8mbMS"
   },
   "source": []
  },
  {
   "cell_type": "code",
   "execution_count": null,
   "metadata": {
    "id": "2XXJ3s_wuGbN"
   },
   "outputs": [],
   "source": [
    "t1,y1 = ctrl.initial_response(T1, X0=np.matrix([0,0,0,-1,0,0]).T,T=np.linspace(0,5,1000))\n",
    "t2,y2 = ctrl.initial_response(T2, X0=np.matrix([0,0,-1,0,0]).T,T=np.linspace(0,5,1000))\n",
    "t3,y3 = ctrl.initial_response(T3, X0=np.matrix([0,0,0,-1,0,0]).T,T=np.linspace(0,5,1000))"
   ]
  },
  {
   "cell_type": "code",
   "execution_count": null,
   "metadata": {
    "id": "9fUavZoXmh-z"
   },
   "outputs": [],
   "source": []
  },
  {
   "cell_type": "code",
   "execution_count": null,
   "metadata": {
    "colab": {
     "base_uri": "https://localhost:8080/",
     "height": 430
    },
    "executionInfo": {
     "elapsed": 356,
     "status": "ok",
     "timestamp": 1600975942871,
     "user": {
      "displayName": "gonzalo molina",
      "photoUrl": "",
      "userId": "03146719216223860883"
     },
     "user_tz": 180
    },
    "id": "-kfJ70e2kUc_",
    "outputId": "7f830759-1289-4692-b796-5156d89b9c5b"
   },
   "outputs": [
    {
     "data": {
      "image/png": "[encoded data removed]",
      "text/plain": [
       "<Figure size 640x480 with 1 Axes>"
      ]
     },
     "execution_count": 46,
     "metadata": {
      "tags": []
     },
     "output_type": "execute_result"
    }
   ],
   "source": [
    "plt.plot(t1,y1,label=\"T1\")\n",
    "plt.plot(t2,y2,label=\"T2\")\n",
    "plt.plot(t3,y3,label=\"T3\")\n",
    "plt.legend()\n",
    "plt.grid()\n",
    "plt.gcf()"
   ]
  },
  {
   "cell_type": "markdown",
   "metadata": {
    "id": "b85hR1QlyvH2"
   },
   "source": [
    "## Conxión de sistemas entrada/salida"
   ]
  },
  {
   "cell_type": "markdown",
   "metadata": {
    "id": "r-5qTqXZy75T"
   },
   "source": [
    "Podemos ver en el caso anterior que mediante el uso de la función ctrl.feedback hemos perdido, al menos parcialmente, saber de que manera estan ordenados los estados del sistema.\n",
    "\n",
    "Par aun mayor control de como están ubicados los eatados, las entradas y la salidas es conveniente usar la función `ctrl.append` y `ctrl.connect`."
   ]
  },
  {
   "cell_type": "code",
   "execution_count": null,
   "metadata": {
    "id": "cWT1nwst7qSH"
   },
   "outputs": [],
   "source": [
    "ctrl.connect?"
   ]
  },
  {
   "cell_type": "code",
   "execution_count": null,
   "metadata": {
    "colab": {
     "base_uri": "https://localhost:8080/",
     "height": 243
    },
    "executionInfo": {
     "elapsed": 91,
     "status": "ok",
     "timestamp": 1600976148231,
     "user": {
      "displayName": "gonzalo molina",
      "photoUrl": "",
      "userId": "03146719216223860883"
     },
     "user_tz": 180
    },
    "id": "0p5DCavSL3kk",
    "outputId": "51d752d1-cca9-45c9-9900-491a2cc97897"
   },
   "outputs": [
    {
     "data": {
      "text/plain": [
       "A = [[-10.         1.         0.         0.         0.         0.      ]\n",
       " [-16.         0.         1.         0.         0.         0.      ]\n",
       " [  0.         0.         0.       464.109096 -57.6148     6.5     ]\n",
       " [  0.5        0.         0.       -10.5        1.         0.      ]\n",
       " [ 61.5332     0.         0.       -77.5332     0.         1.      ]\n",
       " [217.050408   0.         0.       247.058688 -57.6148     6.5     ]]\n",
       "\n",
       "B = []\n",
       "\n",
       "C = [[ 1.         0.         0.         0.         0.         0.       ]\n",
       " [ 0.         0.         0.        46.4109096 -5.76148    0.65     ]]\n",
       "\n",
       "D = []"
      ]
     },
     "execution_count": 48,
     "metadata": {
      "tags": []
     },
     "output_type": "execute_result"
    }
   ],
   "source": [
    "sys_conectado_1 = ctrl.connect(ctrl.append(sys,Dc),\n",
    "                               [[1,2],[2,1]],[],[1,2])\n",
    "sys_conectado_1"
   ]
  },
  {
   "cell_type": "code",
   "execution_count": null,
   "metadata": {
    "colab": {
     "base_uri": "https://localhost:8080/",
     "height": 225
    },
    "executionInfo": {
     "elapsed": 84,
     "status": "ok",
     "timestamp": 1600976174487,
     "user": {
      "displayName": "gonzalo molina",
      "photoUrl": "",
      "userId": "03146719216223860883"
     },
     "user_tz": 180
    },
    "id": "0_vRmFzT1Kaj",
    "outputId": "5097e786-b0b5-458f-dc64-18bbe686160e"
   },
   "outputs": [
    {
     "data": {
      "text/plain": [
       "A = [[-10.          1.          0.          0.          0.       ]\n",
       " [-16.          0.          1.          0.          0.       ]\n",
       " [209.3051328   0.          0.        -57.6148      6.5      ]\n",
       " [ 32.861744    0.          0.         -8.484       1.       ]\n",
       " [263.8811328   0.          0.        -93.6148      6.5      ]]\n",
       "\n",
       "B = []\n",
       "\n",
       "C = [[ 1.          0.          0.          0.          0.        ]\n",
       " [20.93051328  0.          0.         -5.76148     0.65      ]]\n",
       "\n",
       "D = []"
      ]
     },
     "execution_count": 51,
     "metadata": {
      "tags": []
     },
     "output_type": "execute_result"
    }
   ],
   "source": [
    "sys_conectado_2 = ctrl.connect(ctrl.append(sys,Dcr),[[1,2],[2,1]],[],[1,2])\n",
    "sys_conectado_2"
   ]
  },
  {
   "cell_type": "code",
   "execution_count": null,
   "metadata": {
    "colab": {
     "base_uri": "https://localhost:8080/",
     "height": 347
    },
    "executionInfo": {
     "elapsed": 84,
     "status": "ok",
     "timestamp": 1600976189652,
     "user": {
      "displayName": "gonzalo molina",
      "photoUrl": "",
      "userId": "03146719216223860883"
     },
     "user_tz": 180
    },
    "id": "RG6KpNo71fMO",
    "outputId": "8cf148f1-17e1-4ccd-c784-1335e1fcede1"
   },
   "outputs": [
    {
     "data": {
      "text/plain": [
       "A = [[ -10.            1.            0.            0.            0.\n",
       "     0.        ]\n",
       " [ -16.            0.            1.            0.            0.\n",
       "     0.        ]\n",
       " [   0.            0.            0.            2.59335883   -2.08840003\n",
       "    -2.04372211]\n",
       " [   7.17403415    0.            0.          -17.17403415    1.\n",
       "     0.        ]\n",
       " [  97.47372448    0.            0.         -113.47372448    0.\n",
       "     1.        ]\n",
       " [ 367.42346142    0.            0.         -364.83010259   -2.08840003\n",
       "    -2.04372211]]\n",
       "\n",
       "B = []\n",
       "\n",
       "C = [[ 1.          0.          0.          0.          0.          0.        ]\n",
       " [ 0.          0.          0.          0.25933588 -0.20884    -0.20437221]]\n",
       "\n",
       "D = []"
      ]
     },
     "execution_count": 53,
     "metadata": {
      "tags": []
     },
     "output_type": "execute_result"
    }
   ],
   "source": [
    "sys_conectado_3 = ctrl.connect(ctrl.append(sys, Dcsrl), [[1,2], [2,1]], [], [1,2])\n",
    "sys_conectado_3"
   ]
  },
  {
   "cell_type": "markdown",
   "metadata": {
    "id": "7GGfr40J6aWe"
   },
   "source": [
    "La manera en que `ctrl.connect` trabaja es:\n",
    "\n",
    "1. El primer argumento es un sistema de muchas entradas y muchas salidas que se tienen que interconectar. Para esto, agrupamos todos los sistemas que queremos interconectar mediante la función `ctrl.append`. Esta función nos va a devolver un único sistema en general de muchas entradas y muchas salidas.\n",
    "\n",
    "2. El segundo argumento es una matriz de interconexión, donde cada fila nos dice que entrada se conecta con que salida. Las entradas y las salidas quedan ordenadas según el orden que hayamos puesto en la función `ctrl.append`, y están númeradas a partir de 1.\n",
    "\n",
    "3. El tercer argumento, nos dice que entradas van a ser tomadas como entradas del sistema.\n",
    "\n",
    "4. El cuarto y último argumento son las salidas del sistema."
   ]
  },
  {
   "cell_type": "markdown",
   "metadata": {
    "id": "ka77Rz1x8CVa"
   },
   "source": [
    "Revisemos la utilización de `ctrl.connect` en nuetro ejemplo:\n",
    "\n",
    "1. El primer argumento es un sistema construído a partir de `ctrl.append` que incluye a `sys` (la planta que queremos controlar) y a `Dc` (el controlador). Esta función nos va a devoler un sistema cuyos primeros 3 estados serán los estados de `sys` y los restantes son los del observador; tendrá dos donde la primer entrada es la de `sys` y la segunda entrada es la de `Dc`; y la primer salida es la de `sys` y la segunda salida es la de `Dc`.\n",
    "\n",
    "2. El segundo argumento es la matriz de interconexión. Primero conecto la entrada de `sys` con la salida de `Dc`. Como `sys` en `ctrl.append` está primero, la entrada 1 corresponde a la de `sys` y la salida 2 corresponde a la salida de `Dc`. De esta manera tenemos la primer fila de `Q`. La segunda fila de `Q` conecta la entrada de `Dc` con la salida de `sys`.\n",
    "\n",
    "3. El sistema que estamos generando no tiene entradas, pero el módulo de control tiene algunos problemas en sistemas que notienen entradas o que no tiene salidas, por eso el tercer argumento vamos a poner [1], que significa una entrada que se sumará a la salida de `Dc` en la entrada de `sys`.\n",
    "\n",
    "4. El último argumento son las salidas. Voy a tomar como salidas de mi sistema el esfuerzo de control, es decir la salida del sistema `Dc`, y la salida de la planta, es decir la salida de `sys`."
   ]
  },
  {
   "cell_type": "markdown",
   "metadata": {
    "id": "qzLJto6U_Opj"
   },
   "source": [
    "Vamos a realizar nuevamente las simulaciones con los sistemas definidos mediante el connect."
   ]
  },
  {
   "cell_type": "code",
   "execution_count": null,
   "metadata": {
    "colab": {
     "base_uri": "https://localhost:8080/",
     "height": 703
    },
    "executionInfo": {
     "elapsed": 110,
     "status": "error",
     "timestamp": 1600976196686,
     "user": {
      "displayName": "gonzalo molina",
      "photoUrl": "",
      "userId": "03146719216223860883"
     },
     "user_tz": 180
    },
    "id": "-Fm-3l-j1s86",
    "outputId": "1c9bd191-80df-45b8-ca77-2b83c14e7d81"
   },
   "outputs": [
    {
     "ename": "ValueError",
     "evalue": "ignored",
     "output_type": "error",
     "traceback": [
      "\u001b[0;31m---------------------------------------------------------------------------\u001b[0m",
      "\u001b[0;31mValueError\u001b[0m                                Traceback (most recent call last)",
      "\u001b[0;32m<ipython-input-54-1f521e385108>\u001b[0m in \u001b[0;36m<module>\u001b[0;34m\u001b[0m\n\u001b[0;32m----> 1\u001b[0;31m \u001b[0mt1\u001b[0m\u001b[0;34m,\u001b[0m\u001b[0my1\u001b[0m \u001b[0;34m=\u001b[0m \u001b[0mctrl\u001b[0m\u001b[0;34m.\u001b[0m\u001b[0minitial_response\u001b[0m\u001b[0;34m(\u001b[0m\u001b[0msys_conectado_1\u001b[0m\u001b[0;34m,\u001b[0m \u001b[0mX0\u001b[0m\u001b[0;34m=\u001b[0m\u001b[0mnp\u001b[0m\u001b[0;34m.\u001b[0m\u001b[0mmatrix\u001b[0m\u001b[0;34m(\u001b[0m\u001b[0;34m[\u001b[0m\u001b[0;36m1\u001b[0m\u001b[0;34m,\u001b[0m\u001b[0;36m0\u001b[0m\u001b[0;34m,\u001b[0m\u001b[0;36m0\u001b[0m\u001b[0;34m,\u001b[0m\u001b[0;36m0\u001b[0m\u001b[0;34m,\u001b[0m\u001b[0;36m0\u001b[0m\u001b[0;34m,\u001b[0m\u001b[0;36m0\u001b[0m\u001b[0;34m]\u001b[0m\u001b[0;34m)\u001b[0m\u001b[0;34m.\u001b[0m\u001b[0mT\u001b[0m\u001b[0;34m,\u001b[0m\u001b[0mT\u001b[0m\u001b[0;34m=\u001b[0m\u001b[0mnp\u001b[0m\u001b[0;34m.\u001b[0m\u001b[0mlinspace\u001b[0m\u001b[0;34m(\u001b[0m\u001b[0;36m0\u001b[0m\u001b[0;34m,\u001b[0m\u001b[0;36m5\u001b[0m\u001b[0;34m,\u001b[0m\u001b[0;36m1000\u001b[0m\u001b[0;34m)\u001b[0m\u001b[0;34m)\u001b[0m\u001b[0;34m\u001b[0m\u001b[0;34m\u001b[0m\u001b[0m\n\u001b[0m\u001b[1;32m      2\u001b[0m \u001b[0mt2\u001b[0m\u001b[0;34m,\u001b[0m\u001b[0my2\u001b[0m \u001b[0;34m=\u001b[0m \u001b[0mctrl\u001b[0m\u001b[0;34m.\u001b[0m\u001b[0minitial_response\u001b[0m\u001b[0;34m(\u001b[0m\u001b[0msys_conectado_2\u001b[0m\u001b[0;34m,\u001b[0m \u001b[0mX0\u001b[0m\u001b[0;34m=\u001b[0m\u001b[0mnp\u001b[0m\u001b[0;34m.\u001b[0m\u001b[0mmatrix\u001b[0m\u001b[0;34m(\u001b[0m\u001b[0;34m[\u001b[0m\u001b[0;36m1\u001b[0m\u001b[0;34m,\u001b[0m\u001b[0;36m0\u001b[0m\u001b[0;34m,\u001b[0m\u001b[0;36m0\u001b[0m\u001b[0;34m,\u001b[0m\u001b[0;36m0\u001b[0m\u001b[0;34m,\u001b[0m\u001b[0;36m0\u001b[0m\u001b[0;34m]\u001b[0m\u001b[0;34m)\u001b[0m\u001b[0;34m.\u001b[0m\u001b[0mT\u001b[0m\u001b[0;34m,\u001b[0m\u001b[0mT\u001b[0m\u001b[0;34m=\u001b[0m\u001b[0mnp\u001b[0m\u001b[0;34m.\u001b[0m\u001b[0mlinspace\u001b[0m\u001b[0;34m(\u001b[0m\u001b[0;36m0\u001b[0m\u001b[0;34m,\u001b[0m\u001b[0;36m5\u001b[0m\u001b[0;34m,\u001b[0m\u001b[0;36m1000\u001b[0m\u001b[0;34m)\u001b[0m\u001b[0;34m)\u001b[0m\u001b[0;34m\u001b[0m\u001b[0;34m\u001b[0m\u001b[0m\n\u001b[1;32m      3\u001b[0m \u001b[0mt3\u001b[0m\u001b[0;34m,\u001b[0m\u001b[0my3\u001b[0m \u001b[0;34m=\u001b[0m \u001b[0mctrl\u001b[0m\u001b[0;34m.\u001b[0m\u001b[0minitial_response\u001b[0m\u001b[0;34m(\u001b[0m\u001b[0msys_conectado_3\u001b[0m\u001b[0;34m,\u001b[0m \u001b[0mX0\u001b[0m\u001b[0;34m=\u001b[0m\u001b[0mnp\u001b[0m\u001b[0;34m.\u001b[0m\u001b[0mmatrix\u001b[0m\u001b[0;34m(\u001b[0m\u001b[0;34m[\u001b[0m\u001b[0;36m1\u001b[0m\u001b[0;34m,\u001b[0m\u001b[0;36m0\u001b[0m\u001b[0;34m,\u001b[0m\u001b[0;36m0\u001b[0m\u001b[0;34m,\u001b[0m\u001b[0;36m0\u001b[0m\u001b[0;34m,\u001b[0m\u001b[0;36m0\u001b[0m\u001b[0;34m,\u001b[0m\u001b[0;36m0\u001b[0m\u001b[0;34m]\u001b[0m\u001b[0;34m)\u001b[0m\u001b[0;34m.\u001b[0m\u001b[0mT\u001b[0m\u001b[0;34m,\u001b[0m\u001b[0mT\u001b[0m\u001b[0;34m=\u001b[0m\u001b[0mnp\u001b[0m\u001b[0;34m.\u001b[0m\u001b[0mlinspace\u001b[0m\u001b[0;34m(\u001b[0m\u001b[0;36m0\u001b[0m\u001b[0;34m,\u001b[0m\u001b[0;36m5\u001b[0m\u001b[0;34m,\u001b[0m\u001b[0;36m1000\u001b[0m\u001b[0;34m)\u001b[0m\u001b[0;34m)\u001b[0m\u001b[0;34m\u001b[0m\u001b[0;34m\u001b[0m\u001b[0m\n\u001b[1;32m      4\u001b[0m \u001b[0mplt\u001b[0m\u001b[0;34m.\u001b[0m\u001b[0mfigure\u001b[0m\u001b[0;34m(\u001b[0m\u001b[0;34m)\u001b[0m\u001b[0;34m\u001b[0m\u001b[0;34m\u001b[0m\u001b[0m\n\u001b[1;32m      5\u001b[0m \u001b[0mplt\u001b[0m\u001b[0;34m.\u001b[0m\u001b[0mplot\u001b[0m\u001b[0;34m(\u001b[0m\u001b[0mt1\u001b[0m\u001b[0;34m,\u001b[0m\u001b[0my1\u001b[0m\u001b[0;34m[\u001b[0m\u001b[0;36m0\u001b[0m\u001b[0;34m,\u001b[0m\u001b[0;34m:\u001b[0m\u001b[0;34m]\u001b[0m\u001b[0;34m,\u001b[0m\u001b[0mlabel\u001b[0m\u001b[0;34m=\u001b[0m\u001b[0;34m\"T1\"\u001b[0m\u001b[0;34m)\u001b[0m\u001b[0;34m\u001b[0m\u001b[0;34m\u001b[0m\u001b[0m\n",
      "\u001b[0;32m~/miniconda3/envs/dyc/lib/python3.7/site-packages/control/timeresp.py\u001b[0m in \u001b[0;36minitial_response\u001b[0;34m(sys, T, X0, input, output, transpose, return_x, squeeze)\u001b[0m\n\u001b[1;32m    693\u001b[0m     \u001b[0;34m>>\u001b[0m\u001b[0;34m>\u001b[0m \u001b[0mT\u001b[0m\u001b[0;34m,\u001b[0m \u001b[0myout\u001b[0m \u001b[0;34m=\u001b[0m \u001b[0minitial_response\u001b[0m\u001b[0;34m(\u001b[0m\u001b[0msys\u001b[0m\u001b[0;34m,\u001b[0m \u001b[0mT\u001b[0m\u001b[0;34m,\u001b[0m \u001b[0mX0\u001b[0m\u001b[0;34m)\u001b[0m\u001b[0;34m\u001b[0m\u001b[0;34m\u001b[0m\u001b[0m\n\u001b[1;32m    694\u001b[0m     \"\"\"\n\u001b[0;32m--> 695\u001b[0;31m     \u001b[0msys\u001b[0m \u001b[0;34m=\u001b[0m \u001b[0m_get_ss_simo\u001b[0m\u001b[0;34m(\u001b[0m\u001b[0msys\u001b[0m\u001b[0;34m,\u001b[0m \u001b[0minput\u001b[0m\u001b[0;34m,\u001b[0m \u001b[0moutput\u001b[0m\u001b[0;34m)\u001b[0m\u001b[0;34m\u001b[0m\u001b[0;34m\u001b[0m\u001b[0m\n\u001b[0m\u001b[1;32m    696\u001b[0m \u001b[0;34m\u001b[0m\u001b[0m\n\u001b[1;32m    697\u001b[0m     \u001b[0;31m# Create time and input vectors; checking is done in forced_response(...)\u001b[0m\u001b[0;34m\u001b[0m\u001b[0;34m\u001b[0m\u001b[0;34m\u001b[0m\u001b[0m\n",
      "\u001b[0;32m~/miniconda3/envs/dyc/lib/python3.7/site-packages/control/timeresp.py\u001b[0m in \u001b[0;36m_get_ss_simo\u001b[0;34m(sys, input, output)\u001b[0m\n\u001b[1;32m    436\u001b[0m         \u001b[0minput\u001b[0m \u001b[0;34m=\u001b[0m \u001b[0;36m0\u001b[0m\u001b[0;34m\u001b[0m\u001b[0;34m\u001b[0m\u001b[0m\n\u001b[1;32m    437\u001b[0m     \u001b[0;32mif\u001b[0m \u001b[0moutput\u001b[0m \u001b[0;32mis\u001b[0m \u001b[0;32mNone\u001b[0m\u001b[0;34m:\u001b[0m\u001b[0;34m\u001b[0m\u001b[0;34m\u001b[0m\u001b[0m\n\u001b[0;32m--> 438\u001b[0;31m         \u001b[0;32mreturn\u001b[0m \u001b[0m_mimo2simo\u001b[0m\u001b[0;34m(\u001b[0m\u001b[0msys_ss\u001b[0m\u001b[0;34m,\u001b[0m \u001b[0minput\u001b[0m\u001b[0;34m,\u001b[0m \u001b[0mwarn_conversion\u001b[0m\u001b[0;34m=\u001b[0m\u001b[0mwarn\u001b[0m\u001b[0;34m)\u001b[0m\u001b[0;34m\u001b[0m\u001b[0;34m\u001b[0m\u001b[0m\n\u001b[0m\u001b[1;32m    439\u001b[0m     \u001b[0;32melse\u001b[0m\u001b[0;34m:\u001b[0m\u001b[0;34m\u001b[0m\u001b[0;34m\u001b[0m\u001b[0m\n\u001b[1;32m    440\u001b[0m         \u001b[0;32mreturn\u001b[0m \u001b[0m_mimo2siso\u001b[0m\u001b[0;34m(\u001b[0m\u001b[0msys_ss\u001b[0m\u001b[0;34m,\u001b[0m \u001b[0minput\u001b[0m\u001b[0;34m,\u001b[0m \u001b[0moutput\u001b[0m\u001b[0;34m,\u001b[0m \u001b[0mwarn_conversion\u001b[0m\u001b[0;34m=\u001b[0m\u001b[0mwarn\u001b[0m\u001b[0;34m)\u001b[0m\u001b[0;34m\u001b[0m\u001b[0;34m\u001b[0m\u001b[0m\n",
      "\u001b[0;32m~/miniconda3/envs/dyc/lib/python3.7/site-packages/control/statesp.py\u001b[0m in \u001b[0;36m_mimo2simo\u001b[0;34m(sys, input, warn_conversion)\u001b[0m\n\u001b[1;32m   1220\u001b[0m                          \u001b[0;34m\"Selected input: {sel}, \"\u001b[0m\u001b[0;34m\u001b[0m\u001b[0;34m\u001b[0m\u001b[0m\n\u001b[1;32m   1221\u001b[0m                          \u001b[0;34m\"number of system inputs: {ext}.\"\u001b[0m\u001b[0;34m\u001b[0m\u001b[0;34m\u001b[0m\u001b[0m\n\u001b[0;32m-> 1222\u001b[0;31m                          .format(sel=input, ext=sys.inputs))\n\u001b[0m\u001b[1;32m   1223\u001b[0m     \u001b[0;31m# Convert sys to SISO if necessary\u001b[0m\u001b[0;34m\u001b[0m\u001b[0;34m\u001b[0m\u001b[0;34m\u001b[0m\u001b[0m\n\u001b[1;32m   1224\u001b[0m     \u001b[0;32mif\u001b[0m \u001b[0msys\u001b[0m\u001b[0;34m.\u001b[0m\u001b[0minputs\u001b[0m \u001b[0;34m>\u001b[0m \u001b[0;36m1\u001b[0m\u001b[0;34m:\u001b[0m\u001b[0;34m\u001b[0m\u001b[0;34m\u001b[0m\u001b[0m\n",
      "\u001b[0;31mValueError\u001b[0m: Selected input does not exist. Selected input: 0, number of system inputs: 0."
     ]
    }
   ],
   "source": [
    "t1,y1 = ctrl.initial_response(sys_conectado_1, X0=np.matrix([1,0,0,0,0,0]).T,T=np.linspace(0,5,1000))\n",
    "t2,y2 = ctrl.initial_response(sys_conectado_2, X0=np.matrix([1,0,0,0,0]).T,T=np.linspace(0,5,1000))\n",
    "t3,y3 = ctrl.initial_response(sys_conectado_3, X0=np.matrix([1,0,0,0,0,0]).T,T=np.linspace(0,5,1000))\n",
    "plt.figure()\n",
    "plt.plot(t1,y1[0,:],label=\"T1\")\n",
    "plt.plot(t2,y2[0,:],label=\"T2\")\n",
    "plt.plot(t3,y3[0,:],label=\"T3\")\n",
    "plt.legend()\n",
    "plt.grid()\n",
    "plt.gcf()"
   ]
  },
  {
   "cell_type": "markdown",
   "metadata": {
    "id": "224fcVeYO3Ya"
   },
   "source": [
    "Podemos también mirar el esfuerzo de control, ya que es salida de la planta."
   ]
  },
  {
   "cell_type": "code",
   "execution_count": null,
   "metadata": {
    "colab": {
     "base_uri": "https://localhost:8080/",
     "height": 430
    },
    "executionInfo": {
     "elapsed": 466,
     "status": "ok",
     "timestamp": 1600885884174,
     "user": {
      "displayName": "gonzalo molina",
      "photoUrl": "",
      "userId": "03146719216223860883"
     },
     "user_tz": 180
    },
    "id": "_WxxKQsg_haz",
    "outputId": "2eb3b46e-547d-4106-c581-8f9595f2107e"
   },
   "outputs": [
    {
     "data": {
      "image/png": "[encoded data removed]",
      "text/plain": [
       "<Figure size 640x480 with 1 Axes>"
      ]
     },
     "execution_count": 163,
     "metadata": {
      "tags": []
     },
     "output_type": "execute_result"
    }
   ],
   "source": [
    "t1,y1 = ctrl.initial_response(sys_conectado_1, X0=np.matrix([1,0,0,0,0,0]).T,T=np.linspace(0,5,1000))\n",
    "t2,y2 = ctrl.initial_response(sys_conectado_2, X0=np.matrix([1,0,0,0,0]).T,T=np.linspace(0,5,1000))\n",
    "t3,y3 = ctrl.initial_response(sys_conectado_3, X0=np.matrix([1,0,0,0,0,0]).T,T=np.linspace(0,5,1000))\n",
    "plt.figure()\n",
    "plt.plot(t1,y1[1,:],label=\"T1\")\n",
    "plt.plot(t2,y2[1,:],label=\"T2\")\n",
    "plt.plot(t3,y3[1,:],label=\"T3\")\n",
    "plt.legend()\n",
    "plt.grid()\n",
    "plt.gcf()"
   ]
  },
  {
   "cell_type": "markdown",
   "metadata": {
    "id": "4-G2F9KzPHeD"
   },
   "source": [
    "Este ejemplo muestra claramente como la elección de los polos usando cirterios de optimización como son los de lugar simétrico de las ráices nos da un control mucho mejor, tanto en tiempo de respuesta como en el esfuerzo de control."
   ]
  },
  {
   "cell_type": "code",
   "execution_count": 31,
   "metadata": {
    "colab": {
     "base_uri": "https://localhost:8080/",
     "height": 52
    },
    "executionInfo": {
     "elapsed": 89,
     "status": "ok",
     "timestamp": 1601061963921,
     "user": {
      "displayName": "gonzalo molina",
      "photoUrl": "",
      "userId": "03146719216223860883"
     },
     "user_tz": 180
    },
    "id": "mUQ4gHl6PAK-",
    "outputId": "cf7f98c7-9e0d-444c-9045-424220b97616"
   },
   "outputs": [
    {
     "data": {
      "text/plain": [
       "array([-4.242+4.24328128j, -4.242-4.24328128j, -1.04 +2.14j      ,\n",
       "       -1.04 -2.14j      , -1.42 +0.j        ])"
      ]
     },
     "execution_count": 31,
     "metadata": {
      "tags": []
     },
     "output_type": "execute_result"
    }
   ],
   "source": [
    "psys_controlado_con_ref = ctrl.connect(ctrl.append(sys,Dcr_ref), [[1, 2],[2,1]], [3], [1,2])\n",
    "psys_controlado_con_ref.pole()"
   ]
  },
  {
   "cell_type": "code",
   "execution_count": 34,
   "metadata": {
    "colab": {
     "base_uri": "https://localhost:8080/",
     "height": 35
    },
    "executionInfo": {
     "elapsed": 87,
     "status": "ok",
     "timestamp": 1601062068231,
     "user": {
      "displayName": "gonzalo molina",
      "photoUrl": "",
      "userId": "03146719216223860883"
     },
     "user_tz": 180
    },
    "id": "nroB82_4utfJ",
    "outputId": "6d7d49a6-3d4a-48e1-a442-996cc8f63705"
   },
   "outputs": [
    {
     "data": {
      "text/plain": [
       "array([1.00000000e+00, 3.55271368e-15])"
      ]
     },
     "execution_count": 34,
     "metadata": {
      "tags": []
     },
     "output_type": "execute_result"
    }
   ],
   "source": [
    "ctrl.dcgain(psys_controlado_con_ref)"
   ]
  },
  {
   "cell_type": "code",
   "execution_count": 32,
   "metadata": {
    "executionInfo": {
     "elapsed": 115,
     "status": "ok",
     "timestamp": 1601062019233,
     "user": {
      "displayName": "gonzalo molina",
      "photoUrl": "",
      "userId": "03146719216223860883"
     },
     "user_tz": 180
    },
    "id": "OCJ6-IvDqicE"
   },
   "outputs": [],
   "source": [
    "t,y = ctrl.step_response(psys_controlado_con_ref)"
   ]
  },
  {
   "cell_type": "code",
   "execution_count": 35,
   "metadata": {
    "colab": {
     "base_uri": "https://localhost:8080/",
     "height": 35
    },
    "executionInfo": {
     "elapsed": 117,
     "status": "ok",
     "timestamp": 1601062116626,
     "user": {
      "displayName": "gonzalo molina",
      "photoUrl": "",
      "userId": "03146719216223860883"
     },
     "user_tz": 180
    },
    "id": "3iImUh49uVgf",
    "outputId": "8da72d94-5f66-44d6-af35-e56f3a6ed380"
   },
   "outputs": [
    {
     "data": {
      "text/plain": [
       "[<matplotlib.lines.Line2D at 0x7f2df14bc250>]"
      ]
     },
     "execution_count": 35,
     "metadata": {
      "tags": []
     },
     "output_type": "execute_result"
    }
   ],
   "source": [
    "plt.plot(t,y[0,:])"
   ]
  },
  {
   "cell_type": "code",
   "execution_count": 36,
   "metadata": {
    "colab": {
     "base_uri": "https://localhost:8080/",
     "height": 35
    },
    "executionInfo": {
     "elapsed": 128,
     "status": "ok",
     "timestamp": 1601062130311,
     "user": {
      "displayName": "gonzalo molina",
      "photoUrl": "",
      "userId": "03146719216223860883"
     },
     "user_tz": 180
    },
    "id": "0Z2CTQWJuaKh",
    "outputId": "60ed8471-71f1-45e6-b17c-fe12f462224a"
   },
   "outputs": [
    {
     "data": {
      "text/plain": [
       "[<matplotlib.lines.Line2D at 0x7f2df06f7f50>]"
      ]
     },
     "execution_count": 36,
     "metadata": {
      "tags": []
     },
     "output_type": "execute_result"
    }
   ],
   "source": [
    "plt.figure()\n",
    "plt.plot(t,y[1,:])"
   ]
  },
  {
   "cell_type": "code",
   "execution_count": null,
   "metadata": {
    "id": "kUmWNXDUutMp"
   },
   "outputs": [],
   "source": []
  },
  {
   "cell_type": "markdown",
   "metadata": {
    "id": "MvRx1V1S2TnA"
   },
   "source": [
    "## Control integral y estimador de orden completo"
   ]
  },
  {
   "cell_type": "code",
   "execution_count": 42,
   "metadata": {
    "colab": {
     "base_uri": "https://localhost:8080/",
     "height": 69
    },
    "executionInfo": {
     "elapsed": 91,
     "status": "ok",
     "timestamp": 1601064254755,
     "user": {
      "displayName": "gonzalo molina",
      "photoUrl": "",
      "userId": "03146719216223860883"
     },
     "user_tz": 180
    },
    "id": "5XEsY1w03VID",
    "outputId": "3e24bb96-0aa7-4bdd-a6a3-27a32e14831e"
   },
   "outputs": [
    {
     "data": {
      "text/plain": [
       "array([[  0., -10.,   1.,   0.],\n",
       "       [  0., -16.,   0.,   1.],\n",
       "       [  0.,  -0.,   0.,   0.]])"
      ]
     },
     "execution_count": 42,
     "metadata": {
      "tags": []
     },
     "output_type": "execute_result"
    }
   ],
   "source": [
    "np.hstack((np.zeros((1,1)), sys.C))\n",
    "np.hstack((np.zeros((3,1)), sys.A))\n"
   ]
  },
  {
   "cell_type": "code",
   "execution_count": 111,
   "metadata": {
    "colab": {
     "base_uri": "https://localhost:8080/",
     "height": 86
    },
    "executionInfo": {
     "elapsed": 137,
     "status": "ok",
     "timestamp": 1601067258375,
     "user": {
      "displayName": "gonzalo molina",
      "photoUrl": "",
      "userId": "03146719216223860883"
     },
     "user_tz": 180
    },
    "id": "_ZyQvnrx2Swj",
    "outputId": "aaee9f45-edec-4458-c91a-b13b6c16a2cc"
   },
   "outputs": [
    {
     "data": {
      "text/plain": [
       "array([[  0.,   1.,   0.,   0.],\n",
       "       [  0., -10.,   1.,   0.],\n",
       "       [  0., -16.,   0.,   1.],\n",
       "       [  0.,  -0.,   0.,   0.]])"
      ]
     },
     "execution_count": 111,
     "metadata": {
      "tags": []
     },
     "output_type": "execute_result"
    }
   ],
   "source": [
    "Au=np.vstack((np.hstack((np.zeros((1,1)), sys.C)),\n",
    "              np.hstack((np.zeros((3,1)), sys.A))))\n",
    "Au"
   ]
  },
  {
   "cell_type": "code",
   "execution_count": 112,
   "metadata": {
    "colab": {
     "base_uri": "https://localhost:8080/",
     "height": 86
    },
    "executionInfo": {
     "elapsed": 124,
     "status": "ok",
     "timestamp": 1601067260230,
     "user": {
      "displayName": "gonzalo molina",
      "photoUrl": "",
      "userId": "03146719216223860883"
     },
     "user_tz": 180
    },
    "id": "HDLxcWv32Zcp",
    "outputId": "08459074-5a2d-4f4f-8971-a790a841b4c2"
   },
   "outputs": [
    {
     "data": {
      "text/plain": [
       "matrix([[ 0.],\n",
       "        [ 0.],\n",
       "        [ 0.],\n",
       "        [10.]])"
      ]
     },
     "execution_count": 112,
     "metadata": {
      "tags": []
     },
     "output_type": "execute_result"
    }
   ],
   "source": [
    "Bu = np.vstack((0,sys.B))\n",
    "Bu"
   ]
  },
  {
   "cell_type": "code",
   "execution_count": 113,
   "metadata": {
    "colab": {
     "base_uri": "https://localhost:8080/",
     "height": 35
    },
    "executionInfo": {
     "elapsed": 121,
     "status": "ok",
     "timestamp": 1601067278136,
     "user": {
      "displayName": "gonzalo molina",
      "photoUrl": "",
      "userId": "03146719216223860883"
     },
     "user_tz": 180
    },
    "id": "xTjVE_VV4Fyd",
    "outputId": "53c42b25-7d44-4edd-a92a-6bc09917ec85"
   },
   "outputs": [
    {
     "data": {
      "text/plain": [
       "matrix([[  2.4116712, -29.1264696,   3.81148  ,  -0.35     ]])"
      ]
     },
     "execution_count": 113,
     "metadata": {
      "tags": []
     },
     "output_type": "execute_result"
    }
   ],
   "source": [
    "\n",
    "Ku = ctrl.place(Au,Bu, np.array([-1.42, -1.04+2.14j,-1.04-2.14j, -3])) \n",
    "Ku"
   ]
  },
  {
   "cell_type": "code",
   "execution_count": 56,
   "metadata": {
    "colab": {
     "base_uri": "https://localhost:8080/",
     "height": 35
    },
    "executionInfo": {
     "elapsed": 89,
     "status": "ok",
     "timestamp": 1601064658307,
     "user": {
      "displayName": "gonzalo molina",
      "photoUrl": "",
      "userId": "03146719216223860883"
     },
     "user_tz": 180
    },
    "id": "e83Oos2L4wHu",
    "outputId": "795bc121-f660-4ad2-e43e-f84f668e48a9"
   },
   "outputs": [
    {
     "data": {
      "text/plain": [
       "2.411671199999967"
      ]
     },
     "execution_count": 56,
     "metadata": {
      "tags": []
     },
     "output_type": "execute_result"
    }
   ],
   "source": [
    "Ki=Ku[0,0]\n",
    "Ki"
   ]
  },
  {
   "cell_type": "code",
   "execution_count": 82,
   "metadata": {
    "colab": {
     "base_uri": "https://localhost:8080/",
     "height": 138
    },
    "executionInfo": {
     "elapsed": 171,
     "status": "ok",
     "timestamp": 1601066269611,
     "user": {
      "displayName": "gonzalo molina",
      "photoUrl": "",
      "userId": "03146719216223860883"
     },
     "user_tz": 180
    },
    "id": "W51VcJ0p46dv",
    "outputId": "204a55ec-734b-4811-fca2-648638db3154"
   },
   "outputs": [
    {
     "data": {
      "text/plain": [
       "A = [[0.]]\n",
       "\n",
       "B = [[ 2.4116712 -2.4116712]]\n",
       "\n",
       "C = [[1.]]\n",
       "\n",
       "D = [[0. 0.]]"
      ]
     },
     "execution_count": 82,
     "metadata": {
      "tags": []
     },
     "output_type": "execute_result"
    }
   ],
   "source": [
    "integrador=ctrl.ss([[0]],[[Ki,-Ki]],[1],[0, 0])\n",
    "integrador"
   ]
  },
  {
   "cell_type": "code",
   "execution_count": 114,
   "metadata": {
    "colab": {
     "base_uri": "https://localhost:8080/",
     "height": 69
    },
    "executionInfo": {
     "elapsed": 61,
     "status": "ok",
     "timestamp": 1601067364768,
     "user": {
      "displayName": "gonzalo molina",
      "photoUrl": "",
      "userId": "03146719216223860883"
     },
     "user_tz": 180
    },
    "id": "GqECqPKz5lsy",
    "outputId": "f9109784-4fa7-431e-aab4-ab0acc349ab0"
   },
   "outputs": [
    {
     "data": {
      "text/plain": [
       "matrix([[  0.5     ],\n",
       "        [ 61.5332  ],\n",
       "        [217.050408]])"
      ]
     },
     "execution_count": 114,
     "metadata": {
      "tags": []
     },
     "output_type": "execute_result"
    }
   ],
   "source": [
    "###  Estimado  mas ley de control\n",
    "\n",
    "L=ctrl.place(sys.A.T, sys.C.T, np.array([-1.42, -1.04+2.14j,-1.04-2.14j])*3).T\n",
    "L"
   ]
  },
  {
   "cell_type": "code",
   "execution_count": 115,
   "metadata": {
    "colab": {
     "base_uri": "https://localhost:8080/",
     "height": 69
    },
    "executionInfo": {
     "elapsed": 93,
     "status": "ok",
     "timestamp": 1601067365280,
     "user": {
      "displayName": "gonzalo molina",
      "photoUrl": "",
      "userId": "03146719216223860883"
     },
     "user_tz": 180
    },
    "id": "s8sJaVhB7q4h",
    "outputId": "bb5821b4-cf52-4b10-82d5-ece890af7896"
   },
   "outputs": [
    {
     "data": {
      "text/plain": [
       "matrix([[ -10.5     ,    1.      ,    0.      ],\n",
       "        [ -77.5332  ,    0.      ,    1.      ],\n",
       "        [-217.050408,    0.      ,    0.      ]])"
      ]
     },
     "execution_count": 115,
     "metadata": {
      "tags": []
     },
     "output_type": "execute_result"
    }
   ],
   "source": [
    "Ae=sys.A-L@sys.C\n",
    "Ae"
   ]
  },
  {
   "cell_type": "code",
   "execution_count": 116,
   "metadata": {
    "colab": {
     "base_uri": "https://localhost:8080/",
     "height": 69
    },
    "executionInfo": {
     "elapsed": 94,
     "status": "ok",
     "timestamp": 1601067365912,
     "user": {
      "displayName": "gonzalo molina",
      "photoUrl": "",
      "userId": "03146719216223860883"
     },
     "user_tz": 180
    },
    "id": "KP1zSKxc7xW3",
    "outputId": "7cdc84d0-a3ce-4747-8989-3bb351c9a991"
   },
   "outputs": [
    {
     "data": {
      "text/plain": [
       "matrix([[  0.5     ,   0.      ],\n",
       "        [ 61.5332  ,   0.      ],\n",
       "        [217.050408,  10.      ]])"
      ]
     },
     "execution_count": 116,
     "metadata": {
      "tags": []
     },
     "output_type": "execute_result"
    }
   ],
   "source": [
    "Be=np.hstack((L,sys.B))\n",
    "Be"
   ]
  },
  {
   "cell_type": "code",
   "execution_count": 117,
   "metadata": {
    "colab": {
     "base_uri": "https://localhost:8080/",
     "height": 35
    },
    "executionInfo": {
     "elapsed": 85,
     "status": "ok",
     "timestamp": 1601067366792,
     "user": {
      "displayName": "gonzalo molina",
      "photoUrl": "",
      "userId": "03146719216223860883"
     },
     "user_tz": 180
    },
    "id": "Hdl8n3i58IVH",
    "outputId": "14499339-d225-4f93-b3b8-82abaa9f5167"
   },
   "outputs": [
    {
     "data": {
      "text/plain": [
       "matrix([[29.1264696, -3.81148  ,  0.35     ]])"
      ]
     },
     "execution_count": 117,
     "metadata": {
      "tags": []
     },
     "output_type": "execute_result"
    }
   ],
   "source": [
    "\n",
    "Ce=-Ku[0,1:]\n",
    "Ce"
   ]
  },
  {
   "cell_type": "code",
   "execution_count": 87,
   "metadata": {
    "executionInfo": {
     "elapsed": 148,
     "status": "ok",
     "timestamp": 1601066272646,
     "user": {
      "displayName": "gonzalo molina",
      "photoUrl": "",
      "userId": "03146719216223860883"
     },
     "user_tz": 180
    },
    "id": "LZmu2ztl8kEe"
   },
   "outputs": [],
   "source": [
    "De=0\n",
    "estim = ctrl.ss(Ae,Be,Ce,0)"
   ]
  },
  {
   "cell_type": "code",
   "execution_count": 88,
   "metadata": {
    "colab": {
     "base_uri": "https://localhost:8080/",
     "height": 207
    },
    "executionInfo": {
     "elapsed": 147,
     "status": "ok",
     "timestamp": 1601066273400,
     "user": {
      "displayName": "gonzalo molina",
      "photoUrl": "",
      "userId": "03146719216223860883"
     },
     "user_tz": 180
    },
    "id": "IPTTCfpr85el",
    "outputId": "3ab36edc-1b6b-4fb5-9d0a-05259ef94979"
   },
   "outputs": [
    {
     "data": {
      "text/plain": [
       "A = [[ -10.5         1.          0.      ]\n",
       " [ -77.5332      0.          1.      ]\n",
       " [-217.050408    0.          0.      ]]\n",
       "\n",
       "B = [[  0.5        0.      ]\n",
       " [ 61.5332     0.      ]\n",
       " [217.050408  10.      ]]\n",
       "\n",
       "C = [[29.1264696 -3.81148    0.35     ]]\n",
       "\n",
       "D = [[0. 0.]]"
      ]
     },
     "execution_count": 88,
     "metadata": {
      "tags": []
     },
     "output_type": "execute_result"
    }
   ],
   "source": [
    "estim"
   ]
  },
  {
   "cell_type": "code",
   "execution_count": 122,
   "metadata": {
    "executionInfo": {
     "elapsed": 123,
     "status": "ok",
     "timestamp": 1601069598163,
     "user": {
      "displayName": "gonzalo molina",
      "photoUrl": "",
      "userId": "03146719216223860883"
     },
     "user_tz": 180
    },
    "id": "s5yGIPBR86ME"
   },
   "outputs": [],
   "source": [
    "planta_controlada = ctrl.connect(ctrl.append(sys, estim, integrador), \n",
    "                                 [[1,2],[1,3],[2,1],[3,2],[3,3],[5,1]],[4],[1,2,3])"
   ]
  },
  {
   "cell_type": "code",
   "execution_count": 123,
   "metadata": {
    "colab": {
     "base_uri": "https://localhost:8080/",
     "height": 587
    },
    "executionInfo": {
     "elapsed": 121,
     "status": "ok",
     "timestamp": 1601069600077,
     "user": {
      "displayName": "gonzalo molina",
      "photoUrl": "",
      "userId": "03146719216223860883"
     },
     "user_tz": 180
    },
    "id": "JodXPQO09hD9",
    "outputId": "3c1d1735-5018-4aef-d1cc-16abf17b9c21"
   },
   "outputs": [
    {
     "data": {
      "text/plain": [
       "A = [[-10.          1.          0.          0.          0.          0.\n",
       "    0.       ]\n",
       " [-16.          0.          1.          0.          0.          0.\n",
       "    0.       ]\n",
       " [  0.          0.          0.        291.264696  -38.1148      3.5\n",
       "   10.       ]\n",
       " [  0.5         0.          0.        -10.5         1.          0.\n",
       "    0.       ]\n",
       " [ 61.5332      0.          0.        -77.5332      0.          1.\n",
       "    0.       ]\n",
       " [217.050408    0.          0.         74.214288  -38.1148      3.5\n",
       "   10.       ]\n",
       " [ -2.4116712   0.          0.          0.          0.          0.\n",
       "    0.       ]]\n",
       "\n",
       "B = [[0.       ]\n",
       " [0.       ]\n",
       " [0.       ]\n",
       " [0.       ]\n",
       " [0.       ]\n",
       " [0.       ]\n",
       " [2.4116712]]\n",
       "\n",
       "C = [[ 1.         0.         0.         0.         0.         0.\n",
       "   0.       ]\n",
       " [ 0.         0.         0.        29.1264696 -3.81148    0.35\n",
       "   0.       ]\n",
       " [ 0.         0.         0.         0.         0.         0.\n",
       "   1.       ]]\n",
       "\n",
       "D = [[0.]\n",
       " [0.]\n",
       " [0.]]"
      ]
     },
     "execution_count": 123,
     "metadata": {
      "tags": []
     },
     "output_type": "execute_result"
    }
   ],
   "source": [
    "planta_controlada"
   ]
  },
  {
   "cell_type": "code",
   "execution_count": 124,
   "metadata": {
    "executionInfo": {
     "elapsed": 146,
     "status": "ok",
     "timestamp": 1601069601080,
     "user": {
      "displayName": "gonzalo molina",
      "photoUrl": "",
      "userId": "03146719216223860883"
     },
     "user_tz": 180
    },
    "id": "rbAlftZN9iqa"
   },
   "outputs": [],
   "source": [
    "t,y = ctrl.step_response(planta_controlada)"
   ]
  },
  {
   "cell_type": "code",
   "execution_count": 125,
   "metadata": {
    "colab": {
     "base_uri": "https://localhost:8080/",
     "height": 35
    },
    "executionInfo": {
     "elapsed": 118,
     "status": "ok",
     "timestamp": 1601069602083,
     "user": {
      "displayName": "gonzalo molina",
      "photoUrl": "",
      "userId": "03146719216223860883"
     },
     "user_tz": 180
    },
    "id": "xyw-x2pr9tg5",
    "outputId": "f909c522-af22-4b3e-a58b-ab29e5ca0a03"
   },
   "outputs": [
    {
     "data": {
      "text/plain": [
       "[<matplotlib.lines.Line2D at 0x7f2de75f9810>]"
      ]
     },
     "execution_count": 125,
     "metadata": {
      "tags": []
     },
     "output_type": "execute_result"
    }
   ],
   "source": [
    "plt.plot(t,y[1,:])"
   ]
  },
  {
   "cell_type": "code",
   "execution_count": 126,
   "metadata": {
    "colab": {
     "base_uri": "https://localhost:8080/",
     "height": 52
    },
    "executionInfo": {
     "elapsed": 98,
     "status": "ok",
     "timestamp": 1601069608244,
     "user": {
      "displayName": "gonzalo molina",
      "photoUrl": "",
      "userId": "03146719216223860883"
     },
     "user_tz": 180
    },
    "id": "YApZZWyD9vSw",
    "outputId": "3ad7cb80-dacb-4b7f-b336-fa54add3112a"
   },
   "outputs": [
    {
     "data": {
      "text/plain": [
       "array([-3.12+6.42j, -3.12-6.42j, -1.04+2.14j, -1.04-2.14j, -4.26+0.j  ,\n",
       "       -3.  +0.j  , -1.42+0.j  ])"
      ]
     },
     "execution_count": 126,
     "metadata": {
      "tags": []
     },
     "output_type": "execute_result"
    }
   ],
   "source": [
    "planta_controlada.pole()"
   ]
  },
  {
   "cell_type": "code",
   "execution_count": 129,
   "metadata": {
    "colab": {
     "base_uri": "https://localhost:8080/",
     "height": 35
    },
    "executionInfo": {
     "elapsed": 108,
     "status": "ok",
     "timestamp": 1601070775243,
     "user": {
      "displayName": "gonzalo molina",
      "photoUrl": "",
      "userId": "03146719216223860883"
     },
     "user_tz": 180
    },
    "id": "VroD8-gpCUGv",
    "outputId": "7c68b395-7c4e-4da5-afed-dbb32c8c87b9"
   },
   "outputs": [
    {
     "data": {
      "text/plain": [
       "[<matplotlib.lines.Line2D at 0x7f2de6feb250>]"
      ]
     },
     "execution_count": 129,
     "metadata": {
      "tags": []
     },
     "output_type": "execute_result"
    }
   ],
   "source": [
    "plt.plot(t,y[1,:])"
   ]
  },
  {
   "cell_type": "code",
   "execution_count": 128,
   "metadata": {
    "colab": {
     "base_uri": "https://localhost:8080/",
     "height": 35
    },
    "executionInfo": {
     "elapsed": 222,
     "status": "ok",
     "timestamp": 1601070749676,
     "user": {
      "displayName": "gonzalo molina",
      "photoUrl": "",
      "userId": "03146719216223860883"
     },
     "user_tz": 180
    },
    "id": "eBCopeXSQFb_",
    "outputId": "5abb7ee4-7256-4121-b8cf-34a840b89fff"
   },
   "outputs": [
    {
     "data": {
      "text/plain": [
       "[<matplotlib.lines.Line2D at 0x7f2de6ef1a10>]"
      ]
     },
     "execution_count": 128,
     "metadata": {
      "tags": []
     },
     "output_type": "execute_result"
    }
   ],
   "source": [
    "plt.plot(t,y[0,:])"
   ]
  },
  {
   "cell_type": "code",
   "execution_count": null,
   "metadata": {
    "id": "9xX8BcRcQNad"
   },
   "outputs": [],
   "source": []
  }
 ],
 "metadata": {
  "colab": {
   "collapsed_sections": [
    "OOewQwPNvU2S"
   ],
   "name": "Diseño motor de corriente continua.ipynb",
   "provenance": []
  },
  "kernelspec": {
   "display_name": "Python 3",
   "language": "python",
   "name": "python3"
  },
  "language_info": {
   "codemirror_mode": {
    "name": "ipython",
    "version": 3
   },
   "file_extension": ".py",
   "mimetype": "text/x-python",
   "name": "python",
   "nbconvert_exporter": "python",
   "pygments_lexer": "ipython3",
   "version": "3.7.9"
  },
  "nbTranslate": {
   "displayLangs": [
    "*"
   ],
   "hotkey": "alt-t",
   "langInMainMenu": true,
   "sourceLang": "en",
   "targetLang": "fr",
   "useGoogleTranslate": true
  }
 },
 "nbformat": 4,
 "nbformat_minor": 4
}

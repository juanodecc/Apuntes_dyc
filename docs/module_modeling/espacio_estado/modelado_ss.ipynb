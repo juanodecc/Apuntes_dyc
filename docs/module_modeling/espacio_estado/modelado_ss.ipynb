{
 "cells": [
  {
   "cell_type": "markdown",
   "metadata": {},
   "source": [
    "# Método de Espacio de Estados\n",
    "\n",
    "## Definiciones\n",
    "\n",
    "Es la representación de ecuaciones de estado de orden N en N ecuaciones diferenciales de primer orden.\n",
    "\n",
    "El orden de las ecuaciones diferenciales es igual al número de integradores del sistema y es igual al número de variables de estado.\n",
    "\n",
    "Esta representación se usa para sistemas SISO y MIMO\n",
    "\n",
    "$$  \n",
    "a_n ~ y^n(t) + a_{n-1} ~ y^{n-1}(t) + ~ ... ~ + a_1 ~ \\dot{y}(t) + a_0 ~ y(t) = u(t)\n",
    "$$"
   ]
  },
  {
   "cell_type": "markdown",
   "metadata": {},
   "source": [
    "se definen las variables de estado $x_1,x_2,x_3~ \\cdots ~ x_n$ como:\n",
    "\n",
    "$$\n",
    "\\begin{matrix}\n",
    "\\begin{array}{c} x_1 = y\\\\ x_2 = \\dot y\\\\ x_3 = \\ddot y\\\\ \\vdots\\\\ x_{n-1} = y^{n-2}\\\\ x_n = y^{n-1} \\end{array} & \\left \\{ \\begin{array}{l} \\dot{x_1} = x_2 = \\dot y \\\\ \\dot{x_2} = x_3 = \\ddot y \\\\ \\dot{x_3} = x_4 = y^{3}\n",
    "\\\\ \\vdots\n",
    "\\\\ \\dot x_{n-1} = x_n = y^{n-1}\n",
    "\\\\ \\dot x_{n} = y_n = -\\frac{a_{n-1}}{a_n} x_n - \\cdots - \\frac{a_{1}}{a_n} x_2 - \\frac{a_{0}}{a_n} x_1 + \\frac{1}{a_n} u \\end{array}\\right.\n",
    "\\end{matrix}\n",
    "$$\n"
   ]
  },
  {
   "cell_type": "markdown",
   "metadata": {},
   "source": [
    "En forma matricial se puede expresar como:\n",
    "\n",
    "$$\n",
    "\\begin{aligned}\n",
    "\\dot{\\vec x}(t) &= f(\\vec x,u) = A~ \\vec x(t) + B~u(t) &(Ec.\\ de\\ estados)\\\\\n",
    "y(t) &= g(\\vec x,u) = C~ \\vec x(t) + D~ u(t) &(Ec.\\ de\\ salida)\n",
    "\\end{aligned}\n",
    "$$\n"
   ]
  },
  {
   "cell_type": "markdown",
   "metadata": {},
   "source": [
    "desarrollando las matrices:\n",
    "\n",
    "$$\n",
    "\\begin{bmatrix} \\dot{x_1}\\\\\\dot{x_2}\\\\ \\vdots \\\\ \\dot{x_n} \\end{bmatrix} \n",
    "= \\underbrace{\\begin{bmatrix}\n",
    "  0 & 1 & 0 & \\cdots & 0 \\\\\n",
    "  0 & 0 & 1 & \\cdots & 0 \\\\\n",
    "  \\vdots & \\vdots & \\vdots & \\ddots &  \\vdots \\\\\n",
    "  -\\frac{a_{0}}{a_n} & - \\frac{a_{1}}{a_n} & -\\frac{a_{2}}{a_n} &\\cdots & -\\frac{a_{n-1}}{a_n} \n",
    " \\end{bmatrix}}_{=A} \\begin{bmatrix} {x_1}\\\\{x_2}\\\\ \\vdots \\\\ {x_n} \\end{bmatrix} \n",
    " + \\underbrace{\\begin{bmatrix} 0 \\\\0\\\\ \\vdots \\\\ \\frac{1}{a_n} \\end{bmatrix}}_{=B}~ u\n",
    "$$\n",
    " \n",
    "$$\n",
    "y= \\underbrace{\\begin{bmatrix}  1 & 0 & \\cdots & 0 \\end{bmatrix}}_{ =~C} \n",
    "   \\begin{bmatrix} {x_1}\\\\{x_2}\\\\ \\vdots \\\\ {x_n} \\end{bmatrix} \n",
    " + \\underbrace{\\begin{bmatrix}0\\end{bmatrix}}_{=~D} ~u\n",
    " $$"
   ]
  },
  {
   "cell_type": "markdown",
   "metadata": {},
   "source": [
    "## **Ejemplo #1:** Sistema electromecánico (motor eléctrico) representación en espacio de estados\n",
    "### Desarrollo de las ecuaciones"
   ]
  },
  {
   "cell_type": "markdown",
   "metadata": {},
   "source": [
    "Del ejemplo anterior reescribimos las ecuaciones que describen la dinámica del motor eléctrico, de forma conveniente (en ambos casos la derivada de mayor orden a la izquierda del signo igual):\n",
    "\n",
    "$$ \n",
    "\\left\\{\\begin{array}{c}\n",
    "\\frac{di_a(t)}{dt} = \\frac{1}{L_a} e_a(t) -\\frac{ R_a}{L_a} i_a(t) -  \\frac{K_b}{L_a} \\frac{d\\theta_m(t)}{dt}  \\\\\n",
    "\\frac{d^2\\theta_m(t)}{dt^2} =   \\frac{K_t}{J_m} i_a(t) - \\frac{D_m}{J_m}\\frac{d\\theta_m(t)}{dt} - \\frac{1}{J_m} T_r(t)\n",
    "\\end{array}\\right.\n",
    "$$"
   ]
  },
  {
   "cell_type": "markdown",
   "metadata": {},
   "source": [
    "propondremos como variables de estados (VE) a $i_a(t)$,$\\frac{d\\theta_m(t)}{dt}$ y $\\theta_m(t)$ por lo que,\n",
    "\n",
    "$$\n",
    "\\begin{matrix}\n",
    "u(t) = e_a(t) &\\mbox{y}& w(t)= T_r(t)\\\\\n",
    "x_1 = i_a &\\Longrightarrow & \\dot{x_1}=\\frac{di_a}{dt} \\\\\n",
    "x_2 = \\frac{d\\theta_m(t)}{dt} &\\Longrightarrow & \\dot{x_2}=\\frac{d^2\\theta_m}{dt^2}\\\\\n",
    "x_3 = \\theta_m &\\Longrightarrow & \\dot{x_3}=\\frac{d\\theta_m}{dt} = x_2\n",
    "\\end{matrix}\n",
    "$$\n",
    "\n",
    "reemplazamos el cambio de variables:\n",
    "\n",
    "$$\n",
    "\\left\\{\\begin{array}{c}\n",
    "\\dot{x_1} = \\frac{1}{L_a} u(t) -\\frac{ R_a}{L_a} x_1(t) -  \\frac{K_b}{L_a} x_2(t) \\\\\n",
    "\\dot{x_2} = \\frac{K_t}{J_m} x_1(t) - \\frac{D_m}{J_m} x_2(t) - \\frac{1}{J_m} w(t)\\\\\n",
    "\\dot{x_3} =  x_2\n",
    "\\end{array}\\right.\n",
    "$$\n"
   ]
  },
  {
   "cell_type": "markdown",
   "metadata": {},
   "source": [
    "Finalmente en forma matricial tenemos que:\n",
    "\n",
    "$$\n",
    "\\begin{bmatrix} \\dot{x_1}\\\\\\dot{x_2} \\\\ \\dot{x_3} \\end{bmatrix} \n",
    "= \n",
    "~\n",
    "\\underbrace{\\begin{bmatrix}\n",
    "-\\frac{ R_a}{L_a} &  -  \\frac{K_b}{L_a} & 0\\\\\n",
    "\\frac{K_t}{J_m} & - \\frac{D_m}{J_m} & 0\\\\\n",
    "0 & 1 & 0\n",
    "\\end{bmatrix}}_{=~A}\n",
    "~ \n",
    "\\begin{bmatrix} {x_1}\\\\{x_2}\\\\ {x_3} \\end{bmatrix} \n",
    "+ \n",
    "\\underbrace{\\begin{bmatrix} \\frac{1}{L_a}\\\\0 \\\\0\\end{bmatrix} }_{=~B}\n",
    "u \n",
    "+\n",
    "~ \\underbrace{\\begin{bmatrix} 0\\\\- \\frac{1}{J_m} \\\\0\\end{bmatrix} }_{=~B_1}\n",
    "w\\\\\n",
    "y = ~ \\underbrace{\\begin{bmatrix} 0 &  0 & 1\\end{bmatrix}}_{=~C} \n",
    "\\begin{bmatrix} {x_1}\\\\{x_2}\\\\ {x_3} \\end{bmatrix} \n",
    "+\n",
    "~ \\underbrace{\\begin{bmatrix} 0 \\end{bmatrix} }_{=~D}\n",
    "u\n",
    "$$"
   ]
  },
  {
   "cell_type": "markdown",
   "metadata": {},
   "source": [
    "### Simulación"
   ]
  },
  {
   "cell_type": "code",
   "execution_count": 18,
   "metadata": {},
   "outputs": [
    {
     "data": {
      "text/plain": [
       "A = [[-1.45454545e+06 -9.96363636e+03  0.00000000e+00]\n",
       " [ 8.48717631e+03 -1.08651344e+00  0.00000000e+00]\n",
       " [ 0.00000000e+00  1.00000000e+00  0.00000000e+00]]\n",
       "\n",
       "B = [[363636.36363636]\n",
       " [     0.        ]\n",
       " [     0.        ]]\n",
       "\n",
       "C = [[0. 0. 1.]]\n",
       "\n",
       "D = [[0.]]"
      ]
     },
     "execution_count": 18,
     "metadata": {},
     "output_type": "execute_result"
    }
   ],
   "source": [
    "import control as ctrl\n",
    "import matplotlib.pyplot as plt\n",
    "import numpy as np\n",
    "%matplotlib qt5\n",
    "\n",
    "Jm = 3.2284E-6\n",
    "Dm = 3.5077E-6\n",
    "Kb = 0.0274\n",
    "Kt = 0.0274\n",
    "Ra = 4\n",
    "La = 2.75E-6\n",
    "\n",
    "A=[[-Ra/La,-Kb/La,0],[Kt/Jm,-Dm/Jm,0],[0,1,0]]\n",
    "B=[[1/La],[0],[0]]\n",
    "C=[0,0,1]\n",
    "D=0\n",
    "\n",
    "motor_ss=ctrl.StateSpace(A,B,C,D)\n",
    "motor_ss"
   ]
  },
  {
   "cell_type": "code",
   "execution_count": 20,
   "metadata": {},
   "outputs": [],
   "source": [
    "t=np.linspace(0,0.1,100)\n",
    "t,y=ctrl.step_response(motor_ss,T=t)\n",
    "\n",
    "plt.figure()\n",
    "plt.plot(t,y)\n",
    "plt.title('Posición angular del motor')\n",
    "plt.grid()"
   ]
  },
  {
   "cell_type": "markdown",
   "metadata": {},
   "source": [
    "Ahora supongamos que deseamos medir velocidad angular del motor, es decir la variable de estado $x_2$, entonces definimos la matriz $C = \\begin{bmatrix}0 & 1 & 0\\end{bmatrix}$ y graficamos la respues al escalón:"
   ]
  },
  {
   "cell_type": "code",
   "execution_count": 21,
   "metadata": {},
   "outputs": [],
   "source": [
    "C=[0,1,0]\n",
    "\n",
    "motor_vel_ss=ctrl.StateSpace(A,B,C,D)\n",
    "\n",
    "t=np.linspace(0,0.1,200)\n",
    "t,y=ctrl.step_response(24*motor_vel_ss,T=t)\n",
    "\n",
    "plt.figure()\n",
    "plt.plot(t,y)\n",
    "plt.title('Velocidad angular del motor')\n",
    "plt.grid()"
   ]
  },
  {
   "cell_type": "markdown",
   "metadata": {},
   "source": [
    "En los casos anteriores, el sistema es SISO, es decir 1 entrada y 1 salida, supongamos ahora que deseamos medir todas las variables de estado $\\theta_m(t)$ (la posición angular), $\\omega_m (t)= \\frac{d\\theta_m(t)}{dt}$ (la velocidad angular) y $i_a(t)$ (la corriente de armadura), para lo que deriniremos nuevamente la matriz de medición $C$ y graficaremos las variables de estado para una entrada del tipo escalón de $1 ~[Volt]$:"
   ]
  },
  {
   "cell_type": "code",
   "execution_count": 13,
   "metadata": {},
   "outputs": [
    {
     "data": {
      "text/plain": [
       "<Figure size 432x288 with 0 Axes>"
      ]
     },
     "metadata": {},
     "output_type": "display_data"
    },
    {
     "data": {
      "image/png": "[encoded data removed]",
      "text/plain": [
       "<Figure size 1080x288 with 3 Axes>"
      ]
     },
     "metadata": {},
     "output_type": "display_data"
    }
   ],
   "source": [
    "C=[[1,0,0],[0,1,0],[0,0,1]]\n",
    "D=[[0],[0],[0]]\n",
    "\n",
    "t=np.linspace(0,0.12,100)\n",
    "motor_ss=ctrl.StateSpace(A,B,C,D)\n",
    "motor_ss\n",
    "\n",
    "t,y=ctrl.step_response(24*motor_ss,T=t)\n",
    "\n",
    "plt.figure()\n",
    "#ver ejemplos de matplotlib\n",
    "fig, axes = plt.subplots(1, 3, figsize=(15, 4))\n",
    "axes[0].plot(t,y[0,:])\n",
    "axes[0].grid()\n",
    "axes[0].set_title(r\"Corriente de armadura $i_a$\")\n",
    "\n",
    "axes[1].plot(t,y[1,:], 'g');\n",
    "axes[1].grid()\n",
    "axes[1].set_title(r\"Velocidad angular del motor $\\omega_m (t)$\")\n",
    "\n",
    "axes[2].plot(t,y[2,:], 'r', label=\"y = x\")\n",
    "axes[2].grid()\n",
    "axes[2].set_title( r\"Posición angular del motor $\\theta_m(t)$\");"
   ]
  },
  {
   "cell_type": "markdown",
   "metadata": {},
   "source": [
    "## **Ejemplo #2:** Masa-resorte-amortiguador (Lineal) - representación en espacio de estados\n",
    "### Modelo:\n",
    "Para el siguiente modelo, consideraremos que el resorte cumple con la ley de Hooke, los parámetros del sistema $m, k~\\mbox{y}~ b$ son concentrados y no varian con el tiempo, finalmente tomaremos que el sistema se encuentra en el punto de equilibrio $x_0= \\frac{m g}{k}$ \n",
    "\n"
   ]
  },
  {
   "cell_type": "markdown",
   "metadata": {},
   "source": [
    "### Desarrollo de las ecuaciones\n",
    "La entrada del sistema es $u(t) = F(t)$, plantearemos los estados de la forma siguiente:\n"
   ]
  }
 ],
 "metadata": {
  "kernelspec": {
   "display_name": "Python 3",
   "language": "python",
   "name": "python3"
  },
  "language_info": {
   "codemirror_mode": {
    "name": "ipython",
    "version": 3
   },
   "file_extension": ".py",
   "mimetype": "text/x-python",
   "name": "python",
   "nbconvert_exporter": "python",
   "pygments_lexer": "ipython3",
   "version": "3.9.5"
  }
 },
 "nbformat": 4,
 "nbformat_minor": 4
}

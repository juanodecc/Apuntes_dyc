{
 "cells": [
  {
   "cell_type": "markdown",
   "metadata": {},
   "source": [
    "# Ejemplo de Nyquist con polos complejos sobre el eje jw\n",
    "\n",
    "En este caso queresmos analizar la estabilidad del sistema $G(s)=\\frac{1}{s^2+a^2}$, par de polos complejos sobre el eje $j\\omega$ en $p_{1,2} =\\pm aj$"
   ]
  },
  {
   "cell_type": "markdown",
   "metadata": {},
   "source": [
    "## Nyquist asintotico \n",
    "\n",
    "comenzamos analizando el módulo y fase para $\\omega = 0$ y $\\omega \\rightarrow \\infty$\n",
    "\n",
    "$$\n",
    "\\begin{matrix}\n",
    "\\omega = 0 & ||=\\frac{1}{a^2} & \\sphericalangle = 0^\\circ \\\\\n",
    "\\omega \\rightarrow \\infty & ||=0 & \\sphericalangle = -180^\\circ\n",
    "\\end{matrix}\n",
    "$$\n"
   ]
  },
  {
   "cell_type": "markdown",
   "metadata": {},
   "source": [
    "Para este caso no agrega mucha información el Bode asintótico, para graficar el Nyquist de $\\omega = 0^+$ hasta $\\omega \\rightarrow +\\infty$\n",
    "\n",
    "<figure>\n",
    "<img style=\"display:block; margin-left: auto; margin-right: auto;\" src=\"ex_nyq_1_fig1.png\" width=\"700\" alt=\"ex_nyq_1_fig1.png\">\n",
    "<figcaption style=\"text-align:center; \"><i>Bode asintótico de $G(j\\omega)$</i></figcaption>\n",
    "</figure>"
   ]
  },
  {
   "cell_type": "markdown",
   "metadata": {},
   "source": [
    "\n",
    "<figure>\n",
    "<img style=\"display:block; margin-left: auto; margin-right: auto;\" src=\"ex_nyq_1_fig2.png\" width=\"700\" alt=\"ex_nyq_1_fig2.png\">\n",
    "<figcaption style=\"text-align:center; \"><i>Nyquist de $G(j\\omega)$ entre $\\omega = 0$ y $\\omega \\rightarrow a^{-}$</i></figcaption>\n",
    "</figure>"
   ]
  },
  {
   "cell_type": "markdown",
   "metadata": {},
   "source": [
    "\n",
    "<figure>\n",
    "<img style=\"display:block; margin-left: auto; margin-right: auto;\" src=\"ex_nyq_1_fig3.png\" width=\"700\" alt=\"ex_nyq_1_fig3.png\">\n",
    "<figcaption style=\"text-align:center; \"><i>Nyquist de $G(j\\omega)$ entre $\\omega = a^+$ y $\\omega \\rightarrow +\\infty$</i></figcaption>\n",
    "</figure>"
   ]
  },
  {
   "cell_type": "markdown",
   "metadata": {},
   "source": [
    "Finalmente falta cerrar por el infinito, para esto mapearemos el contorno parametrizado por $s= \\rho e^{j\\theta}+a e^{-j90^\\circ}$ para el polo en $p_1 = -ja$ y $s= \\rho e^{j\\theta}+a e^{j90^\\circ}$ para el polo en $p_2 = +ja$, es decir:\n",
    "\n",
    "$$\n",
    "G(s)\\Big|_{s=\\rho e^{j\\theta}+a e^{-j90^\\circ}} = \\frac{1}{ \\rho^2 e^{j2\\theta}-a^2+2a \\rho e^{j(\\theta-90)^\\circ}+a^2} \\approx \\frac{1}{ 2a \\rho e^{j(\\theta-90)^\\circ}} = \\frac{1}{ 2a \\rho}e^{j(90-\\theta)^\\circ}\n",
    "$$\n",
    "\n",
    "al evaluar para algunos puntos de $\\theta$ vemos que:\n",
    "\n",
    "$$\n",
    "\\begin{matrix}\n",
    "\\theta = -90^\\circ & \\sphericalangle G =180^\\circ \\\\\n",
    "\\theta = -45^\\circ & \\sphericalangle G =135^\\circ \\\\\n",
    "\\theta = 0^\\circ & \\sphericalangle G =90^\\circ \\\\\n",
    "\\theta = 45^\\circ & \\sphericalangle G =45^\\circ \\\\\n",
    "\\theta = 90^\\circ & \\sphericalangle G =0^\\circ\n",
    "\\end{matrix}\n",
    "$$\n",
    "\n",
    "<figure>\n",
    "<img style=\"display:block; margin-left: auto; margin-right: auto;\" src=\"ex_nyq_1_fig5.png\" width=\"700\" alt=\"ex_nyq_1_fig5.png\">\n",
    "<figcaption style=\"text-align:center; \"><i>Nyquist cierre por infinito</i></figcaption>\n",
    "</figure>\n"
   ]
  },
  {
   "cell_type": "markdown",
   "metadata": {},
   "source": [
    "De forma similar se puede mapear la curva en el polo en $p_2 = +ja$ como $s= \\rho e^{j\\theta}+a e^{j90^\\circ}$\n",
    "\n",
    "$$\n",
    "G(s)\\Big|_{s=\\rho e^{j\\theta}+a e^{+j90^\\circ}} = \\frac{1}{ 2a \\rho}e^{-j(90+\\theta)^\\circ}\n",
    "$$\n",
    "\n",
    "<figure>\n",
    "<img style=\"display:block; margin-left: auto; margin-right: auto;\" src=\"ex_nyq_1_fig6.png\" width=\"700\" alt=\"ex_nyq_1_fig6.png\">\n",
    "<figcaption style=\"text-align:center; \"><i>Nyquist cierre por infinito</i></figcaption>\n",
    "</figure>"
   ]
  },
  {
   "cell_type": "markdown",
   "metadata": {},
   "source": [
    "Finalmente podemos determinar la estabilidad del sistema para $k>0$ sabiendo que P=0 y contando las vuelta del Nyquist al punto $-1/k$ y calcular:\n",
    "\n",
    "$$Z=N+P$$\n",
    "\n",
    "Para este caso $N=0$ para todo $k>0$ y por lo tanto $Z=0$ para todo $k>0$ es decir es \"estable\" lo que no implica que sea BIBO estable.\n",
    "\n",
    "<figure>\n",
    "<img style=\"display:block; margin-left: auto; margin-right: auto;\" src=\"ex_nyq_1_fig7.png\" width=\"700\" alt=\"ex_nyq_1_fig7.png\">\n",
    "<figcaption style=\"text-align:center; \"><i>Nyquist cierre por infinito</i></figcaption>\n",
    "</figure>"
   ]
  },
  {
   "cell_type": "markdown",
   "metadata": {},
   "source": [
    "## Nyquist usando Python\n",
    "\n",
    "En la versión actual de la biblioteca de control 0.9.0 mejoraron mucho el plot de Nyquist, como podran ver a continuación, pero es difícil determinar estabilidad del dibujo. (recomiendo hacer `%matplotlib qt5` antes del `nyquist` o `nyquist_plot`)"
   ]
  },
  {
   "cell_type": "code",
   "execution_count": 1,
   "metadata": {},
   "outputs": [
    {
     "data": {
      "text/plain": [
       "'0.9.0'"
      ]
     },
     "execution_count": 1,
     "metadata": {},
     "output_type": "execute_result"
    }
   ],
   "source": [
    "import control as ctrl\n",
    "ctrl.__version__"
   ]
  },
  {
   "cell_type": "code",
   "execution_count": 2,
   "metadata": {},
   "outputs": [
    {
     "data": {
      "text/latex": [
       "$$\\frac{1}{s^2 + 1}$$"
      ],
      "text/plain": [
       "TransferFunction(array([1]), array([1, 0, 1]))"
      ]
     },
     "execution_count": 2,
     "metadata": {},
     "output_type": "execute_result"
    }
   ],
   "source": [
    "#polos complejos sobre el eje jw\n",
    "a = 1\n",
    "G=ctrl.tf(1,[1, 0 , a**2])\n",
    "G"
   ]
  },
  {
   "cell_type": "code",
   "execution_count": 3,
   "metadata": {},
   "outputs": [
    {
     "data": {
      "text/plain": [
       "2"
      ]
     },
     "execution_count": 3,
     "metadata": {},
     "output_type": "execute_result"
    },
    {
     "data": {
      "image/png": "[encoded data removed]",
      "text/plain": [
       "<Figure size 432x288 with 1 Axes>"
      ]
     },
     "metadata": {
      "needs_background": "light"
     },
     "output_type": "display_data"
    }
   ],
   "source": [
    "%matplotlib inline\n",
    "ctrl.nyquist(G)"
   ]
  },
  {
   "cell_type": "markdown",
   "metadata": {},
   "source": []
  }
 ],
 "metadata": {
  "kernelspec": {
   "display_name": "Python 3 (ipykernel)",
   "language": "python",
   "name": "python3"
  },
  "language_info": {
   "codemirror_mode": {
    "name": "ipython",
    "version": 3
   },
   "file_extension": ".py",
   "mimetype": "text/x-python",
   "name": "python",
   "nbconvert_exporter": "python",
   "pygments_lexer": "ipython3",
   "version": "3.10.2"
  }
 },
 "nbformat": 4,
 "nbformat_minor": 4
}

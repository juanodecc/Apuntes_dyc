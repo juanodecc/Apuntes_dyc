{
 "cells": [
  {
   "cell_type": "markdown",
   "metadata": {},
   "source": [
    "# Errores\n",
    "\n",
    "Al ver respuesta temporal, pudimos lograr la descripción de la respuesta transitoria de la señal de salida de un sistema, para ello definimos algunos párametros que identifican dicha respuesta, como ser $Ts$, $Tr$, $Tp$ y $Mp$. Ahora, nos centraremos en la \"parte estacionaria\" de la respuesta o salida del sistema, en otras palabras, nos interesa el valor final de la señal de salida luego del transitorio. Para esto, usaremos basicamente dos cosas, por un lado una definición para el error de estado estacionario y por otro lado el teorema del valor final para el cálculo de dicho error.\n",
    "\n",
    "\n",
    "## Definición importante\n",
    "Se define la señal de error $E(s)$  el equivalente en el dominio de Laplace de la señal $e(t)$ como:\n",
    "\n",
    "$$\n",
    "E(s)= R(s)-Y(s)\n",
    "$$\n",
    "\n",
    "para todo sistema donde, $R(s)$ es lo que quiero, es la referencia del sistema o el valor deseado y $Y(s)$ es lo que és, es la salida del sistema o la medicíon."
   ]
  },
  {
   "cell_type": "markdown",
   "metadata": {},
   "source": [
    "## Repaso del uso del Teorema del Valor Final (TVF)\n",
    "\n",
    "Si todos los polos de $sY(s)$ están en el lado izquierdo de plano $s$, entonces:\n",
    "\n",
    "$$\\lim_{t\\rightarrow\\infty}y(t)=\\lim_{s\\rightarrow 0}sY(s)$$"
   ]
  },
  {
   "cell_type": "markdown",
   "metadata": {},
   "source": [
    "### Ejemplo 1. Uso del teorema\n",
    "Encontrar el valor final de la señal $y(t)$ cuya transformada de Laplace es $Y(s)=\\dfrac{3(s+2)}{s(s^2+2s+10))}$.\n",
    "\n",
    "Par aver si podemos aplicar el teorema de valor final debemos fijarnos que todos los polos de $sY(s)$ esten en el lado izquierdo de plano $s$.\n",
    "\n",
    "Esto los podemos hacer:"
   ]
  },
  {
   "cell_type": "code",
   "execution_count": 8,
   "metadata": {},
   "outputs": [
    {
     "data": {
      "text/plain": [
       "array([-1.+3.j, -1.-3.j])"
      ]
     },
     "execution_count": 8,
     "metadata": {},
     "output_type": "execute_result"
    }
   ],
   "source": [
    "import control as ctrl\n",
    "Yaux=ctrl.tf([3,2],[1,2,10]) #es Y(s)*s\n",
    "Yaux.pole()"
   ]
  },
  {
   "cell_type": "markdown",
   "metadata": {},
   "source": [
    "Podemos ver que cumple con las hipótesis del teorema del valor final, entonce resolviendo el límite tenemos que:\n",
    "\n",
    "$$y(\\infty)==\\left. sY(s) \\right\\rvert_{s=0}=\\frac{3\\cdot 2}{10}=0.6$$\n",
    "\n",
    "Podemos verificar haciendo la respuesta al impulso, graficandola y viendo el valor final al cual tiende."
   ]
  },
  {
   "cell_type": "code",
   "execution_count": 9,
   "metadata": {},
   "outputs": [
    {
     "data": {
      "image/png": "[encoded data removed]",
      "text/plain": [
       "<Figure size 432x288 with 1 Axes>"
      ]
     },
     "metadata": {
      "needs_background": "light"
     },
     "output_type": "display_data"
    }
   ],
   "source": [
    "import matplotlib.pyplot as plt\n",
    "import numpy as np \n",
    "\n",
    "Y=ctrl.tf([3,6],[1,2,10,0])\n",
    "t,y=ctrl.impulse_response(Y,T=np.linspace(0,7,200)) \n",
    "fig = plt.figure()\n",
    "plt.plot(t,y)\n",
    "plt.xlabel(\"tiempo [seg]\")\n",
    "plt.ylabel(\"y(t)\")\n",
    "plt.grid()\n"
   ]
  },
  {
   "cell_type": "markdown",
   "metadata": {},
   "source": [
    "### Ejemplo 2: Uso incorrecto de este teorema.\n",
    "Obtener el valor final de la señal\n",
    "\n",
    "$$Y(s)=\\frac{3}{s(s-2)}$$\n",
    "\n",
    "Aplicando el teorema ciegamente sin tener en cuenta sus hipótesis, tenemos:\n",
    "\n",
    "$$y(\\infty)=\\left. sY(s) \\right\\rvert_{s=0}=-\\frac{3}{2}$$\n",
    "\n",
    "Sin embargo, podemos ver que:\n",
    "\n",
    "$$y(t)=\\left(-\\frac{3}{2}+\\frac{3}{2}e^{2t}\\right)\\mu(t)$$\n",
    "\n",
    "La cual tiende a infinito si $t$ tiende a infinito. EL SISTEMA ES INSETABLE!"
   ]
  },
  {
   "cell_type": "code",
   "execution_count": 11,
   "metadata": {},
   "outputs": [
    {
     "data": {
      "image/png": "[encoded data removed]",
      "text/plain": [
       "<Figure size 432x288 with 1 Axes>"
      ]
     },
     "metadata": {
      "needs_background": "light"
     },
     "output_type": "display_data"
    }
   ],
   "source": [
    "Y=ctrl.tf([3],[1,-2,0])\n",
    "t,y=ctrl.impulse_response(Y,T=np.linspace(0,4,200)) \n",
    "fig = plt.figure()\n",
    "plt.plot(t,y)\n",
    "plt.xlabel(\"tiempo [seg]\")\n",
    "plt.ylabel(\"y(t)\")\n",
    "plt.grid()"
   ]
  },
  {
   "cell_type": "markdown",
   "metadata": {},
   "source": [
    "## Error de estado estacionario y sistema tipo\n",
    "El error $e(t)$ de un sistema lo definido como la referencia menos la entrada. En la figura mostramos dos diagramas genéricos de bloques equivalentes, con la definición del error. Observemos del segundo diagrama de bloques, que si $H/I = 1, e(t) = a(t)$.\n",
    "\n",
    "Dicho error tendrá un transitorio, y luego llegará a un estacionario al cual se lo denomina error de estado estacionario.\n",
    "\n",
    "<img src=\"fig4.gif\" width=400px>\n"
   ]
  },
  {
   "cell_type": "markdown",
   "metadata": {},
   "source": [
    "### Caso especial: Retroalimentación unitaria y constantes de error\n",
    "\n",
    "Si $H = I$, podemos modelar el sistema con retroalimentación unitaria como muestra la siguiente figura.\n",
    "\n",
    "<img src=\"fig5.gif\" width=300px>\n",
    "\n",
    "donde $G(s) = I(s)D(s)G_p(s)$.\n",
    "\n",
    "Entonces tendremos:\n",
    "\n",
    "$$F(s) = \\dfrac{E(s)}{R(s)} = \\dfrac{1}{1+G(s)}$$\n",
    "\n",
    "Las entradas polinómicas las consideraremos $r(t) = \\dfrac{t^k}{k!}$ para $t>0$, siendo su transformada de Laplace $R(s)=\\dfrac{1}{s^{k+1}}$. Se toma como base un sistema mecánico genérico como refernecia para la nomenclatura, llamando para las entradas con $k=0$ entrada de posición, para $k=1$ entrada de velocidad, y para $k=2$ entrada de aceleración, sin tener en cuenta las unidades de la señal de entrada actual. Alicando el teorema del valor final\n",
    "\n",
    "$$\n",
    "\\begin{align}\n",
    "\\lim_{t\\rightarrow \\infty} e(t) & = e_{ss}= \\lim_{s\\rightarrow 0} sE(s)\\\\\n",
    "& = \\lim_{s\\rightarrow 0} \\frac{1}{1+G}R(s)\\\\\n",
    "& = \\lim_{s\\rightarrow 0} s \\frac{1}{1+G}\\frac{1}{s^{k+1}}\n",
    "\\end{align}\n",
    "$$"
   ]
  },
  {
   "cell_type": "markdown",
   "metadata": {},
   "source": [
    "Consideremos primero un sistema para donde $G(s)$ no tiene polo en el origin, es decir no un ningún integrador en $G(s)$ y que se tiene una entrada escalón $R(s)=\\dfrac{1}{s}$. De esta manera $r(t)$ es una entrada polinomial de grado 0. En este caso podemos escribir las ecuaciones anteriores:\n",
    "\n",
    "$$\n",
    "\\begin{align}\n",
    "e_{ss}  & = \\lim_{s\\rightarrow 0} s\\frac{1}{1+G(s)}\\frac{1}{s}\\\\\n",
    "\\dfrac{e_{ss}}{r_{ss}} & = \\dfrac{e_{ss}}{1}=e_{ss} = \\frac{1}{1+G(0)}\n",
    "\\end{align}\n",
    "$$\n"
   ]
  },
  {
   "cell_type": "markdown",
   "metadata": {},
   "source": [
    "donde $r_{ss} = \\lim_{t\\rightarrow \\infty} =1 $. Se definió que este sistema es de *Tipo 0* y definimos que la constante $G(0)\\triangleq K_p$ que llamamos constantes de error de posición. Notar que la ecuación anterior brinda el error relativo y si la entrada fuera un polinomio mayor a 1m el error resultante crecería sin límites. Un entrada polinomica de grado cero es el grado más lato que un sistema de *Tipo 0* puede seguir con error fínito.\n",
    "\n",
    "Si $G(s)$ tiene un polo en el origen, entonces podriamos continuar esta linea argumentativa y considerar un polinomio de orden 1 como entrada, quen es directo evaluarlo directamente de manera general. Para este caso es necesario describir el comportamoiento de la planta y el controlador  cuando $s$ se aproxima a 0. Para este proposito agrupamos todos los términos excpto los polos en el origen de la función $G(s)$ en la función $G_0(s)$, de manera que podamos definir $G_0(0)=K_n$ y podemos escribir la función $G(s)$ como:\n",
    "\n",
    "$$G(s) = \\frac{G_0(s)}{s^n}$$\n"
   ]
  },
  {
   "cell_type": "markdown",
   "metadata": {},
   "source": [
    "Así dsi por ejemplo $G(s)$ no tinene integradores , entonces $n=0$; si tiene 1 integrador entonces $n=1$, y así secesivamente. Sustituyendo esnto en la expresión del error:\n",
    "\n",
    "$$\n",
    "\\begin{align}\n",
    "e_{ss} & = \\lim_{s\\rightarrow 0 } s\\frac{1}{1+\\frac{G_0(s)}{s^n}}\\frac{1}{s^{k+1}}\\\\\n",
    "& = \\lim_{s\\rightarrow 0} \\frac{s^n}{s^n+k_n}\\frac{1}{s^k}\n",
    "\\end{align}\n",
    "$$\n",
    "\n",
    "Para esta ecuación podemos ver que si $n> k$ entonces $e =0$ y si $n<k$  entonces el error $e(t) \\rightarrow \\infty$.\n",
    "\n",
    "Si $n = k = 0$ entonces $e_{ss} = \\dfrac{1}{1+K_0}$ y si $n = k \\neq 0$ entonces $e_{ss} = \\frac{1}{K_n}$.\n",
    "\n",
    "Como se dijo anteriormente si $n= k =0$, la entrada es una señal polinomial de orden 0 y la constante $K_p$ se llama constante de posición, se la escribe $K_p$ y el sismeta se clásifica como sistema de *Tipo 0*. \n",
    "\n",
    "Si $n=k=1$, la entrada es un polinomio de orden 1 y se conoce como rampa o entrada de velocidad, y la constante $K_1$ se la llama constante de velocidad y se escribe $K_v$. Este sistema se clasifica como sistema de *Tipo 1*. De manera similar podemos extenerdnos a sistemas de *Tipo 2* y mayores."
   ]
  },
  {
   "cell_type": "markdown",
   "metadata": {},
   "source": [
    "En la siguiente tabla mostramos los principales resultados de los visto hasta recién:\n",
    "\n",
    "##### Errores en función del tipo de sistema\n",
    "\n",
    "| Tipo de entrada | Escalón (posición) | Rampa (velocidad) | Parabola (aceleración) |\n",
    "| :-: | :-: | :-: | :-: | \n",
    "| Tipo 0 | $\\frac{1}{1+K_p}$ | $\\infty$ | $\\infty$ |\n",
    "| Tipo 1 | 0 | $\\frac{1}{K_v}$ | $\\infty$ |\n",
    "| Tipo 2 | 0 | 0 | $\\frac{1}{K_a}$ |\n"
   ]
  },
  {
   "cell_type": "markdown",
   "metadata": {},
   "source": [
    "Podemos resumir entonces los calores de las constantes como:\n",
    "\\begin{align}\n",
    "K_p & = \\lim_{s\\rightarrow 0} G(s),& \\qquad n = 0\\\\\n",
    " K_v & = \\lim_{s\\rightarrow 0} sG(s),& \\qquad n = 1\\\\\n",
    " K_a & = \\lim_{s\\rightarrow 0} s^2G(s),& \\qquad n = 2\n",
    "\\end{align}\n",
    "\n"
   ]
  },
  {
   "cell_type": "markdown",
   "metadata": {},
   "source": [
    "### Ejemplo 1\n",
    "\n",
    "Determine el tipo de sistema, la constante de error y el error que se obtendrá para las entradas de la tabla para el sistema realimentado donde se tiene un controlador proporcional $D(s) = k_p$ y una planta $G_p(s) = \\frac{A}{\\tau s +1}$.\n",
    "\n",
    "**Solución**\n",
    "Siguiendo la nomenclatura tenemos que:\n",
    "\n",
    "$$G(s) = \\frac{k_p A}{\\tau s +1}$$\n",
    "\n",
    "Podemos ver que este sistema no tiene polos en 0 por lo que $n=0$. Entonces el sistema es *Tipo 0*.\n",
    "\n",
    "La consante de error es:\n",
    "\n",
    "$$K_p = \\lim_{s\\rightarrow 0} \\frac{k_p A}{\\tau s +1} = k_p A $$\n",
    "\n",
    "El error al escalón por lo tanto será:\n",
    "\n",
    "$$e_{ss} = \\frac{1}{1 + k_p A}$$\n",
    "\n",
    "Mirando la tabla podemos ver que para entradas rampas y parabolas el error será $\\infty$.\n",
    "\n",
    "\n"
   ]
  },
  {
   "cell_type": "code",
   "execution_count": 13,
   "metadata": {},
   "outputs": [
    {
     "data": {
      "image/png": "[encoded data removed]",
      "text/plain": [
       "<Figure size 432x288 with 1 Axes>"
      ]
     },
     "metadata": {
      "needs_background": "light"
     },
     "output_type": "display_data"
    }
   ],
   "source": [
    "kp=1\n",
    "A=2\n",
    "tau = 5\n",
    "\n",
    "G=ctrl.tf([kp*A],[tau,1])\n",
    "t,y =ctrl.step_response(G)\n",
    "plt.plot(t,y)\n",
    "plt.grid()"
   ]
  },
  {
   "cell_type": "code",
   "execution_count": 15,
   "metadata": {},
   "outputs": [
    {
     "data": {
      "image/png": "[encoded data removed]",
      "text/plain": [
       "<Figure size 432x288 with 1 Axes>"
      ]
     },
     "metadata": {
      "needs_background": "light"
     },
     "output_type": "display_data"
    }
   ],
   "source": [
    "T=ctrl.feedback(G,1)\n",
    "t,y =ctrl.step_response(T)\n",
    "plt.plot(t,y)\n",
    "plt.grid()"
   ]
  },
  {
   "cell_type": "code",
   "execution_count": 16,
   "metadata": {},
   "outputs": [
    {
     "data": {
      "image/png": "[encoded data removed]",
      "text/plain": [
       "<Figure size 432x288 with 1 Axes>"
      ]
     },
     "metadata": {
      "needs_background": "light"
     },
     "output_type": "display_data"
    }
   ],
   "source": [
    "Te = ctrl.feedback(1,G)\n",
    "t,y =ctrl.step_response(Te)\n",
    "plt.plot(t,y)\n",
    "plt.grid()"
   ]
  },
  {
   "cell_type": "markdown",
   "metadata": {},
   "source": [
    "### Ejemplo 2\n",
    "\n",
    "Mismo que el caso anterior pero ahora el constroaldor es del tiempo integral, es decir que $D(s)=\\dfrac{k_i}{s}$.\n",
    "\n",
    "**Solución**\n",
    "\n",
    "Ahora tenemos que:\n",
    "\n",
    "$$G(s)=\\frac{k_i A }{s(\\tau s +1)}$$\n",
    "\n",
    "por lo tanto el sistema es de *Tipo 1* ya que $n=1$.\n",
    "\n",
    "La constante tenemos definida la constante $K_v$\n",
    "\n",
    "$$K_v = \\lim_{s\\rightarrow 0} \\frac{s k_i A}{s(\\tau s +1)} = k_i A$$\n",
    "\n",
    "Error en estado estacionario al escalón será 0, mientras que a la rampa será:\n",
    "\n",
    "$$\\left.e_{ss}\\right|_{r(t)=t} = \\frac{1}{K_v} = \\frac{1}{k_i A}$$\n",
    "\n",
    "Para una entrada parábolica el error será $\\infty$"
   ]
  },
  {
   "cell_type": "code",
   "execution_count": 17,
   "metadata": {},
   "outputs": [
    {
     "data": {
      "image/png": "[encoded data removed]",
      "text/plain": [
       "<Figure size 432x288 with 1 Axes>"
      ]
     },
     "metadata": {
      "needs_background": "light"
     },
     "output_type": "display_data"
    }
   ],
   "source": [
    "ki=0.2\n",
    "G=ctrl.tf([ki*A],[tau,1,0])\n",
    "T=ctrl.feedback(G,1)\n",
    "t,y =ctrl.step_response(T)\n",
    "plt.plot(t,y)\n",
    "plt.grid()"
   ]
  },
  {
   "cell_type": "code",
   "execution_count": 18,
   "metadata": {},
   "outputs": [
    {
     "data": {
      "image/png": "[encoded data removed]",
      "text/plain": [
       "<Figure size 432x288 with 1 Axes>"
      ]
     },
     "metadata": {
      "needs_background": "light"
     },
     "output_type": "display_data"
    }
   ],
   "source": [
    "import numpy as np\n",
    "T_aux = ctrl.tf([1],[1,0])*T\n",
    "t,y =ctrl.step_response(T_aux, T=np.linspace(0,50,1000))\n",
    "plt.plot(t,y)\n",
    "plt.grid()"
   ]
  },
  {
   "cell_type": "markdown",
   "metadata": {},
   "source": [
    "### Para solucionar en casa (facil):\n",
    "Realizar el mismo trabajo si el controlador fuese un PI (porpocional-integral), es decir \n",
    "\n",
    "$$ D(s) = k_p + \\frac{k_i}{s}$$\n"
   ]
  },
  {
   "cell_type": "markdown",
   "metadata": {},
   "source": [
    "## Tipo de sistema para la regulación y rechazo a las perturabaciones\n",
    "\n",
    "Un sistema también puede ser clasificado según su habilidad para rechazar perturbaciones del tipo polinómica de manera análoga al esquema de clasificación hecho para el seguimiento a las referencias.\n",
    "\n",
    "Supongamos ahora que tenemos un sistema de la forma que se ve en la siguiente figura (**notar el cambio de notación**):\n",
    "\n",
    "<img src=\"close_loop_with_disturbance.png\" width=500px>\n",
    "\n"
   ]
  },
  {
   "cell_type": "markdown",
   "metadata": {},
   "source": [
    "Si queremos analizar como se comporta el error del sistema frente a una perturbación $W(s)$, vamos a pensar que la referencia $r(t)$ se mantiene en 0. Además para este curso no se va a tener en cuenta el ruido de medición $v(t)$. Así $V(s)=0$ y $R(s)=0$.\n",
    "\n",
    "Por lo tanto, recordando que $E(s) = R(s)-Y(s)$.\n",
    "\n",
    "Así tenemos que:\n",
    "\n",
    "$$E(s)= -Y(s)$$\n"
   ]
  },
  {
   "cell_type": "markdown",
   "metadata": {},
   "source": [
    "Nos interesa la función transferencia:\n",
    "$$\\frac{E(s)}{W(s)}=\\frac{-Y(s)}{W(s)} = -\\frac{G(s)}{1+G(s)D_{cl}} = T_w(s)$$\n",
    "\n",
    "debido a que la entrada es igual a 0, la slida es el error. De firna similar que para las entradas referencias, se dice que el sistema es *Tipo o* si para una perturabación escalón un sistema resulta con error constante distinto de 0 en estado estacionario; *Tipo 1* si para una rampa el error resutal constante distinto de 0 y así sucesivamente. En general, siguiendo el mismo enfoque usando para las entradas referencias, ausumimos que una consatne $n$ y una función $T_{o,w}(s)$ puede ser definida con las propiedades que:\n",
    "\n",
    "* $T_{o,w}(0) = \\dfrac{1}{K_{n,w}}$\n",
    "\n",
    "* $T_w(s) = s^nT_{o,w}(s)$"
   ]
  },
  {
   "cell_type": "markdown",
   "metadata": {},
   "source": [
    "Entonces el error en estado esetacionario a una entrada perturbativa que sea polinomial de grado $k$ es:\n",
    "\\begin{align}\n",
    "y_{ss} & = \\lim_{s\\rightarrow 0 } \\left[ sT_w(s)\\frac{1}{s^{k+1}}\\right]\\\\\n",
    "& = \\lim_{s\\rightarrow 0} \\left[ T_{o,w}(s)\\frac{s^n}{s^{k}}\\right] \n",
    "\\end{align}\n",
    "\n",
    "De acá tenemos que se $n>k$ el error es 0 y si $n<k$ el error no es acotado. Si $n = k$ el sistema es de tipo $k$ y el error es dado por $\\frac{1}{K_{n,w}}$."
   ]
  },
  {
   "cell_type": "markdown",
   "metadata": {},
   "source": [
    "### Ejemplo 3: Tipo de sistema para un motor de corriente continua con control de posición\n",
    "\n",
    "Considerar el modelo simplificado del motor de corriente continua con realimetnación unitaria como se muestra en la figura:\n",
    "\n",
    "<img src=\"motor_dc_simplified.png\" width=600px>\n",
    "\n",
    "Analizar el tipo de sistema para las referencias $R(s)$ y para las perturbaciones $W(w)$ para el sistema de la figura anterior. Suponiendo que $A$ y $B$ son constantes y que:\n",
    "1. $Dc(s) = k_p$\n",
    "1. $Dc(s) = k_p + \\dfrac{k_i}{s}$\n",
    "\n",
    "La función transferencia de la planta $G(s)$ es:\n",
    "\n",
    "$$G(s)=\\frac{A}{s(\\tau s + 1)}$$"
   ]
  },
  {
   "cell_type": "markdown",
   "metadata": {},
   "source": [
    "**Solución**\n",
    "Para el caso donde $D_c(s)=k_p$.\n",
    "\n",
    "**Primero analizamos el sistema para los cambios en la referencia.**\n",
    "\n",
    "Tenemos $G_0(s)= D_c(s)G(s) = k_p \\dfrac{A}{s(\\tau s + 1)}$.\n",
    "\n",
    "Vemos que el sistema tiene un polo en 0 por lo que $n=1$. Por lo tanto, para el seguimiento a regferencia tenemos que el sistema es *Tipo 1*, y que tenemos que $K_v$ es igual a\n",
    "\n",
    "$$K_v=\\lim_{s\\rightarrow 0}s  \\dfrac{k_pA}{s(\\tau s + 1)} = k_p A$$\n",
    "\n",
    "y el error sería:\n",
    "\n",
    "$$e_{ss}=\\frac{1}{K_v}=\\frac{1}{k_pA}$$\n",
    "\n",
    "**Analicemos ahora el caso 1 para el rechazo a perturbaciones.**\n",
    "\n",
    "Podemos ver que si hacemos $R(s)=0$ tenemos que:\n",
    "\n",
    "$$\n",
    "\\begin{align}\n",
    "T_w(s) & = \\frac{B}{A} \\frac{\\frac{A}{s(\\tau s +1)}}{1+\\frac{A}{s(\\tau s +1)}k_p}= \\frac{B}{s(\\tau s+1)+Ak_p}\\\\\n",
    "& = s^0 T_{0,w},\\\\\n",
    "n & = 0,\\\\\n",
    "K_{0, w} & = -\\frac{Ak_p}{B}\\\\\n",
    "\\end{align}\n",
    "$$\n",
    "\n",
    "Por lo que el error será:\n",
    "\n",
    "$$e_{ss} = -\\frac{B}{Ak_p}$$\n"
   ]
  },
  {
   "cell_type": "markdown",
   "metadata": {},
   "source": [
    "Ahora empecemos con el caso 2.\n",
    "\n",
    "**Primero analizamos el sistema para los cambios en la referencia.**\n",
    "\n",
    "Tenemos \n",
    "\n",
    "$$G_0(s)= D_c(s)G(s) = \\left(k_p + \\frac{k_i}{s}\\right) \\dfrac{A}{s(\\tau s + 1)} = \\frac{sk_p + k_i}{s} \\dfrac{A}{s(\\tau s + 1)} = \\frac{A(sk_p + k_i)}{s^2(\\tau s + 1)}$$\n",
    "\n",
    "Vemos que el sistema tiene dos poloa en 0 por lo que $n=2$. Por lo tanto, para el seguimiento a regferencia tenemos que el sistema es *Tipo 2*, y que tenemos que $K_a$ es igual a\n",
    "\n",
    "$$K_a=\\lim_{s^2\\rightarrow 0}s^2  \\dfrac{(sk_p+k_i)A}{s^2(\\tau s + 1)} = k_i A$$\n",
    "\n",
    "y el error sería:\n",
    "\n",
    "$$e_{ss}=\\frac{1}{K_a}=\\frac{1}{k_iA}$$\n"
   ]
  },
  {
   "cell_type": "markdown",
   "metadata": {},
   "source": [
    "**Para rechazo a perturbaciones sería:**\n",
    "\n",
    "$$\n",
    "\\begin{align}\n",
    "T_w(s) & = \\dfrac{B}{A} \\dfrac{\\dfrac{A}{s(\\tau s +1)}}{1+\\dfrac{A}{s(\\tau s +1)}\\left(k_p + \\dfrac{k_i}{s}\\right)}\\\\\n",
    " & = \\dfrac{B}{s(\\tau s+1)+A\\left(\\dfrac{k_p + k_is}{s}\\right)}\\\\\n",
    " & = \\dfrac{Bs}{s^2(\\tau s +1) + (k_ps+k_i)A }\\\\\n",
    "& = s^1 T_{1,w},\\\\\n",
    "n & = 1,\\\\\n",
    "K_{1, w} & = -\\frac{Ak_I}{B}\\\\\n",
    "\\end{align}\n",
    "$$\n",
    "\n",
    "Y el error de estado estacionario a la rampa resulta:\n",
    "\n",
    "$$e_{ss} = - \\frac{B}{Ak_i}$$"
   ]
  }
 ],
 "metadata": {
  "kernelspec": {
   "display_name": "Python 3",
   "language": "python",
   "name": "python3"
  },
  "language_info": {
   "codemirror_mode": {
    "name": "ipython",
    "version": 3
   },
   "file_extension": ".py",
   "mimetype": "text/x-python",
   "name": "python",
   "nbconvert_exporter": "python",
   "pygments_lexer": "ipython3",
   "version": "3.8.5"
  },
  "toc-autonumbering": true
 },
 "nbformat": 4,
 "nbformat_minor": 4
}
